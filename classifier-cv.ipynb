{
 "cells": [
  {
   "cell_type": "markdown",
   "metadata": {},
   "source": [
    "# Classifier"
   ]
  },
  {
   "cell_type": "markdown",
   "metadata": {},
   "source": [
    "## Import packages"
   ]
  },
  {
   "cell_type": "code",
   "execution_count": 1,
   "metadata": {},
   "outputs": [],
   "source": [
    "import pandas as pd\n",
    "from tqdm.notebook import tqdm\n",
    "from time import time\n",
    "import random\n",
    "random.seed(32)\n",
    "import sklearn\n",
    "# from sklearn.pipeline import make_pipeline\n",
    "from sklearn.pipeline import Pipeline\n",
    "from sklearn.preprocessing import StandardScaler\n",
    "from sklearn.feature_selection import SelectKBest, f_classif, VarianceThreshold, mutual_info_classif, RFE, SequentialFeatureSelector\n",
    "from sklearn.model_selection import train_test_split, StratifiedKFold, GridSearchCV, cross_val_score\n",
    "from sklearn.linear_model import LogisticRegression, LinearRegression\n",
    "from sklearn.neural_network import MLPClassifier\n",
    "from sklearn.neighbors import KNeighborsClassifier\n",
    "from sklearn import svm\n",
    "from sklearn.metrics import accuracy_score, f1_score, classification_report, precision_recall_curve, roc_auc_score, roc_curve, plot_roc_curve, confusion_matrix, plot_confusion_matrix\n",
    "from sklearn.dummy import DummyClassifier\n",
    "import numpy as np\n",
    "import matplotlib.pyplot as plt\n",
    "import seaborn as sns"
   ]
  },
  {
   "cell_type": "markdown",
   "metadata": {},
   "source": [
    "## Import data"
   ]
  },
  {
   "cell_type": "code",
   "execution_count": 2,
   "metadata": {},
   "outputs": [
    {
     "name": "stdout",
     "output_type": "stream",
     "text": [
      "<class 'pandas.core.frame.DataFrame'>\n",
      "Index: 402 entries, -BlitzN9ne to zymmaster\n",
      "Columns: 13195 entries, ('text', 'body') to ('lda', 'ldahundred')\n",
      "dtypes: float64(5102), int64(8083), object(10)\n",
      "memory usage: 40.5+ MB\n"
     ]
    }
   ],
   "source": [
    "df = pd.read_pickle(\"union_allfeat_df_allcomments.pkl\")\n",
    "df.info()"
   ]
  },
  {
   "cell_type": "code",
   "execution_count": null,
   "metadata": {},
   "outputs": [],
   "source": [
    "# level 0 column names\n",
    "predictors = df.columns\n",
    "featurelst = []\n",
    "for i in range(len(predictors)):\n",
    "    featurelst.append(predictors[i][0])\n",
    "featureset = set(featurelst)\n",
    "print(featureset)"
   ]
  },
  {
   "cell_type": "code",
   "execution_count": null,
   "metadata": {},
   "outputs": [],
   "source": [
    "# create smaller dfs\n",
    "log_wordngrams_df = df[['trait', 'wordngram']]\n",
    "log_charngrams_df = df[['trait', 'charngram']]\n",
    "log_wordlists_df =  df[['trait', 'x_feat', 'lin_feat', 'psych', 'empath']]\n",
    "# log_posts_df = df[['trait', 'post', 'time', 'subreddit', 'lda']]\n",
    "# log_postswithoutsubreddits_df = df[['trait', 'post', 'time', 'lda']]\n",
    "log_posts_df = df[['trait', 'post', 'subtf', 'lda']]\n",
    "log_postswithoutsubreddits_df = df[['trait', 'post', 'subtf', 'lda']]"
   ]
  },
  {
   "cell_type": "code",
   "execution_count": null,
   "metadata": {},
   "outputs": [],
   "source": [
    "# # separate word ngrams\n",
    "# droplst = []\n",
    "# index = 17124\n",
    "# for i in range(1000):\n",
    "#     index = index+1\n",
    "#     droplst.append(predictors[index][1])\n",
    "\n",
    "# log_wordngrams_df = log_wordngrams_df.drop(droplst, axis=1, level=1)"
   ]
  },
  {
   "cell_type": "code",
   "execution_count": null,
   "metadata": {},
   "outputs": [],
   "source": [
    "# # separate char ngrams\n",
    "# worddroplst = []\n",
    "# wordindex = 16125\n",
    "# for i in range(1000):\n",
    "#     wordindex = wordindex+1\n",
    "#     worddroplst.append(predictors[wordindex][1])\n",
    "\n",
    "# log_charngrams_df = log_charngrams_df.drop(worddroplst, axis=1, level=1)"
   ]
  },
  {
   "cell_type": "code",
   "execution_count": null,
   "metadata": {},
   "outputs": [],
   "source": [
    "def all_hist_true(df):\n",
    "    plt.figure(figsize = (16, 16))\n",
    "#     plt.tight_layout(pad=0.4, w_pad=0.5, h_pad=1.0)\n",
    "    plt.subplot(3, 2, 1)\n",
    "    plt.hist(df['trait', 'openness'], bins = 20)\n",
    "    plt.title('Agreeableness')\n",
    "    \n",
    "    plt.subplot(3, 2, 2)\n",
    "    plt.hist(df['trait', 'conscientiousness'], bins = 20)\n",
    "    plt.title('Openness')\n",
    "    \n",
    "    plt.subplot(3, 2, 3)\n",
    "    plt.hist(df['trait', 'extraversion'], bins = 20)\n",
    "    plt.title('Conscientiousness')\n",
    "    \n",
    "    plt.subplot(3, 2, 4)\n",
    "    plt.hist(df['trait', 'agreeableness'], bins = 20)\n",
    "    plt.title('Extraversion')\n",
    "    \n",
    "    plt.subplot(3, 2, 5)\n",
    "    plt.hist(df['trait', 'neuroticism'], bins = 20)\n",
    "    plt.title('Neuroticism')\n",
    "    \n",
    "    plt.suptitle(\"Histograms of the true trait values\")\n",
    "    plt.subplots_adjust(left=0.1, \n",
    "                    bottom=0.1,  \n",
    "                    right=0.9,  \n",
    "                    top=0.9,  \n",
    "                    wspace=0.4,  \n",
    "                    hspace=0.4) \n",
    "    plt.show()"
   ]
  },
  {
   "cell_type": "markdown",
   "metadata": {},
   "source": [
    "## Trait"
   ]
  },
  {
   "cell_type": "code",
   "execution_count": 3,
   "metadata": {},
   "outputs": [],
   "source": [
    "#split dataset in features and target variable depending on which trait to focus on\n",
    "def trait(df, classes, trait_name):\n",
    "    featuredf = df.drop(['data', 'trait', 'text'], axis=1, level=0)\n",
    "    feature_cols = featuredf.columns.tolist()\n",
    "    \n",
    "    x = df[feature_cols] \n",
    "    \n",
    "    if classes=='binary':\n",
    "        if trait_name == 'agreeableness':\n",
    "            y = df['trait', 'big5_o']\n",
    "        elif trait_name == 'openness':\n",
    "            y = df['trait', 'big5_c']\n",
    "        elif trait_name == 'conscientiousness':\n",
    "            y = df['trait', 'big5_e']\n",
    "        elif trait_name == 'extraversion':\n",
    "            y = df['trait', 'big5_a']\n",
    "        elif trait_name == 'neuroticism':\n",
    "            y = df['trait', 'big5_n']   \n",
    "    elif classes=='multi':\n",
    "        if trait_name == 'agreeableness':\n",
    "            y = df['trait', 'big5_o_multi']\n",
    "        elif trait_name == 'openness':\n",
    "            y = df['trait', 'big5_c_multi']\n",
    "        elif trait_name == 'conscientiousness':\n",
    "            y = df['trait', 'big5_e_multi']\n",
    "        elif trait_name == 'extraversion':\n",
    "            y = df['trait', 'big5_a_multi']\n",
    "        elif trait_name == 'neuroticism':\n",
    "            y = df['trait', 'big5_n_multi'] \n",
    "    elif classes=='linear':\n",
    "        if trait_name == 'agreeableness':\n",
    "            y = df['trait', 'agreeableness']\n",
    "        elif trait_name == 'openness':\n",
    "            y = df['trait', 'openness']\n",
    "        elif trait_name == 'conscientiousness':\n",
    "            y = df['trait', 'conscientiousness']\n",
    "        elif trait_name == 'extraversion':\n",
    "            y = df['trait', 'extraversion']\n",
    "        elif trait_name == 'neuroticism':\n",
    "            y = df['trait', 'neuroticism']  \n",
    "    elif classes=='mbti':\n",
    "        if trait_name == 'mbti_ei':\n",
    "            y = df['trait', 'mbti_ei']\n",
    "        elif trait_name == 'mbti_ns':\n",
    "            y = df['trait', 'mbti_ns']\n",
    "        elif trait_name == 'mbti_tf':\n",
    "            y = df['trait', 'mbti_tf']\n",
    "        elif trait_name == 'mbti_jp':\n",
    "            y = df['trait', 'mbti_jp'] \n",
    "    return x,y "
   ]
  },
  {
   "cell_type": "markdown",
   "metadata": {},
   "source": [
    "## Classifier"
   ]
  },
  {
   "cell_type": "markdown",
   "metadata": {},
   "source": [
    "## Get names of 30 most important features"
   ]
  },
  {
   "cell_type": "code",
   "execution_count": 4,
   "metadata": {},
   "outputs": [],
   "source": [
    "# get names of the features\n",
    "def get_names(x, pipeline):\n",
    "    features = pipeline.named_steps['feature_selection']\n",
    "    names = x.columns[features.get_support(indices=True)]\n",
    "    return names"
   ]
  },
  {
   "cell_type": "markdown",
   "metadata": {},
   "source": [
    "### Get p-values"
   ]
  },
  {
   "cell_type": "code",
   "execution_count": null,
   "metadata": {},
   "outputs": [],
   "source": [
    "def get_pvalues(pipeline, x):\n",
    "#     x_indices = np.arange(x.shape[-1])\n",
    "#     selector = SelectKBest(f_classif, k=30)\n",
    "#     selector.fit(x_train, y_train)\n",
    "#     scores = -np.log10(selector.pvalues_)\n",
    "    features = pipeline.named_steps['feature_selection']\n",
    "    pvalues = features.pvalues_\n",
    "#     pvalues /= pvalues.max()\n",
    "    dfpvalues = pd.DataFrame(features.pvalues_)\n",
    "    dfscores = pd.DataFrame(features.scores_)\n",
    "    dfcolumns = pd.DataFrame(x.columns)\n",
    "    #concat two dataframes for better visualization \n",
    "    featureScores = pd.concat([dfcolumns,dfscores, dfpvalues],axis=1)\n",
    "    featureScores.columns = ['specs','score', 'pvalue']\n",
    "    featureScores.sort_values(by='pvalue')\n",
    "\n",
    "    plt.figure(figsize = (12, 4))\n",
    "    plt.subplot(1, 2, 1)\n",
    "    plt.hist(pvalues, bins=20)\n",
    "    plt.title('All p-values')\n",
    "    plt.subplot(1, 2, 2)\n",
    "    smallpvalues = pvalues[pvalues<0.1]\n",
    "    plt.hist(smallpvalues, bins=10)\n",
    "    plt.title('Small p-values')\n",
    "    \n",
    "    plt.suptitle(\"Histograms of the p-values\")\n",
    "    plt.subplots_adjust(left=0.1, \n",
    "                    bottom=0.1,  \n",
    "                    right=0.9,  \n",
    "                    top=0.9,  \n",
    "                    wspace=0.4,  \n",
    "                    hspace=0.4) \n",
    "    plt.show()\n",
    "    \n",
    "    return featureScores"
   ]
  },
  {
   "cell_type": "markdown",
   "metadata": {},
   "source": [
    "## Scores"
   ]
  },
  {
   "cell_type": "code",
   "execution_count": null,
   "metadata": {
    "scrolled": true
   },
   "outputs": [],
   "source": [
    "def scores(y_test, y_pred, presentationtype):\n",
    "    \n",
    "    if presentationtype == \"scores\":\n",
    "        accuracy=metrics.accuracy_score(y_test, y_pred)\n",
    "        precision=metrics.precision_score(y_test, y_pred)\n",
    "        recall=metrics.recall_score(y_test, y_pred)\n",
    "        f_one=metrics.f1_score(y_test, y_pred)\n",
    "        return accuracy, precision, recall, f_one\n",
    "    if presentationtype == \"report\":\n",
    "        report = classification_report(y_test, y_pred)\n",
    "        return report\n",
    "\n",
    "\n",
    "def score_plot(logreg, y_test, x_test):\n",
    "    lr_probs = logreg.predict_proba(x_test)\n",
    "    # keep probabilities for the positive outcome only\n",
    "    lr_probs = lr_probs[:, 1]\n",
    "    # predict class values\n",
    "#     yhat = logreg.predict(x_test)\n",
    "    lr_precision, lr_recall, _ = precision_recall_curve(y_test, lr_probs)\n",
    "#     lr_f1, lr_auc = f1_score(y_test, yhat), auc(lr_recall, lr_precision)\n",
    "\n",
    "    # plot the precision-recall curves\n",
    "    no_skill = len(y_test[y_test==1]) / len(y_test)\n",
    "    fig, ax = plt.subplots()\n",
    "    plt.plot([0, 1], [no_skill, no_skill], linestyle='--', label='No Skill')\n",
    "    plt.plot(lr_recall, lr_precision, marker='.', label='Classifier')\n",
    "    # axis labels\n",
    "    plt.xlabel('Recall')\n",
    "    plt.ylabel('Precision')\n",
    "    # show the legend\n",
    "    plt.legend()\n",
    "    plt.show()\n",
    "    \n",
    "    return lr_precision, lr_recall"
   ]
  },
  {
   "cell_type": "markdown",
   "metadata": {},
   "source": [
    "### Score plot\n",
    "Smaller values on the x-axis of the plot indicate lower false positives and higher true negatives.\n",
    "\n",
    "\n",
    "Larger values on the y-axis of the plot indicate higher true positives and lower false negatives."
   ]
  },
  {
   "cell_type": "markdown",
   "metadata": {},
   "source": [
    "## Create and print confusion matrix"
   ]
  },
  {
   "cell_type": "code",
   "execution_count": null,
   "metadata": {},
   "outputs": [],
   "source": [
    "def create_cnfmatrix(clf, x_test, y_test, y_pred, plotting, detailed):\n",
    "    cnfpipe_matrix = confusion_matrix(y_test, y_pred)\n",
    "\n",
    "    if detailed:\n",
    "        tn, fp, fn, tp = confusion_matrix(y_test, y_pred).ravel()\n",
    "        sumpositive = tp + fn\n",
    "        sumnegative = fp + tn\n",
    "        sumcorrect = tp + tn\n",
    "        sumwrong = fp + fn\n",
    "        sumall = tn+fp+fn+tp\n",
    "        print(\"TN, FP, FN, TP: \", tn, fp, fn, tp, \"\\nSum: \", sumall, \"\\nSum correct predictions: \", \n",
    "              sumcorrect, \"Percent: \", sumcorrect/sumall, \"\\nSum wrong predictions: \", sumwrong, \"\\tPercent: \",\n",
    "              sumwrong/sumall, \"\\nSum actual positives: \", sumpositive, \"\\tPercent: \", sumpositive/sumall,\n",
    "              \"\\nSum actual negatives: \", sumnegative, \"\\tPercent: \", sumnegative/sumall)\n",
    "\n",
    "    if plotting:\n",
    "        plot_confusion_matrix(clf, x_test, y_test,\n",
    "                                 cmap=plt.cm.Blues,\n",
    "                                 normalize='true')\n",
    "        plt.tight_layout()\n",
    "        plt.title('Confusion matrix', y=1.1)\n",
    "        plt.ylabel('Actual label')\n",
    "        plt.xlabel('Predicted label')\n",
    "        plt.show()\n"
   ]
  },
  {
   "cell_type": "markdown",
   "metadata": {},
   "source": [
    "## ROC Curve"
   ]
  },
  {
   "cell_type": "code",
   "execution_count": null,
   "metadata": {},
   "outputs": [],
   "source": [
    "def roc_aucscore(clf, x_test, y_test, classes, plotting, detailed):\n",
    "    if detailed:\n",
    "        print(roc_auc_score(y, clf.predict_proba(x), multi_class='ovo'))\n",
    "        return score\n",
    "    \n",
    "    if plotting and classes == 'binary':\n",
    "        plot_roc_curve(clf, x_test, y_test)\n",
    "        plt.title('ROC Curve', y=1.1)\n",
    "        plt.show()"
   ]
  },
  {
   "cell_type": "markdown",
   "metadata": {},
   "source": [
    "## Wrapper with nested stratified cross validation"
   ]
  },
  {
   "cell_type": "code",
   "execution_count": 5,
   "metadata": {},
   "outputs": [],
   "source": [
    "def get_classifier(classifier):\n",
    "    if classifier == 'log':\n",
    "        return LogisticRegression(class_weight='balanced', n_jobs=-1)\n",
    "    elif classifier == 'mcc':\n",
    "        return DummyClassifier(strategy=\"most_frequent\")\n",
    "    elif classifier == 'mlp':\n",
    "        return MLPClassifier()\n",
    "    elif classifier == 'svm':\n",
    "        return svm.SVC(class_weight='balanced', probability=True)\n",
    "    elif classifier == 'linear':\n",
    "        return LinearRegression(n_jobs=-1)\n",
    "    elif classifier == 'multilog':\n",
    "        return LogisticRegression(multi_class='multinomial', n_jobs=-1)\n",
    "    elif classifier == 'knn':\n",
    "        return KNeighborsClassifier(n_neighbors=1, n_jobs=-1)\n",
    "\n",
    "    \n",
    "def get_featureselection(fs, classifier, n_feat):\n",
    "    if fs == 'anova':\n",
    "        return SelectKBest(f_classif, k=n_feat)\n",
    "    if fs == 'mutual':\n",
    "        return SelectKBest(mutual_info_classif, k=n_feat)\n",
    "    if fs == 'sequential_forward':\n",
    "        return SequentialFeatureSelector(get_classifier(classifier), n_features_to_select=n_feat, direction='forward', n_jobs=-1)\n",
    "    if fs == 'sequential_backward':\n",
    "        return SequentialFeatureSelector(get_classifier(classifier), n_features_to_select=n_feat, direction='backward', n_jobs=-1)\n",
    "\n",
    "\n",
    "    \n",
    "def create_pipeline_cv(classifier, fs, dim, n_feat):\n",
    "    if dim:\n",
    "        pipeline = Pipeline([\n",
    "              ('variance_threshold', VarianceThreshold()),\n",
    "              ('scaler', StandardScaler()),\n",
    "              ('pca', PCA(n_components=100)),\n",
    "              ('feature_selection',  get_featureselection(fs, classifier, n_feat)),\n",
    "              ('classification', get_classifier(classifier))\n",
    "            ])\n",
    "    else:\n",
    "        pipeline = Pipeline([\n",
    "              ('variance_threshold', VarianceThreshold()),\n",
    "              ('scaler', StandardScaler()),\n",
    "              ('feature_selection',  get_featureselection(fs, classifier, n_feat)),\n",
    "              ('classification', get_classifier(classifier))\n",
    "            ])\n",
    "    return pipeline"
   ]
  },
  {
   "cell_type": "code",
   "execution_count": 8,
   "metadata": {},
   "outputs": [],
   "source": [
    "def get_params(classifier):\n",
    "    if classifier == 'log':\n",
    "        params = {'classification__solver': ['lbfgs', 'liblinear', 'saga'], \n",
    "                  'classification__max_iter': [100, 200, 500, 1000],\n",
    "                  'classification__C': [10**x for x in range(-3,5)]}\n",
    "    if classifier == 'multilog':\n",
    "        params = {'classification__class_weight': [None, 'balanced'], \n",
    "                  'classification__solver': ['lbfgs', 'saga'], \n",
    "                  'classification__max_iter': [100, 200, 500, 1000]}\n",
    "    elif classifier == 'mlp':\n",
    "        params = {'classification__hidden_layer_sizes': [(50,), (100,), (200,), (500,)]}\n",
    "    elif classifier == 'svm':\n",
    "        params = {'classification__kernel': ['linear', 'poly', 'rbf', 'sigmoid', 'precomputed'],\n",
    "                  'classification__gamma': ['scale', 'auto'], \n",
    "                  'classification__max_iter': [100, 200, 500, 1000],\n",
    "                  'classification__C': [10**x for x in range(-3,5)]}\n",
    "    elif classifier == 'mcc':\n",
    "        params = {}\n",
    "    return params\n",
    "\n",
    "def classify_cv(df, traits, classes, clf_lst, fs, dim, n_feat):\n",
    "    tstart = time()\n",
    "    for option in tqdm(clf_lst):\n",
    "        print(\"Classifier: \", option, \"\\n\")\n",
    "        for trait_name in traits:\n",
    "            print(\"\\nTrait to predict: \", trait_name, \"\\n\")\n",
    "            x,y = trait(df, classes, trait_name)          \n",
    "            \n",
    "            cv_outer = StratifiedKFold(n_splits=5, shuffle=True, random_state=0)\n",
    "            cv_outer_lst = cv_outer.split(x, y)\n",
    "\n",
    "            f1macro_lst = []\n",
    "            accuracy_lst = []\n",
    "            tpr_lst = []\n",
    "            mean_fpr = np.linspace(0, 1, 101)\n",
    "            \n",
    "            plt.figure(figsize=(5, 5))\n",
    "            j=1\n",
    "            for train_idx, val_idx in cv_outer_lst:\n",
    "                train_data, val_data = x.iloc[train_idx], x.iloc[val_idx]\n",
    "                train_target, val_target = y.iloc[train_idx], y.iloc[val_idx]\n",
    "\n",
    "                print(\"\\nCreate pipeline with\", option, \"(Fold\", j,\"), for trait: \", trait_name, \"...\\n\")\n",
    "                clf = create_pipeline_cv(option, fs, dim, n_feat)\n",
    "                if option == 'log':\n",
    "                    cv_inner = StratifiedKFold(n_splits=10, shuffle=True, random_state=0)\n",
    "                if option == 'svm' or option == 'mlp' or option == 'mcc':\n",
    "                    cv_inner = StratifiedKFold(n_splits=5, shuffle=True, random_state=0)\n",
    "                params = get_params(option)\n",
    "                t0 = time()\n",
    "                gd_search = GridSearchCV(clf, params, scoring = 'f1_macro', n_jobs=-1, cv=cv_inner).fit(train_data, train_target)\n",
    "                print(\"Grid search done in %0.2fs\" % (time() - t0))\n",
    "                best_model = gd_search.best_estimator_\n",
    "                names = get_names(train_data, best_model)\n",
    "                print(\"Selected features: \", list(names))\n",
    "\n",
    "                clfnew = best_model.fit(train_data, train_target)\n",
    "                y_pred = clfnew.predict(val_data)\n",
    "                y_score = clfnew.predict_proba(val_data)\n",
    "                fpr, tpr, _ = roc_curve(val_target, y_score[:, 1])\n",
    "\n",
    "                plt.plot(fpr, tpr, 'b', alpha=0.15)\n",
    "                tpr = np.interp(mean_fpr, fpr, tpr)\n",
    "                tpr[0] = 0.0\n",
    "                tpr_lst.append(tpr)\n",
    "                \n",
    "                f1_macro = f1_score(val_target, y_pred, average='macro')\n",
    "                f1macro_lst.append(f1_macro)\n",
    "                acc = accuracy_score(val_target, y_pred)\n",
    "                accuracy_lst.append(acc)\n",
    "                print(\"\\tVal Accuracy: \", acc, \"Val F1-score:\", f1_macro , \n",
    "                      \"Best GS F1-score:\",gd_search.best_score_, \"\\nBest Params:\",gd_search.best_params_)\n",
    "                j+=1\n",
    "              # Training final model\n",
    "            f1macro_avg = np.mean(f1macro_lst)\n",
    "            acc_avg = np.mean(accuracy_lst)\n",
    "            print(\"\\n\\nAverage f1 macro score: \", f1macro_avg)\n",
    "            print(\"Average accuracy: \", acc_avg)\n",
    "            print(\"Time for entire process: %0.2fs\" % (time() - tstart))\n",
    "            \n",
    "            tprs = np.array(tpr_lst)\n",
    "            mean_tprs = tprs.mean(axis=0)\n",
    "            std = tprs.std(axis=0)\n",
    "            tprs_upper = np.minimum(mean_tprs + std, 1)\n",
    "            tprs_lower = mean_tprs - std\n",
    "\n",
    "            plt.plot(mean_fpr, mean_tprs, 'b')\n",
    "            plt.fill_between(mean_fpr, tprs_lower, tprs_upper, color='grey', alpha=0.3)\n",
    "\n",
    "            plt.plot([0, 1], [0, 1],'r--')\n",
    "            plt.xlim([-0.01, 1.01])\n",
    "            plt.ylim([-0.01, 1.01])\n",
    "            plt.ylabel('True Positive Rate')\n",
    "            plt.xlabel('False Positive Rate')\n",
    "            plt.axes().set_aspect('equal', 'datalim')\n",
    "            plt.show()\n",
    "\n",
    "big5_traits = ['openness', 'conscientiousness', 'extraversion', 'agreeableness', 'neuroticism']\n",
    "mbti_traits =['mbti_ei', 'mbti_ns', 'mbti_tf', 'mbti_jp']"
   ]
  },
  {
   "cell_type": "markdown",
   "metadata": {},
   "source": [
    "## Methodological replication"
   ]
  },
  {
   "cell_type": "code",
   "execution_count": null,
   "metadata": {
    "scrolled": true
   },
   "outputs": [],
   "source": [
    "clf_lst = ['mcc', 'log', 'mlp', 'svm']\n",
    "classify_cv(df, big5_traits, 'binary', clf_lst, 'anova', dim=False, n_feat=30)"
   ]
  },
  {
   "cell_type": "code",
   "execution_count": 9,
   "metadata": {},
   "outputs": [
    {
     "data": {
      "application/vnd.jupyter.widget-view+json": {
       "model_id": "d6f5b90328ad456188c448293ce9286a",
       "version_major": 2,
       "version_minor": 0
      },
      "text/plain": [
       "  0%|          | 0/1 [00:00<?, ?it/s]"
      ]
     },
     "metadata": {},
     "output_type": "display_data"
    },
    {
     "name": "stdout",
     "output_type": "stream",
     "text": [
      "Classifier:  log \n",
      "\n",
      "\n",
      "Trait to predict:  openness \n",
      "\n",
      "\n",
      "Create pipeline with log (Fold 1 ), for trait:  openness ...\n",
      "\n",
      "Grid search done in 52.88s\n",
      "Selected features:  [('subtf', 'medicalgore'), ('subtf', 'silhouwhat'), ('subtf', 'forgeofempires'), ('subtf', 'broodwar'), ('wordngram', 'also not'), ('wordngram', 'dnc'), ('wordngram', 'ed'), ('wordngram', 'gif'), ('wordngram', 'good point'), ('wordngram', 'hard'), ('wordngram', 'joke'), ('wordngram', 'know'), ('wordngram', 'mayb not'), ('wordngram', 'realli care'), ('wordngram', 'share'), ('wordngram', 'socialist'), ('wordngram', 'whole'), ('wordngram', 'whole thing'), ('charngram', 'ama'), ('charngram', 'ayb'), ('charngram', 'bet_char'), ('charngram', 'eed'), ('charngram', 'eme'), ('charngram', 'gn'), ('charngram', 'ini'), ('charngram', 'nec'), ('charngram', 'nex'), ('charngram', 'nli'), ('charngram', 'nou'), ('charngram', 'now')]\n",
      "\tVal Accuracy:  0.5432098765432098 Val F1-score: 0.5406896551724139 Best GS F1-score: 0.5226246166365573 \n",
      "Best Params: {'classification__C': 0.01, 'classification__max_iter': 100, 'classification__solver': 'lbfgs'}\n",
      "\n",
      "Create pipeline with log (Fold 2 ), for trait:  openness ...\n",
      "\n"
     ]
    },
    {
     "name": "stderr",
     "output_type": "stream",
     "text": [
      "/home/sophia/ma_py/.venv/lib/python3.8/site-packages/sklearn/linear_model/_logistic.py:1355: UserWarning: 'n_jobs' > 1 does not have any effect when 'solver' is set to 'liblinear'. Got 'n_jobs' = 16.\n",
      "  warnings.warn(\"'n_jobs' > 1 does not have any effect when\"\n"
     ]
    },
    {
     "name": "stdout",
     "output_type": "stream",
     "text": [
      "Grid search done in 50.91s\n",
      "Selected features:  [('subtf', 'transhuman'), ('subtf', 'nintendoswitch'), ('subtf', 'babybigcatgifs'), ('subtf', 'sexandthecity'), ('subtf', 'languagebuds'), ('subtf', 'nsfwfunny'), ('subtf', 'clonazoland'), ('wordngram', 'analysi'), ('wordngram', 'anyhow'), ('wordngram', 'cash'), ('wordngram', 'cloth'), ('wordngram', 'difficulti'), ('wordngram', 'femal'), ('wordngram', 'harder'), ('wordngram', 'justifi'), ('wordngram', 'one person'), ('wordngram', 'reader'), ('wordngram', 'tini'), ('wordngram', 'tip'), ('wordngram', 'twice'), ('wordngram', 'would make'), ('wordngram', 'youtu'), ('charngram', ' de'), ('charngram', ' of'), ('charngram', 'ee'), ('charngram', 'l b'), ('charngram', 'l m'), ('charngram', 'lat'), ('charngram', 'lea'), ('charngram', 'lec')]\n"
     ]
    },
    {
     "name": "stderr",
     "output_type": "stream",
     "text": [
      "/home/sophia/ma_py/.venv/lib/python3.8/site-packages/sklearn/linear_model/_logistic.py:1355: UserWarning: 'n_jobs' > 1 does not have any effect when 'solver' is set to 'liblinear'. Got 'n_jobs' = 16.\n",
      "  warnings.warn(\"'n_jobs' > 1 does not have any effect when\"\n"
     ]
    },
    {
     "name": "stdout",
     "output_type": "stream",
     "text": [
      "\tVal Accuracy:  0.5679012345679012 Val F1-score: 0.5503568596352101 Best GS F1-score: 0.5420732987757112 \n",
      "Best Params: {'classification__C': 0.1, 'classification__max_iter': 100, 'classification__solver': 'liblinear'}\n",
      "\n",
      "Create pipeline with log (Fold 3 ), for trait:  openness ...\n",
      "\n",
      "Grid search done in 51.17s\n",
      "Selected features:  [('subtf', 'undertale'), ('subtf', 'starwarsepisodeviii'), ('subtf', 'whatwasyourredpill'), ('subtf', 'programmerreactions'), ('subtf', 'waterniggas'), ('wordngram', 'assum'), ('wordngram', 'bird'), ('wordngram', 'fals'), ('wordngram', 'health'), ('wordngram', 'oper'), ('wordngram', 'platform'), ('wordngram', 'program'), ('wordngram', 'realli enjoy'), ('wordngram', 'sure'), ('wordngram', 'tag'), ('wordngram', 'throw'), ('wordngram', 'ton'), ('wordngram', 'tone'), ('wordngram', 'west'), ('wordngram', 'word'), ('charngram', ' ad'), ('charngram', ' em'), ('charngram', 'an '), ('charngram', 'c c'), ('charngram', 'g b'), ('charngram', 'h r'), ('charngram', 'h s'), ('charngram', 'l n'), ('charngram', 'lai'), ('charngram', 'ld ')]\n",
      "\tVal Accuracy:  0.55 Val F1-score: 0.5357833655705996 Best GS F1-score: 0.5954107922814821 \n",
      "Best Params: {'classification__C': 100, 'classification__max_iter': 100, 'classification__solver': 'lbfgs'}\n",
      "\n",
      "Create pipeline with log (Fold 4 ), for trait:  openness ...\n",
      "\n",
      "Grid search done in 50.20s\n",
      "Selected features:  [('subtf', 'hungary'), ('subtf', 'yesornoanswers'), ('subtf', 'marvelstudios'), ('subtf', 'myanimelist'), ('subtf', 'bones'), ('subtf', 'antiwar'), ('subtf', 'showerthoughts'), ('wordngram', 'admir'), ('wordngram', 'alreadi'), ('wordngram', 'assumpt'), ('wordngram', 'becom'), ('wordngram', 'chang'), ('wordngram', 'com watch'), ('wordngram', 'constant'), ('wordngram', 'glad'), ('wordngram', 'gotten'), ('wordngram', 'input'), ('wordngram', 'interest not'), ('wordngram', 'not realli'), ('wordngram', 'pretti sure'), ('wordngram', 'pro'), ('wordngram', 'rape'), ('wordngram', 'tie'), ('wordngram', 'user'), ('wordngram', 'walk'), ('wordngram', 'weak'), ('wordngram', 'wish could'), ('wordngram', 'would want'), ('charngram', 'an'), ('charngram', 'irt')]\n",
      "\tVal Accuracy:  0.525 Val F1-score: 0.5099935525467441 Best GS F1-score: 0.5915338908575498 \n",
      "Best Params: {'classification__C': 0.1, 'classification__max_iter': 100, 'classification__solver': 'lbfgs'}\n",
      "\n",
      "Create pipeline with log (Fold 5 ), for trait:  openness ...\n",
      "\n",
      "Grid search done in 50.38s\n",
      "Selected features:  [('subtf', 'settlethisforme'), ('subtf', 'abcdesisupportgroup'), ('subtf', 'veterans'), ('subtf', 'beetlejuicing'), ('subtf', 'bassguitar'), ('subtf', 'liverpoolfc'), ('subtf', 'preyingmantis'), ('wordngram', 'arrog'), ('wordngram', 'enforc'), ('wordngram', 'fund'), ('wordngram', 'http en'), ('wordngram', 'ident'), ('wordngram', 'materi'), ('wordngram', 'oil'), ('wordngram', 'phase'), ('wordngram', 'realli think'), ('wordngram', 'repres'), ('wordngram', 'soft'), ('wordngram', 'target'), ('wordngram', 'trade'), ('wordngram', 'us'), ('wordngram', 'wait'), ('wordngram', 'weird'), ('charngram', ' af'), ('charngram', ' la'), ('charngram', 'abl_char'), ('charngram', 'cen'), ('charngram', 'ect'), ('charngram', 'ern'), ('charngram', 'if ')]\n",
      "\tVal Accuracy:  0.6 Val F1-score: 0.5786701777485188 Best GS F1-score: 0.5533778191936379 \n",
      "Best Params: {'classification__C': 0.01, 'classification__max_iter': 100, 'classification__solver': 'lbfgs'}\n",
      "\n",
      "\n",
      "Average f1 macro score:  0.5430987221346972\n",
      "Average accuracy:  0.5572222222222223\n",
      "Time for entire process: 257.86s\n"
     ]
    },
    {
     "name": "stderr",
     "output_type": "stream",
     "text": [
      "<ipython-input-8-59ea1dbf0eea>:95: MatplotlibDeprecationWarning: Adding an axes using the same arguments as a previous axes currently reuses the earlier instance.  In a future version, a new instance will always be created and returned.  Meanwhile, this warning can be suppressed, and the future behavior ensured, by passing a unique label to each axes instance.\n",
      "  plt.axes().set_aspect('equal', 'datalim')\n"
     ]
    },
    {
     "data": {
      "image/png": "[encoded data removed]",
      "text/plain": [
       "<Figure size 360x360 with 1 Axes>"
      ]
     },
     "metadata": {
      "needs_background": "light"
     },
     "output_type": "display_data"
    },
    {
     "name": "stdout",
     "output_type": "stream",
     "text": [
      "\n",
      "Trait to predict:  conscientiousness \n",
      "\n",
      "\n",
      "Create pipeline with log (Fold 1 ), for trait:  conscientiousness ...\n",
      "\n"
     ]
    },
    {
     "name": "stderr",
     "output_type": "stream",
     "text": [
      "/home/sophia/ma_py/.venv/lib/python3.8/site-packages/sklearn/linear_model/_logistic.py:1355: UserWarning: 'n_jobs' > 1 does not have any effect when 'solver' is set to 'liblinear'. Got 'n_jobs' = 16.\n",
      "  warnings.warn(\"'n_jobs' > 1 does not have any effect when\"\n"
     ]
    },
    {
     "name": "stdout",
     "output_type": "stream",
     "text": [
      "Grid search done in 50.49s\n",
      "Selected features:  [('subtf', 'dota2'), ('subtf', 'harmontown'), ('subtf', 'rifftrax'), ('subtf', 'oldschool'), ('subtf', 'beetlejuicing'), ('subtf', 'bottlecapcollecting'), ('subtf', 'davidbowie'), ('subtf', 'forgeofempires'), ('subtf', 'linuxcirclejerk'), ('wordngram', 'advertis'), ('wordngram', 'beta'), ('wordngram', 'cognit function'), ('wordngram', 'coin'), ('wordngram', 'explain'), ('wordngram', 'long not'), ('wordngram', 'mani'), ('wordngram', 'miss'), ('wordngram', 'not thing'), ('wordngram', 'person would'), ('wordngram', 'present'), ('wordngram', 'privat'), ('wordngram', 'regularli'), ('wordngram', 'situat'), ('wordngram', 'told'), ('charngram', ' to'), ('charngram', 'abi'), ('charngram', 'ead'), ('charngram', 'eak'), ('charngram', 'eam'), ('charngram', 'h w')]\n"
     ]
    },
    {
     "name": "stderr",
     "output_type": "stream",
     "text": [
      "/home/sophia/ma_py/.venv/lib/python3.8/site-packages/sklearn/linear_model/_logistic.py:1355: UserWarning: 'n_jobs' > 1 does not have any effect when 'solver' is set to 'liblinear'. Got 'n_jobs' = 16.\n",
      "  warnings.warn(\"'n_jobs' > 1 does not have any effect when\"\n"
     ]
    },
    {
     "name": "stdout",
     "output_type": "stream",
     "text": [
      "\tVal Accuracy:  0.6790123456790124 Val F1-score: 0.6452156334231806 Best GS F1-score: 0.5748673931831826 \n",
      "Best Params: {'classification__C': 0.01, 'classification__max_iter': 100, 'classification__solver': 'liblinear'}\n",
      "\n",
      "Create pipeline with log (Fold 2 ), for trait:  conscientiousness ...\n",
      "\n"
     ]
    },
    {
     "name": "stderr",
     "output_type": "stream",
     "text": [
      "/home/sophia/ma_py/.venv/lib/python3.8/site-packages/sklearn/linear_model/_sag.py:328: ConvergenceWarning: The max_iter was reached which means the coef_ did not converge\n",
      "  warnings.warn(\"The max_iter was reached which means \"\n"
     ]
    },
    {
     "name": "stdout",
     "output_type": "stream",
     "text": [
      "Grid search done in 50.60s\n",
      "Selected features:  [('subtf', 'secularbuddhism'), ('subtf', 'pbsideachannel'), ('subtf', 'whatsthisrock'), ('subtf', 'descentintotyranny'), ('subtf', 'cyclistswithcameras'), ('subtf', 'burningman'), ('subtf', 'asoiaf'), ('subtf', 'latestagecarnism'), ('wordngram', 'alpha'), ('wordngram', 'ancap'), ('wordngram', 'applic'), ('wordngram', 'buy'), ('wordngram', 'ca'), ('wordngram', 'client'), ('wordngram', 'cop'), ('wordngram', 'downvot'), ('wordngram', 'plant'), ('wordngram', 'post not'), ('wordngram', 'precis'), ('wordngram', 'psycholog'), ('wordngram', 'public'), ('wordngram', 'rare'), ('charngram', 'ama'), ('charngram', 'as '), ('charngram', 'bab'), ('charngram', 'eft'), ('charngram', 'exc'), ('charngram', 'i m'), ('charngram', 'les'), ('charngram', 'lle')]\n"
     ]
    },
    {
     "name": "stderr",
     "output_type": "stream",
     "text": [
      "/home/sophia/ma_py/.venv/lib/python3.8/site-packages/sklearn/linear_model/_sag.py:328: ConvergenceWarning: The max_iter was reached which means the coef_ did not converge\n",
      "  warnings.warn(\"The max_iter was reached which means \"\n"
     ]
    },
    {
     "name": "stdout",
     "output_type": "stream",
     "text": [
      "\tVal Accuracy:  0.6790123456790124 Val F1-score: 0.6603225806451614 Best GS F1-score: 0.6307256759786262 \n",
      "Best Params: {'classification__C': 10, 'classification__max_iter': 100, 'classification__solver': 'saga'}\n",
      "\n",
      "Create pipeline with log (Fold 3 ), for trait:  conscientiousness ...\n",
      "\n",
      "Grid search done in 50.85s\n",
      "Selected features:  [('subtf', 'askengineers'), ('subtf', 'goruck'), ('subtf', 'leica'), ('subtf', 'wedding'), ('subtf', 'adhd_programmers'), ('subtf', 'futurecirclejerk'), ('subtf', 'starwarscomics'), ('subtf', 'meemyselfandi'), ('subtf', 'mid_century'), ('wordngram', 'afraid'), ('wordngram', 'agre'), ('wordngram', 'anymor'), ('wordngram', 'app'), ('wordngram', 'bs'), ('wordngram', 'key'), ('wordngram', 'per'), ('wordngram', 'philosophi'), ('wordngram', 'profession'), ('wordngram', 'quick'), ('wordngram', 'trait'), ('wordngram', 'twice'), ('wordngram', 'typolog'), ('charngram', 'awa'), ('charngram', 'ed_char'), ('charngram', 'eon'), ('charngram', 'ht '), ('charngram', 'ifi'), ('charngram', 'ift'), ('charngram', 'lan'), ('charngram', 'lia')]\n",
      "\tVal Accuracy:  0.55 Val F1-score: 0.5054945054945055 Best GS F1-score: 0.6177623065355804 \n",
      "Best Params: {'classification__C': 0.001, 'classification__max_iter': 100, 'classification__solver': 'lbfgs'}\n",
      "\n",
      "Create pipeline with log (Fold 4 ), for trait:  conscientiousness ...\n",
      "\n",
      "Grid search done in 49.61s\n",
      "Selected features:  [('subtf', 'neverwinternights'), ('subtf', 'pointlesslygendered'), ('subtf', 'balisongs'), ('subtf', 'gifsound'), ('subtf', 'ghibli'), ('subtf', 'preyingmantis'), ('lin_feat', 'prepositions'), ('wordngram', 'altern'), ('wordngram', 'approv'), ('wordngram', 'assumpt'), ('wordngram', 'attract'), ('wordngram', 'benzo'), ('wordngram', 'cloud'), ('wordngram', 'day'), ('wordngram', 'holi'), ('wordngram', 'make sure'), ('wordngram', 'mental ill'), ('wordngram', 'na'), ('wordngram', 'nope'), ('wordngram', 'not chang'), ('wordngram', 'not peopl'), ('wordngram', 'not talk'), ('wordngram', 'pant'), ('wordngram', 'proven'), ('wordngram', 'think good'), ('charngram', ' e'), ('charngram', 'car_char'), ('charngram', 'fac'), ('charngram', 'har'), ('charngram', 'mu')]\n",
      "\tVal Accuracy:  0.65 Val F1-score: 0.6354166666666667 Best GS F1-score: 0.6040680668891988 \n",
      "Best Params: {'classification__C': 100, 'classification__max_iter': 100, 'classification__solver': 'lbfgs'}\n",
      "\n",
      "Create pipeline with log (Fold 5 ), for trait:  conscientiousness ...\n",
      "\n",
      "Grid search done in 49.28s\n",
      "Selected features:  [('subtf', 'efreebies'), ('subtf', 'solardiy'), ('subtf', 'gaming4gamers'), ('subtf', 'clockworkempires'), ('subtf', 'jerma985'), ('subtf', 'showerthoughts'), ('wordngram', 'abandon'), ('wordngram', 'behind'), ('wordngram', 'came'), ('wordngram', 'cloth'), ('wordngram', 'enneagram'), ('wordngram', 'local'), ('wordngram', 'militari'), ('wordngram', 'not seen'), ('wordngram', 'pattern'), ('wordngram', 'pay attent'), ('wordngram', 'public function'), ('wordngram', 'safe'), ('wordngram', 'throughout'), ('wordngram', 'tri not'), ('wordngram', 'welfar'), ('wordngram', 'yep'), ('charngram', 'ake'), ('charngram', 'de '), ('charngram', 'e u'), ('charngram', 'gic'), ('charngram', 'i l'), ('charngram', 'in '), ('charngram', 'iss'), ('charngram', 'ju')]\n",
      "\tVal Accuracy:  0.5125 Val F1-score: 0.4992778045257583 Best GS F1-score: 0.6233618658495302 \n",
      "Best Params: {'classification__C': 0.001, 'classification__max_iter': 100, 'classification__solver': 'lbfgs'}\n",
      "\n",
      "\n",
      "Average f1 macro score:  0.5891454381510546\n",
      "Average accuracy:  0.614104938271605\n",
      "Time for entire process: 512.39s\n"
     ]
    },
    {
     "name": "stderr",
     "output_type": "stream",
     "text": [
      "<ipython-input-8-59ea1dbf0eea>:95: MatplotlibDeprecationWarning: Adding an axes using the same arguments as a previous axes currently reuses the earlier instance.  In a future version, a new instance will always be created and returned.  Meanwhile, this warning can be suppressed, and the future behavior ensured, by passing a unique label to each axes instance.\n",
      "  plt.axes().set_aspect('equal', 'datalim')\n"
     ]
    },
    {
     "data": {
      "image/png": "[encoded data removed]",
      "text/plain": [
       "<Figure size 360x360 with 1 Axes>"
      ]
     },
     "metadata": {
      "needs_background": "light"
     },
     "output_type": "display_data"
    },
    {
     "name": "stdout",
     "output_type": "stream",
     "text": [
      "\n",
      "Trait to predict:  extraversion \n",
      "\n",
      "\n",
      "Create pipeline with log (Fold 1 ), for trait:  extraversion ...\n",
      "\n",
      "Grid search done in 49.70s\n",
      "Selected features:  [('subtf', 'yikyak'), ('subtf', 'marriage'), ('wordngram', 'age'), ('wordngram', 'also like'), ('wordngram', 'anybodi'), ('wordngram', 'asian'), ('wordngram', 'awhil'), ('wordngram', 'back'), ('wordngram', 'code'), ('wordngram', 'dark'), ('wordngram', 'like type mention'), ('wordngram', 'lol'), ('wordngram', 'market'), ('wordngram', 'nois'), ('wordngram', 'plan'), ('wordngram', 'stand'), ('wordngram', 'still not'), ('wordngram', 'straight'), ('wordngram', 'teacher'), ('wordngram', 'that'), ('wordngram', 'thing go'), ('wordngram', 'trash'), ('wordngram', 'visit'), ('wordngram', 'yup'), ('wordngram', 'zero'), ('charngram', ' pe'), ('charngram', ' sa'), ('charngram', ' tr'), ('charngram', 'ac'), ('charngram', 'ird')]\n",
      "\tVal Accuracy:  0.6049382716049383 Val F1-score: 0.5999999999999999 Best GS F1-score: 0.6362618305617541 \n",
      "Best Params: {'classification__C': 0.001, 'classification__max_iter': 100, 'classification__solver': 'lbfgs'}\n",
      "\n",
      "Create pipeline with log (Fold 2 ), for trait:  extraversion ...\n",
      "\n",
      "Grid search done in 49.44s\n",
      "Selected features:  [('subtf', 'carnivore'), ('subtf', 'huawei'), ('subtf', 'linuxquestions'), ('subtf', 'maille'), ('wordngram', 'abil'), ('wordngram', 'beta'), ('wordngram', 'childhood'), ('wordngram', 'insult'), ('wordngram', 'not quit'), ('wordngram', 'not take'), ('wordngram', 'scare'), ('wordngram', 'schedul'), ('wordngram', 'see not'), ('wordngram', 'see peopl'), ('wordngram', 'selfish'), ('wordngram', 'seriou'), ('wordngram', 'small'), ('wordngram', 'sub'), ('wordngram', 'valu'), ('wordngram', 'vari'), ('wordngram', 'variabl'), ('wordngram', 'wherea'), ('wordngram', 'world not'), ('wordngram', 'would not'), ('charngram', ' ve'), ('charngram', 'eed'), ('charngram', 'emo'), ('charngram', 'gh'), ('charngram', 'gi'), ('charngram', 'gra')]\n",
      "\tVal Accuracy:  0.6049382716049383 Val F1-score: 0.5944931163954943 Best GS F1-score: 0.6417755005999602 \n",
      "Best Params: {'classification__C': 0.001, 'classification__max_iter': 100, 'classification__solver': 'lbfgs'}\n",
      "\n",
      "Create pipeline with log (Fold 3 ), for trait:  extraversion ...\n",
      "\n",
      "Grid search done in 49.94s\n",
      "Selected features:  [('subtf', 'showerthoughts'), ('wordngram', 'bag'), ('wordngram', 'believ'), ('wordngram', 'bro'), ('wordngram', 'canadian'), ('wordngram', 'case'), ('wordngram', 'counter'), ('wordngram', 'daili'), ('wordngram', 'mistyp'), ('wordngram', 'not mean'), ('wordngram', 'read book'), ('wordngram', 'therapi'), ('wordngram', 'thing get'), ('wordngram', 'think peopl'), ('wordngram', 'thirti'), ('wordngram', 'truth'), ('wordngram', 'weak'), ('wordngram', 'yeah'), ('charngram', ' av'), ('charngram', ' si'), ('charngram', ' sl'), ('charngram', ' sm'), ('charngram', 'ar'), ('charngram', 'ase'), ('charngram', 'cel'), ('charngram', 'icu'), ('charngram', 'ls '), ('charngram', 'lw'), ('charngram', 'm c'), ('charngram', 'm h')]\n",
      "\tVal Accuracy:  0.6 Val F1-score: 0.5873629916183107 Best GS F1-score: 0.6740767374643852 \n",
      "Best Params: {'classification__C': 0.1, 'classification__max_iter': 100, 'classification__solver': 'lbfgs'}\n",
      "\n",
      "Create pipeline with log (Fold 4 ), for trait:  extraversion ...\n",
      "\n"
     ]
    },
    {
     "name": "stderr",
     "output_type": "stream",
     "text": [
      "/home/sophia/ma_py/.venv/lib/python3.8/site-packages/sklearn/linear_model/_logistic.py:1355: UserWarning: 'n_jobs' > 1 does not have any effect when 'solver' is set to 'liblinear'. Got 'n_jobs' = 16.\n",
      "  warnings.warn(\"'n_jobs' > 1 does not have any effect when\"\n"
     ]
    },
    {
     "name": "stdout",
     "output_type": "stream",
     "text": [
      "Grid search done in 49.82s\n",
      "Selected features:  [('subtf', 'vaguns'), ('subtf', 'pebble'), ('wordngram', 'assert'), ('wordngram', 'aw'), ('wordngram', 'bitch'), ('wordngram', 'bright'), ('wordngram', 'broad'), ('wordngram', 'could get'), ('wordngram', 'environ'), ('wordngram', 'even though'), ('wordngram', 'hand'), ('wordngram', 'movement'), ('wordngram', 'publish'), ('wordngram', 'regard'), ('wordngram', 'regret'), ('wordngram', 'st'), ('wordngram', 'talk'), ('wordngram', 'test'), ('wordngram', 'virtu'), ('wordngram', 'would also'), ('charngram', ' n'), ('charngram', ' ne'), ('charngram', ' ni'), ('charngram', 'ait'), ('charngram', 'am'), ('charngram', 'ap'), ('charngram', 'av'), ('charngram', 'h t'), ('charngram', 'lf'), ('charngram', 'lim')]\n"
     ]
    },
    {
     "name": "stderr",
     "output_type": "stream",
     "text": [
      "/home/sophia/ma_py/.venv/lib/python3.8/site-packages/sklearn/linear_model/_logistic.py:1355: UserWarning: 'n_jobs' > 1 does not have any effect when 'solver' is set to 'liblinear'. Got 'n_jobs' = 16.\n",
      "  warnings.warn(\"'n_jobs' > 1 does not have any effect when\"\n"
     ]
    },
    {
     "name": "stdout",
     "output_type": "stream",
     "text": [
      "\tVal Accuracy:  0.725 Val F1-score: 0.7206349206349206 Best GS F1-score: 0.606005714566513 \n",
      "Best Params: {'classification__C': 0.001, 'classification__max_iter': 100, 'classification__solver': 'liblinear'}\n",
      "\n",
      "Create pipeline with log (Fold 5 ), for trait:  extraversion ...\n",
      "\n",
      "Grid search done in 50.23s\n",
      "Selected features:  [('subtf', 'chakras'), ('wordngram', 'answer'), ('wordngram', 'bare'), ('wordngram', 'came'), ('wordngram', 'cat'), ('wordngram', 'cogfunc mention cogfunc'), ('wordngram', 'complet'), ('wordngram', 'confus'), ('wordngram', 'destruct'), ('wordngram', 'driven'), ('wordngram', 'drunk'), ('wordngram', 'not feel'), ('wordngram', 'sad'), ('wordngram', 'scientif'), ('wordngram', 'type mention type'), ('wordngram', 'univers'), ('wordngram', 'wikipedia org'), ('charngram', ' nu'), ('charngram', ' ob'), ('charngram', 'ar'), ('charngram', 'ara'), ('charngram', 'arc'), ('charngram', 'ch'), ('charngram', 'cla'), ('charngram', 'cti'), ('charngram', 'eli'), ('charngram', 'ery'), ('charngram', 'nda'), ('charngram', 'ndo'), ('charngram', 'nfo')]\n",
      "\tVal Accuracy:  0.625 Val F1-score: 0.6163682864450127 Best GS F1-score: 0.6341743589075712 \n",
      "Best Params: {'classification__C': 0.01, 'classification__max_iter': 100, 'classification__solver': 'lbfgs'}\n",
      "\n",
      "\n",
      "Average f1 macro score:  0.6237718630187477\n",
      "Average accuracy:  0.6319753086419754\n",
      "Time for entire process: 763.80s\n"
     ]
    },
    {
     "name": "stderr",
     "output_type": "stream",
     "text": [
      "<ipython-input-8-59ea1dbf0eea>:95: MatplotlibDeprecationWarning: Adding an axes using the same arguments as a previous axes currently reuses the earlier instance.  In a future version, a new instance will always be created and returned.  Meanwhile, this warning can be suppressed, and the future behavior ensured, by passing a unique label to each axes instance.\n",
      "  plt.axes().set_aspect('equal', 'datalim')\n"
     ]
    },
    {
     "data": {
      "image/png": "[encoded data removed]",
      "text/plain": [
       "<Figure size 360x360 with 1 Axes>"
      ]
     },
     "metadata": {
      "needs_background": "light"
     },
     "output_type": "display_data"
    },
    {
     "name": "stdout",
     "output_type": "stream",
     "text": [
      "\n",
      "Trait to predict:  agreeableness \n",
      "\n",
      "\n",
      "Create pipeline with log (Fold 1 ), for trait:  agreeableness ...\n",
      "\n",
      "Grid search done in 49.70s\n",
      "Selected features:  [('subtf', 'ptcgo'), ('subtf', 'benhoward'), ('subtf', 'rifftrax'), ('subtf', 'mobilewallpaper'), ('subtf', 'darknetmarkets'), ('subtf', 'algotrading'), ('wordngram', 'bibl'), ('wordngram', 'confid'), ('wordngram', 'dont'), ('wordngram', 'explain'), ('wordngram', 'farm'), ('wordngram', 'flaw'), ('wordngram', 'hole'), ('wordngram', 'ie'), ('wordngram', 'latter'), ('wordngram', 'libertarian'), ('wordngram', 'no not'), ('wordngram', 'not trust'), ('wordngram', 'opposit'), ('wordngram', 'plot'), ('wordngram', 'pro'), ('wordngram', 'realli know'), ('wordngram', 'si'), ('wordngram', 'updat'), ('charngram', 'alt_char'), ('charngram', 'are'), ('charngram', 'ee '), ('charngram', 'emp'), ('charngram', 'hil'), ('charngram', 'lv')]\n",
      "\tVal Accuracy:  0.6296296296296297 Val F1-score: 0.48429541595925296 Best GS F1-score: 0.5061633505371803 \n",
      "Best Params: {'classification__C': 0.01, 'classification__max_iter': 100, 'classification__solver': 'lbfgs'}\n",
      "\n",
      "Create pipeline with log (Fold 2 ), for trait:  agreeableness ...\n",
      "\n",
      "Grid search done in 49.63s\n",
      "Selected features:  [('subtf', 'maydaypac'), ('subtf', 'gallifreyan'), ('subtf', 'citiesskylinesmodding'), ('subtf', 'tressless'), ('subtf', 'capstone'), ('subtf', 'minimalism'), ('subtf', 'retrofuture'), ('subtf', 'superhot'), ('subtf', 'vent'), ('subtf', 'legaladvice'), ('subtf', 'sjsu'), ('subtf', 'shittykickstarters'), ('wordngram', 'act like'), ('wordngram', 'also'), ('wordngram', 'benefit'), ('wordngram', 'cast'), ('wordngram', 'cell'), ('wordngram', 'chanc'), ('wordngram', 'comparison'), ('wordngram', 'disord'), ('wordngram', 'elimin'), ('wordngram', 'expert'), ('wordngram', 'fail'), ('wordngram', 'gut'), ('wordngram', 'quit'), ('wordngram', 'send'), ('wordngram', 'would use'), ('wordngram', 'would want'), ('charngram', 'd g'), ('charngram', 'ele')]\n",
      "\tVal Accuracy:  0.7160493827160493 Val F1-score: 0.5412459985225314 Best GS F1-score: 0.5247958400763083 \n",
      "Best Params: {'classification__C': 0.001, 'classification__max_iter': 100, 'classification__solver': 'lbfgs'}\n",
      "\n",
      "Create pipeline with log (Fold 3 ), for trait:  agreeableness ...\n",
      "\n",
      "Grid search done in 49.20s\n",
      "Selected features:  [('subtf', 'alienblue'), ('subtf', 'tetris99'), ('subtf', 'makingfriends'), ('subtf', 'legaladviceinaction'), ('subtf', 'gonets'), ('subtf', 'deusex'), ('subtf', 'openttd'), ('subtf', 'memantinehcl'), ('subtf', 'darknetmarkets'), ('subtf', 'agnosticism'), ('subtf', 'marriage'), ('wordngram', 'accus'), ('wordngram', 'center'), ('wordngram', 'china'), ('wordngram', 'credit'), ('wordngram', 'danc'), ('wordngram', 'data'), ('wordngram', 'enjoy'), ('wordngram', 'gather'), ('wordngram', 'green'), ('wordngram', 'lord'), ('wordngram', 'not mean'), ('wordngram', 'person think'), ('wordngram', 'posit'), ('wordngram', 'teen'), ('wordngram', 'whether not'), ('charngram', ' el'), ('charngram', 'cho'), ('charngram', 'ci'), ('charngram', 'gu')]\n",
      "\tVal Accuracy:  0.6125 Val F1-score: 0.5070562512422978 Best GS F1-score: 0.5255404220692305 \n",
      "Best Params: {'classification__C': 1, 'classification__max_iter': 100, 'classification__solver': 'lbfgs'}\n",
      "\n",
      "Create pipeline with log (Fold 4 ), for trait:  agreeableness ...\n",
      "\n"
     ]
    },
    {
     "name": "stderr",
     "output_type": "stream",
     "text": [
      "/home/sophia/ma_py/.venv/lib/python3.8/site-packages/sklearn/linear_model/_sag.py:328: ConvergenceWarning: The max_iter was reached which means the coef_ did not converge\n",
      "  warnings.warn(\"The max_iter was reached which means \"\n"
     ]
    },
    {
     "name": "stdout",
     "output_type": "stream",
     "text": [
      "Grid search done in 49.54s\n",
      "Selected features:  [('subtf', 'talesfromyourserver'), ('subtf', 'redditdev'), ('subtf', 'foundfelix'), ('subtf', 'duckduckgo'), ('subtf', 'zerocarb'), ('subtf', 'soundslikemusic'), ('subtf', 'xanax'), ('subtf', 'marshmello'), ('subtf', 'horriblydepressing'), ('subtf', 'riverdale'), ('subtf', 'milliondollarextreme'), ('subtf', 'circle'), ('wordngram', 'adopt'), ('wordngram', 'anywher'), ('wordngram', 'biggest'), ('wordngram', 'concept'), ('wordngram', 'download'), ('wordngram', 'hair'), ('wordngram', 'hint'), ('wordngram', 'long term'), ('wordngram', 'mistyp'), ('wordngram', 'not consid'), ('wordngram', 'not stand'), ('wordngram', 'presid presid presid'), ('wordngram', 'react'), ('wordngram', 'risk'), ('charngram', 'ans'), ('charngram', 'e c'), ('charngram', 'e d'), ('charngram', 'guy_char')]\n"
     ]
    },
    {
     "name": "stderr",
     "output_type": "stream",
     "text": [
      "/home/sophia/ma_py/.venv/lib/python3.8/site-packages/sklearn/linear_model/_sag.py:328: ConvergenceWarning: The max_iter was reached which means the coef_ did not converge\n",
      "  warnings.warn(\"The max_iter was reached which means \"\n"
     ]
    },
    {
     "name": "stdout",
     "output_type": "stream",
     "text": [
      "\tVal Accuracy:  0.5375 Val F1-score: 0.44266616456411223 Best GS F1-score: 0.62150767041946 \n",
      "Best Params: {'classification__C': 1, 'classification__max_iter': 100, 'classification__solver': 'saga'}\n",
      "\n",
      "Create pipeline with log (Fold 5 ), for trait:  agreeableness ...\n",
      "\n"
     ]
    },
    {
     "name": "stderr",
     "output_type": "stream",
     "text": [
      "/home/sophia/ma_py/.venv/lib/python3.8/site-packages/sklearn/linear_model/_logistic.py:1355: UserWarning: 'n_jobs' > 1 does not have any effect when 'solver' is set to 'liblinear'. Got 'n_jobs' = 16.\n",
      "  warnings.warn(\"'n_jobs' > 1 does not have any effect when\"\n"
     ]
    },
    {
     "name": "stdout",
     "output_type": "stream",
     "text": [
      "Grid search done in 50.03s\n",
      "Selected features:  [('subtf', 'army'), ('subtf', 'theonwinsthethrone'), ('subtf', 'thedivision'), ('subtf', 'seaglass'), ('subtf', 'procomputertips'), ('subtf', 'notebooks'), ('subtf', 'gaysgonewild'), ('subtf', 'shen'), ('subtf', 'teenagers'), ('subtf', 'breadtube'), ('subtf', 'topgear'), ('subtf', 'bulletjournal'), ('subtf', 'combinedgifs'), ('wordngram', 'argument'), ('wordngram', 'birth'), ('wordngram', 'cognit function'), ('wordngram', 'conserv'), ('wordngram', 'consid'), ('wordngram', 'deliv'), ('wordngram', 'ill'), ('wordngram', 'partner'), ('wordngram', 'ridicul'), ('wordngram', 'sorri'), ('wordngram', 'transfer'), ('charngram', 'd e'), ('charngram', 'hoo'), ('charngram', 'hop'), ('charngram', 'is'), ('charngram', 'is '), ('charngram', 'lo')]\n"
     ]
    },
    {
     "name": "stderr",
     "output_type": "stream",
     "text": [
      "/home/sophia/ma_py/.venv/lib/python3.8/site-packages/sklearn/linear_model/_logistic.py:1355: UserWarning: 'n_jobs' > 1 does not have any effect when 'solver' is set to 'liblinear'. Got 'n_jobs' = 16.\n",
      "  warnings.warn(\"'n_jobs' > 1 does not have any effect when\"\n",
      "<ipython-input-8-59ea1dbf0eea>:95: MatplotlibDeprecationWarning: Adding an axes using the same arguments as a previous axes currently reuses the earlier instance.  In a future version, a new instance will always be created and returned.  Meanwhile, this warning can be suppressed, and the future behavior ensured, by passing a unique label to each axes instance.\n",
      "  plt.axes().set_aspect('equal', 'datalim')\n"
     ]
    },
    {
     "name": "stdout",
     "output_type": "stream",
     "text": [
      "\tVal Accuracy:  0.5875 Val F1-score: 0.5146166574738004 Best GS F1-score: 0.5246305060311467 \n",
      "Best Params: {'classification__C': 0.001, 'classification__max_iter': 100, 'classification__solver': 'liblinear'}\n",
      "\n",
      "\n",
      "Average f1 macro score:  0.497976097552399\n",
      "Average accuracy:  0.6166358024691359\n",
      "Time for entire process: 1014.18s\n"
     ]
    },
    {
     "data": {
      "image/png": "[encoded data removed]",
      "text/plain": [
       "<Figure size 360x360 with 1 Axes>"
      ]
     },
     "metadata": {
      "needs_background": "light"
     },
     "output_type": "display_data"
    },
    {
     "name": "stdout",
     "output_type": "stream",
     "text": [
      "\n",
      "Trait to predict:  neuroticism \n",
      "\n",
      "\n",
      "Create pipeline with log (Fold 1 ), for trait:  neuroticism ...\n",
      "\n",
      "Grid search done in 50.12s\n",
      "Selected features:  [('subtf', 'in_a_nutshell'), ('subtf', 'emmawatson'), ('subtf', 'lolesports'), ('subtf', 'baskets'), ('subtf', 'insanepeoplefacebook'), ('wordngram', 'alpha'), ('wordngram', 'alreadi'), ('wordngram', 'british'), ('wordngram', 'could see'), ('wordngram', 'element'), ('wordngram', 'even know'), ('wordngram', 'fail'), ('wordngram', 'not pay'), ('wordngram', 'quit bit'), ('wordngram', 'reliabl'), ('wordngram', 'row'), ('wordngram', 'stock'), ('wordngram', 'weight'), ('wordngram', 'would say'), ('charngram', ' ht'), ('charngram', ' hu'), ('charngram', 'ay'), ('charngram', 'ay '), ('charngram', 'd m'), ('charngram', 'hy'), ('charngram', 'ird'), ('charngram', 'ka'), ('charngram', 'ma'), ('charngram', 'n p'), ('charngram', 'n y')]\n",
      "\tVal Accuracy:  0.5432098765432098 Val F1-score: 0.5291437549096621 Best GS F1-score: 0.6424870633687447 \n",
      "Best Params: {'classification__C': 0.001, 'classification__max_iter': 100, 'classification__solver': 'lbfgs'}\n",
      "\n",
      "Create pipeline with log (Fold 2 ), for trait:  neuroticism ...\n",
      "\n"
     ]
    },
    {
     "name": "stderr",
     "output_type": "stream",
     "text": [
      "/home/sophia/ma_py/.venv/lib/python3.8/site-packages/sklearn/linear_model/_sag.py:328: ConvergenceWarning: The max_iter was reached which means the coef_ did not converge\n",
      "  warnings.warn(\"The max_iter was reached which means \"\n"
     ]
    },
    {
     "name": "stdout",
     "output_type": "stream",
     "text": [
      "Grid search done in 50.25s\n",
      "Selected features:  [('subtf', 'netflix'), ('subtf', 'rad_decentralization'), ('subtf', 'openttd'), ('subtf', 'ucalgary'), ('subtf', 'checkmylogic'), ('subtf', 'eq2'), ('wordngram', 'ah'), ('wordngram', 'appreci'), ('wordngram', 'arrest'), ('wordngram', 'arriv'), ('wordngram', 'fals'), ('wordngram', 'finish'), ('wordngram', 'invest'), ('wordngram', 'like not'), ('wordngram', 'meaningless'), ('wordngram', 'oh god'), ('wordngram', 'op'), ('wordngram', 'phone'), ('wordngram', 'sacrific'), ('wordngram', 'ta'), ('wordngram', 'unless'), ('wordngram', 'wear'), ('charngram', 'cau'), ('charngram', 'e p'), ('charngram', 'g m'), ('charngram', 'h l'), ('charngram', 'lin'), ('charngram', 'n u'), ('charngram', 'na_char'), ('charngram', 'nst')]\n"
     ]
    },
    {
     "name": "stderr",
     "output_type": "stream",
     "text": [
      "/home/sophia/ma_py/.venv/lib/python3.8/site-packages/sklearn/linear_model/_sag.py:328: ConvergenceWarning: The max_iter was reached which means the coef_ did not converge\n",
      "  warnings.warn(\"The max_iter was reached which means \"\n"
     ]
    },
    {
     "name": "stdout",
     "output_type": "stream",
     "text": [
      "\tVal Accuracy:  0.6790123456790124 Val F1-score: 0.675 Best GS F1-score: 0.548200533148506 \n",
      "Best Params: {'classification__C': 1, 'classification__max_iter': 200, 'classification__solver': 'saga'}\n",
      "\n",
      "Create pipeline with log (Fold 3 ), for trait:  neuroticism ...\n",
      "\n"
     ]
    },
    {
     "name": "stderr",
     "output_type": "stream",
     "text": [
      "/home/sophia/ma_py/.venv/lib/python3.8/site-packages/sklearn/linear_model/_logistic.py:1355: UserWarning: 'n_jobs' > 1 does not have any effect when 'solver' is set to 'liblinear'. Got 'n_jobs' = 16.\n",
      "  warnings.warn(\"'n_jobs' > 1 does not have any effect when\"\n"
     ]
    },
    {
     "name": "stdout",
     "output_type": "stream",
     "text": [
      "Grid search done in 49.09s\n",
      "Selected features:  [('subtf', 'budgetaudiophile'), ('subtf', 'trollxfunny'), ('subtf', 'instlife'), ('subtf', 'izlam'), ('subtf', 'adporn'), ('subtf', 'wellington'), ('subtf', 'oneplus'), ('subtf', 'watchpeopledie'), ('subtf', 'hollowknight'), ('subtf', 'jetprogramme'), ('wordngram', 'casual'), ('wordngram', 'club'), ('wordngram', 'infinit'), ('wordngram', 'later'), ('wordngram', 'latter'), ('wordngram', 'month'), ('wordngram', 'not talk'), ('wordngram', 'send'), ('wordngram', 'smile'), ('wordngram', 'typic'), ('wordngram', 'white'), ('wordngram', 'word'), ('charngram', 'ach'), ('charngram', 'ah_char'), ('charngram', 'cto'), ('charngram', 'em '), ('charngram', 'g l'), ('charngram', 'g r'), ('charngram', 'h v'), ('charngram', 'hat_char')]\n"
     ]
    },
    {
     "name": "stderr",
     "output_type": "stream",
     "text": [
      "/home/sophia/ma_py/.venv/lib/python3.8/site-packages/sklearn/linear_model/_logistic.py:1355: UserWarning: 'n_jobs' > 1 does not have any effect when 'solver' is set to 'liblinear'. Got 'n_jobs' = 16.\n",
      "  warnings.warn(\"'n_jobs' > 1 does not have any effect when\"\n"
     ]
    },
    {
     "name": "stdout",
     "output_type": "stream",
     "text": [
      "\tVal Accuracy:  0.5875 Val F1-score: 0.5724696356275304 Best GS F1-score: 0.591844681481776 \n",
      "Best Params: {'classification__C': 0.01, 'classification__max_iter': 100, 'classification__solver': 'liblinear'}\n",
      "\n",
      "Create pipeline with log (Fold 4 ), for trait:  neuroticism ...\n",
      "\n"
     ]
    },
    {
     "name": "stderr",
     "output_type": "stream",
     "text": [
      "/home/sophia/ma_py/.venv/lib/python3.8/site-packages/sklearn/linear_model/_logistic.py:1355: UserWarning: 'n_jobs' > 1 does not have any effect when 'solver' is set to 'liblinear'. Got 'n_jobs' = 16.\n",
      "  warnings.warn(\"'n_jobs' > 1 does not have any effect when\"\n"
     ]
    },
    {
     "name": "stdout",
     "output_type": "stream",
     "text": [
      "Grid search done in 49.27s\n",
      "Selected features:  [('subtf', 'callofcthulhu'), ('subtf', 'superhot'), ('subtf', 'warhammer'), ('subtf', 'nononsensembti'), ('subtf', 'compsci'), ('subtf', 'vent'), ('subtf', 'veganketo'), ('subtf', 'historywhatif'), ('subtf', 'okbuddyretard'), ('subtf', 'badwomensanatomy'), ('subtf', 'insomnia'), ('subtf', 'ancientgreece'), ('subtf', 'broslikeus'), ('wordngram', 'along'), ('wordngram', 'autism'), ('wordngram', 'awar'), ('wordngram', 'bottom'), ('wordngram', 'can'), ('wordngram', 'career'), ('wordngram', 'feet'), ('wordngram', 'ish'), ('wordngram', 'much time'), ('wordngram', 'not big'), ('wordngram', 'remain'), ('wordngram', 'want not'), ('charngram', ' r'), ('charngram', 'e l'), ('charngram', 'ev'), ('charngram', 'ew'), ('charngram', 'g d')]\n"
     ]
    },
    {
     "name": "stderr",
     "output_type": "stream",
     "text": [
      "/home/sophia/ma_py/.venv/lib/python3.8/site-packages/sklearn/linear_model/_logistic.py:1355: UserWarning: 'n_jobs' > 1 does not have any effect when 'solver' is set to 'liblinear'. Got 'n_jobs' = 16.\n",
      "  warnings.warn(\"'n_jobs' > 1 does not have any effect when\"\n"
     ]
    },
    {
     "name": "stdout",
     "output_type": "stream",
     "text": [
      "\tVal Accuracy:  0.6125 Val F1-score: 0.6019900497512438 Best GS F1-score: 0.5929108680316721 \n",
      "Best Params: {'classification__C': 0.001, 'classification__max_iter': 100, 'classification__solver': 'liblinear'}\n",
      "\n",
      "Create pipeline with log (Fold 5 ), for trait:  neuroticism ...\n",
      "\n",
      "Grid search done in 49.24s\n",
      "Selected features:  [('subtf', 'dungeonlink'), ('subtf', 'surrealmemes'), ('subtf', 'enemystands'), ('subtf', 'starterpacks'), ('subtf', 'pykemains'), ('subtf', 'gallifrey'), ('subtf', 'paydaytheheist'), ('subtf', 'soulssliders'), ('subtf', 'ehlersdanlos'), ('subtf', 'hackintosh'), ('wordngram', 'amp amp'), ('wordngram', 'basic'), ('wordngram', 'cheap'), ('wordngram', 'crime'), ('wordngram', 'destroy'), ('wordngram', 'disappoint'), ('wordngram', 'entitl'), ('wordngram', 'everyon'), ('wordngram', 'instantli'), ('wordngram', 'involv'), ('wordngram', 'neutral'), ('wordngram', 'never'), ('wordngram', 'not use'), ('wordngram', 'punch'), ('wordngram', 'tower'), ('charngram', 'efi'), ('charngram', 'eq'), ('charngram', 'equ'), ('charngram', 'las'), ('charngram', 'lwa')]\n",
      "\tVal Accuracy:  0.5625 Val F1-score: 0.5418098510882017 Best GS F1-score: 0.5238484231833395 \n",
      "Best Params: {'classification__C': 0.01, 'classification__max_iter': 100, 'classification__solver': 'lbfgs'}\n",
      "\n",
      "\n",
      "Average f1 macro score:  0.5840826582753277\n",
      "Average accuracy:  0.5969444444444445\n",
      "Time for entire process: 1264.62s\n"
     ]
    },
    {
     "name": "stderr",
     "output_type": "stream",
     "text": [
      "<ipython-input-8-59ea1dbf0eea>:95: MatplotlibDeprecationWarning: Adding an axes using the same arguments as a previous axes currently reuses the earlier instance.  In a future version, a new instance will always be created and returned.  Meanwhile, this warning can be suppressed, and the future behavior ensured, by passing a unique label to each axes instance.\n",
      "  plt.axes().set_aspect('equal', 'datalim')\n"
     ]
    },
    {
     "data": {
      "image/png": "[encoded data removed]",
      "text/plain": [
       "<Figure size 360x360 with 1 Axes>"
      ]
     },
     "metadata": {
      "needs_background": "light"
     },
     "output_type": "display_data"
    }
   ],
   "source": [
    "classify_cv(df, big5_traits, 'binary', ['log'], 'anova', dim=False, n_feat=30)"
   ]
  },
  {
   "cell_type": "code",
   "execution_count": null,
   "metadata": {},
   "outputs": [],
   "source": [
    "classify_cv(df, mbti_traits, 'mbti', ['log'], 'anova', dim=False, n_feat=30)"
   ]
  },
  {
   "cell_type": "code",
   "execution_count": null,
   "metadata": {},
   "outputs": [],
   "source": [
    "print(\"Logistic regression with subsets of the features\")\n",
    "print(\"LR with word ngrams\")\n",
    "classify_cv(log_wordngrams_df, big5_traits, 'binary', ['log'], 'anova', dim=False)"
   ]
  },
  {
   "cell_type": "code",
   "execution_count": null,
   "metadata": {},
   "outputs": [],
   "source": [
    "print(\"LR with char ngrams\")\n",
    "classify_cv(log_charngrams_df, big5_traits, 'binary', ['log'], 'anova', dim=False)"
   ]
  },
  {
   "cell_type": "code",
   "execution_count": null,
   "metadata": {},
   "outputs": [],
   "source": [
    "print(\"LR with wordlists\")\n",
    "classify_cv(log_wordlists_df, big5_traits, 'binary', ['log'], 'anova', dim=False)"
   ]
  },
  {
   "cell_type": "code",
   "execution_count": null,
   "metadata": {},
   "outputs": [],
   "source": [
    "print(\"LR with posts features\")\n",
    "classify_cv(log_posts_df, big5_traits, 'binary', ['log'], 'anova', dim=False)"
   ]
  },
  {
   "cell_type": "code",
   "execution_count": null,
   "metadata": {},
   "outputs": [],
   "source": [
    "print(\"LR with posts features but without subreddit\")\n",
    "classify_cv(log_postswithoutsubreddits_df, big5_traits, 'binary', ['log'], 'anova', dim=False)"
   ]
  },
  {
   "cell_type": "markdown",
   "metadata": {},
   "source": [
    "## New approach"
   ]
  },
  {
   "cell_type": "code",
   "execution_count": null,
   "metadata": {
    "scrolled": true
   },
   "outputs": [],
   "source": [
    "print(\"LR with mutual info feature selection\")\n",
    "classify_cv(df, 'binary', ['log'], 'mutual', dim=False)"
   ]
  },
  {
   "cell_type": "code",
   "execution_count": null,
   "metadata": {
    "scrolled": true
   },
   "outputs": [],
   "source": [
    "print(\"LR with sequential feature selection and pca\")\n",
    "classify_cv(df, 'binary', ['log'], 'sequential', dim=True´´´´´´´´´´´´´´´´´)"
   ]
  },
  {
   "cell_type": "markdown",
   "metadata": {},
   "source": [
    "## Histogram of true traits"
   ]
  },
  {
   "cell_type": "code",
   "execution_count": null,
   "metadata": {},
   "outputs": [],
   "source": [
    "def check_imbalance(df, traits):\n",
    "    length = len(df)\n",
    "    o = df['trait', 'big5_o']\n",
    "    c = df['trait', 'big5_c']\n",
    "    e = df['trait', 'big5_e']\n",
    "    a = df['trait', 'big5_a']\n",
    "    n = df['trait', 'big5_n']\n",
    "    binarylst = [o, c, e, a, n]\n",
    "    o5 = df['trait', 'big5_o_multi']\n",
    "    c5 = df['trait', 'big5_c_multi']\n",
    "    e5 = df['trait', 'big5_e_multi']\n",
    "    a5 = df['trait', 'big5_a_multi']\n",
    "    n5 = df['trait', 'big5_n_multi']\n",
    "    multilst = [o5, c5, e5, a5, n5]\n",
    "    \n",
    "    result = []\n",
    "    for trait in binarylst: \n",
    "        result.append(np.bincount(trait) / length)\n",
    "    result5 = []\n",
    "    for trait in multilst:\n",
    "        result5.append(np.bincount(trait) / len(trait))\n",
    "    \n",
    "    print(\"Distribution of the true trait values in the classes (in %):\\n\")\n",
    "    for i in range(len(traits)):\n",
    "        print(traits[i], \"\\n\\tBinary: \", result[i], \"\\n\\t5 classes: \", result5[i], \"\\n\")\n",
    "    \n",
    "#     result =np.bincount(o) / len(o)\n",
    "#     result5 =np.bincount(o5) / len(o)\n",
    "#     print(\"Openness\\n\\tBinary: \", result, \"\\n\\t5 classes: \", result5)\n",
    "\n",
    "    \n",
    "check_imbalance(df, traits)"
   ]
  },
  {
   "cell_type": "code",
   "execution_count": null,
   "metadata": {},
   "outputs": [],
   "source": [
    "# true histogram plots\n",
    "all_hist_true(df)"
   ]
  }
 ],
 "metadata": {
  "kernelspec": {
   "display_name": ".venv",
   "language": "python",
   "name": ".venv"
  },
  "language_info": {
   "codemirror_mode": {
    "name": "ipython",
    "version": 3
   },
   "file_extension": ".py",
   "mimetype": "text/x-python",
   "name": "python",
   "nbconvert_exporter": "python",
   "pygments_lexer": "ipython3",
   "version": "3.8.5"
  }
 },
 "nbformat": 4,
 "nbformat_minor": 4
}
