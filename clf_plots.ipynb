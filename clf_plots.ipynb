{
 "cells": [
  {
   "cell_type": "markdown",
   "metadata": {},
   "source": [
    "# Create ROC-plots with all traits per clf"
   ]
  },
  {
   "cell_type": "code",
   "execution_count": null,
   "metadata": {},
   "outputs": [],
   "source": [
    "import numpy as np\n",
    "import matplotlib.pyplot as plt\n",
    "from pathlib import Path"
   ]
  },
  {
   "cell_type": "markdown",
   "metadata": {},
   "source": [
    "# Big Five"
   ]
  },
  {
   "cell_type": "code",
   "execution_count": null,
   "metadata": {},
   "outputs": [],
   "source": [
    "def importdata(name):\n",
    "    startstring = '/home/sophia/ma_py/Big5-NLP/results/'\n",
    "    traito = '_openness'\n",
    "    traitc = '_conscientiousness'\n",
    "    traite = '_extraversion'\n",
    "    traita = '_agreeableness'\n",
    "    traitn = '_neuroticism'\n",
    "    reststring = '_meantprs.npy'\n",
    "    aucstring = '_auc.npy'\n",
    "    \n",
    "    o = np.load(startstring+name+traito+reststring)\n",
    "    c = np.load(startstring+name+traitc+reststring)\n",
    "    e = np.load(startstring+name+traite+reststring)\n",
    "    a = np.load(startstring+name+traita+reststring)\n",
    "    n = np.load(startstring+name+traitn+reststring)\n",
    "\n",
    "    ocean = np.stack([o,c,e,a,n])\n",
    "    x = np.mean(ocean, axis=0)\n",
    "    \n",
    "    o_auc = np.load(startstring+name+traito+aucstring)\n",
    "    c_auc = np.load(startstring+name+traitc+aucstring)\n",
    "    e_auc = np.load(startstring+name+traite+aucstring)\n",
    "    a_auc = np.load(startstring+name+traita+aucstring)\n",
    "    n_auc = np.load(startstring+name+traitn+aucstring)\n",
    "    \n",
    "    auc_all = np.stack([o_auc, c_auc, e_auc, a_auc, n_auc])\n",
    "    x_auc = np.mean(auc_all)\n",
    "    return o,c,e,a,n,x, o_auc, c_auc, e_auc, a_auc, n_auc, x_auc"
   ]
  },
  {
   "cell_type": "code",
   "execution_count": null,
   "metadata": {},
   "outputs": [],
   "source": [
    "def rocplot(name, o,c,e,a,n,x,o_auc, c_auc, e_auc, a_auc, n_auc, x_auc):\n",
    "    p = Path('/home/sophia/ma_py/Big5-NLP/results/roc_alltraits/')\n",
    "    mean_fpr = np.linspace(0, 1, 101)\n",
    "    plt.figure(figsize=(7,7))\n",
    "    plt.plot(mean_fpr, o, 'b', label='openness (AUC = %0.2f)' % (o_auc))\n",
    "    plt.plot(mean_fpr, c, 'g', label='conscientiousness (AUC = %0.2f)' % (c_auc))\n",
    "    plt.plot(mean_fpr, e, 'y', label='extraversion (AUC = %0.2f)' % (e_auc))\n",
    "    plt.plot(mean_fpr, a, 'c', label='agreeableness (AUC = %0.2f)' % (a_auc))\n",
    "    plt.plot(mean_fpr, n, 'm', label='neuroticism (AUC = %0.2f)' % (n_auc))\n",
    "    plt.plot(mean_fpr, x, 'k', label='mean (AUC = %0.2f)' % (x_auc), linewidth=3)\n",
    "\n",
    "    plt.plot([0, 1], [0, 1],'r--', label='Chance')\n",
    "    plt.xlim([-0.01, 1.01])\n",
    "    plt.ylim([-0.01, 1.01])\n",
    "    plt.ylabel('True Positive Rate')\n",
    "    plt.xlabel('False Positive Rate')\n",
    "    plt.legend(loc=\"lower right\")\n",
    "    plt.savefig(Path(p, name + \"_\" + 'alltraits_roc_plot.png'))\n",
    "    plt.show()"
   ]
  },
  {
   "cell_type": "markdown",
   "metadata": {},
   "source": [
    "## Conceptual methodological replication"
   ]
  },
  {
   "cell_type": "code",
   "execution_count": null,
   "metadata": {},
   "outputs": [],
   "source": [
    "# Logistic regression\n",
    "name = 'b5_allfeatures_df_log_binary_anova_PCAFalse_30'\n",
    "o,c,e,a,n,x,o_auc, c_auc, e_auc, a_auc, n_auc, x_auc= importdata(name)\n",
    "rocplot(name, o,c,e,a,n,x,o_auc, c_auc, e_auc, a_auc, n_auc, x_auc)\n",
    "\n",
    "# copy for later user in different function\n",
    "e_log = e.copy()\n",
    "e_auc_log = e_auc.copy()"
   ]
  },
  {
   "cell_type": "code",
   "execution_count": null,
   "metadata": {},
   "outputs": [],
   "source": [
    "# Multiclass classifier\n",
    "name = 'b5_allfeatures_df_mcc_binary_anova_PCAFalse_30'\n",
    "o,c,e,a,n,x,o_auc, c_auc, e_auc, a_auc, n_auc, x_auc= importdata(name)\n",
    "rocplot(name, o,c,e,a,n,x,o_auc, c_auc, e_auc, a_auc, n_auc, x_auc)\n",
    "\n",
    "e_mcc = e.copy()\n",
    "e_auc_mcc = e_auc.copy()"
   ]
  },
  {
   "cell_type": "code",
   "execution_count": null,
   "metadata": {},
   "outputs": [],
   "source": [
    "# Multi-layer perceptron\n",
    "name = 'b5_allfeatures_df_mlp_binary_anova_PCAFalse_30'\n",
    "o,c,e,a,n,x,o_auc, c_auc, e_auc, a_auc, n_auc, x_auc= importdata(name)\n",
    "rocplot(name, o,c,e,a,n,x,o_auc, c_auc, e_auc, a_auc, n_auc, x_auc)\n",
    "\n",
    "x30 = x.copy()\n",
    "x30_auc = x_auc.copy()\n",
    "\n",
    "\n",
    "e_mlp = e.copy()\n",
    "e_auc_mlp = e_auc.copy()"
   ]
  },
  {
   "cell_type": "code",
   "execution_count": null,
   "metadata": {
    "scrolled": true
   },
   "outputs": [],
   "source": [
    "# Support vector machine\n",
    "name = 'b5_allfeatures_df_svm_binary_anova_PCAFalse_30'\n",
    "o,c,e,a,n,x,o_auc, c_auc, e_auc, a_auc, n_auc, x_auc= importdata(name)\n",
    "rocplot(name, o,c,e,a,n,x,o_auc, c_auc, e_auc, a_auc, n_auc, x_auc)\n",
    "\n",
    "\n",
    "e_svm = e.copy()\n",
    "e_auc_svm = e_auc.copy()"
   ]
  },
  {
   "cell_type": "code",
   "execution_count": null,
   "metadata": {},
   "outputs": [],
   "source": [
    "# create a plot which shows comparison between classifiers with one trait\n",
    "def rocplot_onetrait(e_log, e_svm, e_mlp, e_mcc, e_auc_log, e_auc_mlp, e_auc_mcc, e_auc_svm):\n",
    "    p = Path('/home/sophia/ma_py/Big5-NLP/results/roc_alltraits/')\n",
    "    mean_fpr = np.linspace(0, 1, 101)\n",
    "    plt.figure(figsize=(7,7))\n",
    "    plt.plot(mean_fpr, e_mcc, 'k', label='MCC (AUC = %0.2f)' % (e_auc_mcc))\n",
    "    plt.plot(mean_fpr, e_mlp, 'b', label='MLP (AUC = %0.2f)' % (e_auc_mlp))\n",
    "    plt.plot(mean_fpr, e_svm, 'm', label='SVM (AUC = %0.2f)' % (e_auc_svm))\n",
    "    plt.plot(mean_fpr, e_log, 'g', label='LR (AUC = %0.2f)' % (e_auc_log))\n",
    "\n",
    "    plt.plot([0, 1], [0, 1],'r--', label='Chance')\n",
    "    plt.xlim([-0.01, 1.01])\n",
    "    plt.ylim([-0.01, 1.01])\n",
    "    plt.ylabel('True Positive Rate')\n",
    "    plt.xlabel('False Positive Rate')\n",
    "    plt.legend(loc=\"lower right\")\n",
    "    plt.savefig(Path(p, \"b5_allfeatures_df_clfcompare_binary_anova_PCAfalse_roc_plot.png\"))\n",
    "    plt.show()\n",
    "\n",
    "rocplot_onetrait(e_log, e_svm, e_mlp, e_mcc, e_auc_log, e_auc_mlp, e_auc_mcc, e_auc_svm)"
   ]
  },
  {
   "cell_type": "markdown",
   "metadata": {},
   "source": [
    "## Experiment 1: Number of features"
   ]
  },
  {
   "cell_type": "code",
   "execution_count": null,
   "metadata": {},
   "outputs": [],
   "source": [
    "# create plot for comparing number of features with average from traits\n",
    "def rocplot_nfeat(x5, x5_auc, x10, x10_auc, x20, x20_auc, x30, x30_auc):\n",
    "    p = Path('/home/sophia/ma_py/Big5-NLP/results/roc_alltraits/')\n",
    "    mean_fpr = np.linspace(0, 1, 101)\n",
    "    plt.figure(figsize=(7,7))\n",
    "    plt.plot(mean_fpr, x5, 'y', label='n=5 (AUC = %0.2f)' % (x5_auc))\n",
    "    plt.plot(mean_fpr, x10, 'm', label='n=10 (AUC = %0.2f)' % (x10_auc))\n",
    "    plt.plot(mean_fpr, x20, 'c', label='n=20 (AUC = %0.2f)' % (x20_auc))\n",
    "    plt.plot(mean_fpr, x30, 'k', label='n=30 (AUC = %0.2f)' % (x30_auc), linewidth=2)\n",
    "\n",
    "    plt.plot([0, 1], [0, 1],'r--', label='Chance')\n",
    "    plt.xlim([-0.01, 1.01])\n",
    "    plt.ylim([-0.01, 1.01])\n",
    "    plt.ylabel('True Positive Rate')\n",
    "    plt.xlabel('False Positive Rate')\n",
    "    plt.legend(loc=\"lower right\")\n",
    "    plt.savefig(Path(p, \"b5_allfeatures_df_mlp_binary_anova_PCAfalse_nfeatcompare_roc_plot.png\"))\n",
    "    plt.show()"
   ]
  },
  {
   "cell_type": "code",
   "execution_count": null,
   "metadata": {},
   "outputs": [],
   "source": [
    "name = 'b5_allfeatures_df_mlp_binary_anova_PCAFalse_5'\n",
    "o,c,e,a,n,x,o_auc, c_auc, e_auc, a_auc, n_auc, x_auc= importdata(name)\n",
    "rocplot(name, o,c,e,a,n,x,o_auc, c_auc, e_auc, a_auc, n_auc, x_auc)\n",
    "\n",
    "x5 =x.copy()\n",
    "x5_auc = x_auc.copy()"
   ]
  },
  {
   "cell_type": "code",
   "execution_count": null,
   "metadata": {},
   "outputs": [],
   "source": [
    "name = 'b5_allfeatures_df_mlp_binary_anova_PCAFalse_10'\n",
    "o,c,e,a,n,x,o_auc, c_auc, e_auc, a_auc, n_auc, x_auc= importdata(name)\n",
    "rocplot(name, o,c,e,a,n,x,o_auc, c_auc, e_auc, a_auc, n_auc, x_auc)\n",
    "\n",
    "x10 =x.copy()\n",
    "x10_auc = x_auc.copy()"
   ]
  },
  {
   "cell_type": "code",
   "execution_count": null,
   "metadata": {},
   "outputs": [],
   "source": [
    "name = 'b5_allfeatures_df_mlp_binary_anova_PCAFalse_20'\n",
    "o,c,e,a,n,x,o_auc, c_auc, e_auc, a_auc, n_auc, x_auc= importdata(name)\n",
    "rocplot(name, o,c,e,a,n,x,o_auc, c_auc, e_auc, a_auc, n_auc, x_auc)\n",
    "\n",
    "x20 =x.copy()\n",
    "x20_auc = x_auc.copy()"
   ]
  },
  {
   "cell_type": "code",
   "execution_count": null,
   "metadata": {},
   "outputs": [],
   "source": [
    "name = 'b5_allfeatures_df_mlp_binary_anova_PCAFalse_1'\n",
    "o,c,e,a,n,x,o_auc, c_auc, e_auc, a_auc, n_auc, x_auc= importdata(name)\n",
    "rocplot(name, o,c,e,a,n,x,o_auc, c_auc, e_auc, a_auc, n_auc, x_auc)\n",
    "\n",
    "x1 =x.copy()\n",
    "x1_auc = x_auc.copy()"
   ]
  },
  {
   "cell_type": "code",
   "execution_count": null,
   "metadata": {},
   "outputs": [],
   "source": [
    "rocplot_nfeat(x5, x5_auc, x10, x10_auc, x20, x20_auc, x30, x30_auc)"
   ]
  },
  {
   "cell_type": "markdown",
   "metadata": {},
   "source": [
    "## Experiment 2: Include PCA"
   ]
  },
  {
   "cell_type": "code",
   "execution_count": null,
   "metadata": {},
   "outputs": [],
   "source": [
    "# Multi-layer perceptron\n",
    "name = 'b5_allfeatures_df_mlp_binary_anova_PCATrue_30'\n",
    "o,c,e,a,n,x,o_auc, c_auc, e_auc, a_auc, n_auc, x_auc= importdata(name)\n",
    "rocplot(name, o,c,e,a,n,x,o_auc, c_auc, e_auc, a_auc, n_auc, x_auc)"
   ]
  },
  {
   "cell_type": "markdown",
   "metadata": {},
   "source": [
    "## Experiment 3: Different classifiers"
   ]
  },
  {
   "cell_type": "code",
   "execution_count": null,
   "metadata": {},
   "outputs": [],
   "source": [
    "# Gradient boost classifier\n",
    "name = 'b5_allfeatures_df_boost_binary_anova_PCAFalse_10'\n",
    "o,c,e,a,n,x,o_auc, c_auc, e_auc, a_auc, n_auc, x_auc= importdata(name)\n",
    "rocplot(name, o,c,e,a,n,x,o_auc, c_auc, e_auc, a_auc, n_auc, x_auc)"
   ]
  },
  {
   "cell_type": "code",
   "execution_count": null,
   "metadata": {},
   "outputs": [],
   "source": [
    "# Naive Bayes classifier\n",
    "name = 'b5_allfeatures_df_nb_binary_anova_PCAFalse_10'\n",
    "o,c,e,a,n,x,o_auc, c_auc, e_auc, a_auc, n_auc, x_auc= importdata(name)\n",
    "rocplot(name, o,c,e,a,n,x,o_auc, c_auc, e_auc, a_auc, n_auc, x_auc)"
   ]
  },
  {
   "cell_type": "code",
   "execution_count": null,
   "metadata": {},
   "outputs": [],
   "source": [
    "# Random forest classifier\n",
    "name = 'b5_allfeatures_df_rfc_binary_anova_PCAFalse_10'\n",
    "o,c,e,a,n,x,o_auc, c_auc, e_auc, a_auc, n_auc, x_auc= importdata(name)\n",
    "rocplot(name, o,c,e,a,n,x,o_auc, c_auc, e_auc, a_auc, n_auc, x_auc)"
   ]
  },
  {
   "cell_type": "code",
   "execution_count": null,
   "metadata": {},
   "outputs": [],
   "source": [
    "# Decision tree classifier\n",
    "name = 'b5_allfeatures_df_tree_binary_anova_PCAFalse_10'\n",
    "o,c,e,a,n,x,o_auc, c_auc, e_auc, a_auc, n_auc, x_auc= importdata(name)\n",
    "rocplot(name, o,c,e,a,n,x,o_auc, c_auc, e_auc, a_auc, n_auc, x_auc)"
   ]
  },
  {
   "cell_type": "markdown",
   "metadata": {},
   "source": [
    "## Experiment 4: Different feature selection"
   ]
  },
  {
   "cell_type": "code",
   "execution_count": null,
   "metadata": {},
   "outputs": [],
   "source": [
    "# compare mutual information and forward selection feature selection with multi-layer perceptron\n",
    "def rocplot_nfeat(x_mipca, x_auc_mipca, x_miaov, x_auc_miaov, x_fspca, x_auc_fspca, x_fsaov, x_auc_fsaov, x10, x10_auc):\n",
    "    p = Path('/home/sophia/ma_py/Big5-NLP/results/roc_alltraits/')\n",
    "    mean_fpr = np.linspace(0, 1, 101)\n",
    "    plt.figure(figsize=(7,7))\n",
    "    plt.plot(mean_fpr, x_mipca, 'b', label='MI+PCA (AUC = %0.2f)' % (x_auc_mlppca))\n",
    "    plt.plot(mean_fpr, x_miaov, 'c', label='MI+ANOVA (AUC = %0.2f)' % (x_auc_mlpaov))\n",
    "    plt.plot(mean_fpr, x_fspca, 'm', label='FSFS+PCA (AUC = %0.2f)' % (x_auc_rfcpca))\n",
    "    plt.plot(mean_fpr, x_fsaov, 'y', label='FSFS+ANOVA (AUC = %0.2f)' % (x_auc_rfcaov))\n",
    "    plt.plot(mean_fpr, x10, 'k--', label='Baseline (AUC = %0.2f)' % (x10_auc))\n",
    "\n",
    "    plt.plot([0, 1], [0, 1],'r--', label='Chance')\n",
    "    plt.xlim([-0.01, 1.01])\n",
    "    plt.ylim([-0.01, 1.01])\n",
    "    plt.ylabel('True Positive Rate')\n",
    "    plt.xlabel('False Positive Rate')\n",
    "    plt.legend(loc=\"lower right\")\n",
    "    plt.savefig(Path(p, \"b5_allfeatures_df_mlp_rfc_binary_fscompare_roc_plot.png\"))\n",
    "    plt.show()"
   ]
  },
  {
   "cell_type": "code",
   "execution_count": null,
   "metadata": {},
   "outputs": [],
   "source": [
    "name = 'b5_allfeatures_df_mlp_binary_mutual_PCAFalse_10'\n",
    "o,c,e,a,n,x,o_auc, c_auc, e_auc, a_auc, n_auc, x_auc= importdata(name)\n",
    "rocplot(name, o,c,e,a,n,x,o_auc, c_auc, e_auc, a_auc, n_auc, x_auc)\n",
    "\n",
    "x_mipca = x.copy()\n",
    "x_auc_mipca = x_auc.copy()"
   ]
  },
  {
   "cell_type": "code",
   "execution_count": null,
   "metadata": {},
   "outputs": [],
   "source": [
    "name = 'b5_allfeatures_df_mlp_binary_mutual_PCATrue_10'\n",
    "o,c,e,a,n,x,o_auc, c_auc, e_auc, a_auc, n_auc, x_auc= importdata(name)\n",
    "rocplot(name, o,c,e,a,n,x,o_auc, c_auc, e_auc, a_auc, n_auc, x_auc)\n",
    "\n",
    "x_miaov = x.copy()\n",
    "x_auc_miaov = x_auc.copy()"
   ]
  },
  {
   "cell_type": "code",
   "execution_count": null,
   "metadata": {},
   "outputs": [],
   "source": [
    "name = 'b5_allfeatures_df_mlp_binary_sequential_forward_PCAFalse_10'\n",
    "o,c,e,a,n,x,o_auc, c_auc, e_auc, a_auc, n_auc, x_auc= importdata(name)\n",
    "rocplot(name, o,c,e,a,n,x,o_auc, c_auc, e_auc, a_auc, n_auc, x_auc)\n",
    "\n",
    "x_fspca = x.copy()\n",
    "x_auc_fspca = x_auc.copy()"
   ]
  },
  {
   "cell_type": "code",
   "execution_count": null,
   "metadata": {},
   "outputs": [],
   "source": [
    "name = 'b5_allfeatures_df_mlp_binary_sequential_forward_PCATrue_10'\n",
    "o,c,e,a,n,x,o_auc, c_auc, e_auc, a_auc, n_auc, x_auc= importdata(name)\n",
    "rocplot(name, o,c,e,a,n,x,o_auc, c_auc, e_auc, a_auc, n_auc, x_auc)\n",
    "\n",
    "x_fsaov = x.copy()\n",
    "x_auc_fsaov = x_auc.copy()"
   ]
  },
  {
   "cell_type": "code",
   "execution_count": null,
   "metadata": {},
   "outputs": [],
   "source": [
    " rocplot_nfeat(x_mipca, x_auc_mipca, x_miaov, x_auc_miaov, x_fspca, x_auc_fspca, x_fsaov, x_auc_fsaov, x10, x10_auc)"
   ]
  },
  {
   "cell_type": "markdown",
   "metadata": {},
   "source": [
    "## Augmented data"
   ]
  },
  {
   "cell_type": "code",
   "execution_count": null,
   "metadata": {},
   "outputs": [],
   "source": [
    "# plot for augmented dataset with multi-layer perceptron\n",
    "name = 'augmented/b5_augmented_df_mlp_anova_PCAFalse_30'\n",
    "o,c,e,a,n,x,o_auc, c_auc, e_auc, a_auc, n_auc, x_auc= importdata(name)\n",
    "rocplot(name, o,c,e,a,n,x,o_auc, c_auc, e_auc, a_auc, n_auc, x_auc)"
   ]
  },
  {
   "cell_type": "markdown",
   "metadata": {},
   "source": [
    "# MBTI - Data subset"
   ]
  },
  {
   "cell_type": "code",
   "execution_count": null,
   "metadata": {},
   "outputs": [],
   "source": [
    "# create plots for the data subset including MBTI labels (multi-layer perceptron)\n",
    "def importdatambti(name):\n",
    "    startstring = '/home/sophia/ma_py/Big5-NLP/results/'\n",
    "    typeei = '_mbti_ei'\n",
    "    typejp = '_mbti_jp'\n",
    "    typens = '_mbti_ns'\n",
    "    typetf = '_mbti_tf'\n",
    "    reststring = '_meantprs.npy'\n",
    "    aucstring = '_auc.npy'\n",
    "    \n",
    "    ei = np.load(startstring+name+typeei+reststring)\n",
    "    jp = np.load(startstring+name+typejp+reststring)\n",
    "    ns = np.load(startstring+name+typens+reststring)\n",
    "    tf = np.load(startstring+name+typetf+reststring)\n",
    "    allmbti = np.stack([ei,jp,ns,tf])\n",
    "    x = np.mean(allmbti, axis=0)\n",
    "    \n",
    "    ei_auc = np.load(startstring+name+typeei+aucstring)\n",
    "    jp_auc = np.load(startstring+name+typejp+aucstring)\n",
    "    ns_auc = np.load(startstring+name+typens+aucstring)\n",
    "    tf_auc = np.load(startstring+name+typetf+aucstring)\n",
    "    allmbti_auc = np.stack([ei_auc,jp_auc,ns_auc,tf_auc])\n",
    "    x_auc = np.mean(allmbti_auc, axis=0)\n",
    "    \n",
    "    return ei,jp,ns,tf,x,ei_auc,jp_auc,ns_auc,tf_auc,x_auc\n",
    "\n",
    "def rocplotmbti(name, ei,jp,ns,tf,x,ei_auc,jp_auc,ns_auc,tf_auc,x_auc):\n",
    "    p = Path('/home/sophia/ma_py/Big5-NLP/results/roc_alltraits/')\n",
    "    mean_fpr = np.linspace(0, 1, 101)\n",
    "    plt.figure(figsize=(7, 7))\n",
    "    plt.plot(mean_fpr, ei, 'b', label='E/I (AUC = %0.2f)' % (ei_auc))\n",
    "    plt.plot(mean_fpr, jp, 'g', label='J/P (AUC = %0.2f)' % (jp_auc))\n",
    "    plt.plot(mean_fpr, ns, 'y', label='N/S (AUC = %0.2f)' % (ns_auc))\n",
    "    plt.plot(mean_fpr, tf, 'c', label='T/F (AUC = %0.2f)' % (tf_auc))\n",
    "    plt.plot(mean_fpr, x, 'k', label='mean (AUC = %0.2f)' % (x_auc), linewidth=3)\n",
    "\n",
    "    plt.plot([0, 1], [0, 1],'r--', label='Chance')\n",
    "    plt.xlim([-0.01, 1.01])\n",
    "    plt.ylim([-0.01, 1.01])\n",
    "    plt.ylabel('True Positive Rate')\n",
    "    plt.xlabel('False Positive Rate')\n",
    "    plt.legend(loc=\"lower right\")\n",
    "    plt.savefig(Path(p, name + \"_\" + 'alltraits_roc_plot.png'))\n",
    "    plt.show()"
   ]
  },
  {
   "cell_type": "code",
   "execution_count": null,
   "metadata": {},
   "outputs": [],
   "source": [
    "# plot for MBTI labels\n",
    "name = 'mbti_b5mbtifeatures_df_mlp_mbti_anova_PCAFalse_30'\n",
    "ei,jp,ns,tf,x,ei_auc,jp_auc,ns_auc,tf_auc,x_auc= importdatambti(name)\n",
    "rocplotmbti(name, ei,jp,ns,tf,x,ei_auc,jp_auc,ns_auc,tf_auc,x_auc)"
   ]
  },
  {
   "cell_type": "code",
   "execution_count": null,
   "metadata": {},
   "outputs": [],
   "source": [
    "# plot for Big Five labels\n",
    "name = 'b5_b5mbtifeatures_df_mlp_binary_anova_PCAFalse_30'\n",
    "o,c,e,a,n,x,o_auc, c_auc, e_auc, a_auc, n_auc, x_auc= importdata(name)\n",
    "rocplot(name, o,c,e,a,n,x,o_auc, c_auc, e_auc, a_auc, n_auc, x_auc)"
   ]
  }
 ],
 "metadata": {
  "kernelspec": {
   "display_name": ".venv",
   "language": "python",
   "name": ".venv"
  },
  "language_info": {
   "codemirror_mode": {
    "name": "ipython",
    "version": 3
   },
   "file_extension": ".py",
   "mimetype": "text/x-python",
   "name": "python",
   "nbconvert_exporter": "python",
   "pygments_lexer": "ipython3",
   "version": "3.8.5"
  }
 },
 "nbformat": 4,
 "nbformat_minor": 4
}
