{
 "cells": [
  {
   "cell_type": "markdown",
   "metadata": {},
   "source": [
    "# Data augmentation"
   ]
  },
  {
   "cell_type": "code",
   "execution_count": null,
   "metadata": {},
   "outputs": [],
   "source": [
    "# Import packages\n",
    "\n",
    "import pandas as pd\n",
    "import random\n",
    "random.seed(32)"
   ]
  },
  {
   "cell_type": "code",
   "execution_count": null,
   "metadata": {},
   "outputs": [],
   "source": [
    "# Import dataset with comments\n",
    "df = pd.read_csv('/home/sophia/ma_py/pandora_bigfive.csv')\n",
    "\n",
    "# Import dataset authors and delete not needed columns\n",
    "authors = pd.read_csv('/home/sophia/ma_py/author_profiles.csv')\n",
    "bigfive = authors[['author', 'mbti', 'agreeableness','openness','conscientiousness','extraversion','neuroticism']]\n",
    "bigfive = bigfive[bigfive['agreeableness'].notna()]\n",
    "uniondf = bigfive[bigfive['mbti'].notna()]\n",
    "uniondf = uniondf.reset_index(drop=True)\n",
    "uniondf.head()\n",
    "\n",
    "namelist = ['mbti_ei', 'mbti_ns', 'mbti_tf', 'mbti_jp']\n",
    "\n",
    "for i in range(len(namelist)):\n",
    "    uniondf[namelist[i]] = uniondf['mbti'].apply(lambda x:[x[i]])\n",
    "    uniondf[namelist[i]] = [item[0] for item in uniondf[namelist[i]]]\n",
    "\n",
    "uniondf"
   ]
  },
  {
   "cell_type": "code",
   "execution_count": null,
   "metadata": {
    "scrolled": true
   },
   "outputs": [],
   "source": [
    "# rename columns\n",
    "uniondf['mbti_ei'].replace('e', 1, inplace=True)\n",
    "uniondf['mbti_ei'].replace('i', 0, inplace=True)\n",
    "\n",
    "uniondf['mbti_ns'].replace('n', 1, inplace=True)\n",
    "uniondf['mbti_ns'].replace('s', 0, inplace=True)\n",
    "\n",
    "uniondf['mbti_tf'].replace('t', 1, inplace=True)\n",
    "uniondf['mbti_tf'].replace('f', 0, inplace=True)\n",
    "\n",
    "uniondf['mbti_jp'].replace('j', 1, inplace=True)\n",
    "uniondf['mbti_jp'].replace('p', 0, inplace=True)\n",
    "\n",
    "uniondf"
   ]
  },
  {
   "cell_type": "code",
   "execution_count": null,
   "metadata": {},
   "outputs": [],
   "source": [
    "# drop row if one of the values is 'x', i.e., drop missing data\n",
    "\n",
    "droplst = []\n",
    "for i in range(len(uniondf['mbti_ei'])):\n",
    "    if uniondf.iloc[i]['mbti_ei'] == 'x':\n",
    "        print(\"EI: \", i)\n",
    "        droplst.append(i)\n",
    "    elif uniondf.iloc[i]['mbti_ns'] == 'x':\n",
    "        print(\"NS: \", i)\n",
    "        droplst.append(i)\n",
    "    elif uniondf.iloc[i]['mbti_tf'] == 'x':\n",
    "        print(\"TF: \", i)\n",
    "        droplst.append(i)\n",
    "    elif uniondf.iloc[i]['mbti_jp'] == 'x':\n",
    "        print(\"JP: \", i)\n",
    "        droplst.append(i)\n",
    "        \n",
    "droplst = list(set(droplst))\n",
    "droplst.sort()\n",
    "\n",
    "uniondf.drop(uniondf.index[droplst], inplace=True)\n",
    "\n",
    "uniondf.info()"
   ]
  },
  {
   "cell_type": "code",
   "execution_count": null,
   "metadata": {},
   "outputs": [],
   "source": [
    "data_types_dict = {'mbti_ei': int, 'mbti_ns': int, 'mbti_tf': int, 'mbti_jp': int,}\n",
    "\n",
    "uniondf = uniondf.astype(data_types_dict)\n",
    "uniondf = uniondf.drop('mbti', axis=1)\n",
    "uniondf.to_pickle(\"uniondf.pkl\")\n",
    "uniondf.info(verbose=True)"
   ]
  },
  {
   "cell_type": "code",
   "execution_count": null,
   "metadata": {},
   "outputs": [],
   "source": [
    "authorlist = uniondf['author'].tolist()\n",
    "authorlist = list(set(authorlist))\n",
    "authorlist.sort()"
   ]
  },
  {
   "cell_type": "code",
   "execution_count": null,
   "metadata": {},
   "outputs": [],
   "source": [
    "# create new dataframe with subset of authors\n",
    "commentdf = df[df.author.isin(authorlist)]\n",
    "commentdf.head()\n",
    "\n",
    "newauthorlist = commentdf['author'].tolist()\n",
    "newauthorlist = list(set(newauthorlist))\n",
    "\n",
    "newauthorlist.sort()\n",
    "print(authorlist == newauthorlist)\n",
    "\n",
    "commentdf.to_pickle(\"comments_uniondf.pkl\")"
   ]
  }
 ],
 "metadata": {
  "kernelspec": {
   "display_name": ".venv",
   "language": "python",
   "name": ".venv"
  },
  "language_info": {
   "codemirror_mode": {
    "name": "ipython",
    "version": 3
   },
   "file_extension": ".py",
   "mimetype": "text/x-python",
   "name": "python",
   "nbconvert_exporter": "python",
   "pygments_lexer": "ipython3",
   "version": "3.8.5"
  }
 },
 "nbformat": 4,
 "nbformat_minor": 4
}
