{
 "cells": [
  {
   "cell_type": "markdown",
   "metadata": {},
   "source": [
    "# All functions for personality prediction"
   ]
  },
  {
   "cell_type": "markdown",
   "metadata": {},
   "source": [
    "## Prep"
   ]
  },
  {
   "cell_type": "code",
   "execution_count": 18,
   "metadata": {},
   "outputs": [
    {
     "name": "stderr",
     "output_type": "stream",
     "text": [
      "[nltk_data] Downloading package punkt to /home/sophia/nltk_data...\n",
      "[nltk_data]   Package punkt is already up-to-date!\n",
      "[nltk_data] Downloading package stopwords to /home/sophia/nltk_data...\n",
      "[nltk_data]   Package stopwords is already up-to-date!\n",
      "[nltk_data] Downloading package averaged_perceptron_tagger to\n",
      "[nltk_data]     /home/sophia/nltk_data...\n",
      "[nltk_data]   Package averaged_perceptron_tagger is already up-to-\n",
      "[nltk_data]       date!\n",
      "[nltk_data] Downloading package tagsets to /home/sophia/nltk_data...\n",
      "[nltk_data]   Package tagsets is already up-to-date!\n"
     ]
    }
   ],
   "source": [
    "# Import packages\n",
    "\n",
    "import nltk\n",
    "nltk.download('punkt')\n",
    "nltk.download('stopwords')\n",
    "nltk.download('averaged_perceptron_tagger')\n",
    "nltk.download('tagsets')\n",
    "from nltk.tokenize import word_tokenize, sent_tokenize\n",
    "from nltk.corpus import stopwords\n",
    "from nltk.stem import PorterStemmer\n",
    "from nltk.util import bigrams, ngrams\n",
    "\n",
    "import re\n",
    "import string\n",
    "from string import punctuation\n",
    "\n",
    "import sklearn\n",
    "from sklearn.feature_extraction.text import TfidfVectorizer \n",
    "from sklearn.feature_extraction.text import CountVectorizer \n",
    "from sklearn.pipeline import Pipeline\n",
    "from sklearn.preprocessing import StandardScaler\n",
    "from sklearn.feature_selection import SelectKBest, f_classif, VarianceThreshold\n",
    "from sklearn.model_selection import train_test_split\n",
    "from sklearn.linear_model import LogisticRegression\n",
    "from sklearn import metrics\n",
    "from sklearn.metrics import classification_report\n",
    "from sklearn.metrics import precision_recall_curve\n",
    "\n",
    "import gensim\n",
    "from gensim import corpora, models\n",
    "\n",
    "from empath import Empath\n",
    "\n",
    "from collections import Counter\n",
    "from num2words import num2words\n",
    "from lexicalrichness import LexicalRichness\n",
    "import textblob\n",
    "\n",
    "\n",
    "import pandas as pd\n",
    "pd.options.mode.chained_assignment = None  # default='warn'\n",
    "import numpy as np\n",
    "import matplotlib.pyplot as plt\n",
    "import seaborn as sns\n",
    "\n",
    "from tqdm.notebook import tqdm\n",
    "tqdm.pandas()\n",
    "import datetime\n",
    "import random\n",
    "random.seed(32)\n"
   ]
  },
  {
   "cell_type": "markdown",
   "metadata": {},
   "source": [
    "## Prepare dataset"
   ]
  },
  {
   "cell_type": "code",
   "execution_count": 2,
   "metadata": {},
   "outputs": [],
   "source": [
    "# Import dataset with comments\n",
    "df = pd.read_csv('/home/sophia/ma_py/pandora_bigfive.csv')\n",
    "\n",
    "# Import dataset authors and delete not needed columns\n",
    "authors = pd.read_csv('/home/sophia/ma_py/author_profiles.csv')\n",
    "bigfive = authors[['author','agreeableness','openness','conscientiousness','extraversion','neuroticism']]\n",
    "bigfive = bigfive[bigfive['agreeableness'].notna()]\n",
    "del authors"
   ]
  },
  {
   "cell_type": "code",
   "execution_count": 3,
   "metadata": {},
   "outputs": [],
   "source": [
    "# Functions\n",
    "\n",
    "# change language to numeric representation\n",
    "def numeric_lang(df):\n",
    "    # change lang to numerical representation\n",
    "    language = df['lang'].values.tolist()\n",
    "    language = set(language)\n",
    "    language\n",
    "    df['language']= np.select([df.lang == 'en', df.lang == 'es', df.lang == 'nl'], \n",
    "                            [0, 1, 2], \n",
    "                            default=3)\n",
    "    # print(gramsdf['language'])\n",
    "    df = df.drop(columns=['lang'])\n",
    "\n",
    "    return df\n",
    "\n",
    "# create time columns from UTC\n",
    "def create_timecolumns(df):\n",
    "    readable = []\n",
    "    weekday = []\n",
    "    month = []\n",
    "    year = []\n",
    "    for row in tqdm(df['created_utc']):\n",
    "        item = datetime.datetime.fromtimestamp(row)\n",
    "        weekday_item = item.strftime('%A')\n",
    "        readable_item = datetime.datetime.fromtimestamp(row).isoformat()\n",
    "        month.append(str(readable_item[5:7]))\n",
    "        year.append(str(readable_item[0:4]))\n",
    "        readable.append(readable_item)\n",
    "        weekday.append(weekday_item.lower())\n",
    "    df['time'] = readable\n",
    "    df['weekday'] = weekday\n",
    "    df['month'] = month\n",
    "    df['year'] = year\n",
    "    return df\n",
    "\n",
    "# count occurences in time columns to get time distribution\n",
    "def timecounter(lst, vocablst):\n",
    "    if vocablst == 'weekday':\n",
    "        vocab = ['monday', 'tuesday', 'wednesday', 'thursday', 'friday', 'saturday', 'sunday']\n",
    "    elif vocablst == 'month':\n",
    "        vocab = ['01', '02', '03', '04', '05', '06', '07', '08', '09', '10', '11', '12']\n",
    "    elif vocablst == 'year':\n",
    "        vocab = ['2015', '2016', '2017', '2018', '2019']\n",
    "    else:\n",
    "        print(\"No valid input: vocab list\")\n",
    "    vectorizer = CountVectorizer(analyzer=\"word\", vocabulary=vocab)\n",
    "    vectors = vectorizer.fit_transform(lst)\n",
    "    v = vectors.toarray()\n",
    "    return v\n",
    "\n",
    "# create a list of all subreddits in the dataset\n",
    "lst = df['subreddit'].tolist()\n",
    "lst = [item.lower() for item in lst]\n",
    "subredditset = set(lst)\n",
    "subredditlist = list(subredditset)\n",
    "\n",
    "# count occurences of subreddits \n",
    "def subredditcounter(lst, subredditlst):\n",
    "    vectorizer = CountVectorizer(analyzer=\"word\", vocabulary=subredditlist)\n",
    "    vectors = vectorizer.fit_transform(lst)\n",
    "    v = vectors.toarray()\n",
    "    return v\n",
    "\n",
    "# aggregate dataset to get one row per author and create new columns for time and subreddit\n",
    "def create_groupdf(df): \n",
    "    print(\"\\tCreate numeric language representation...\")\n",
    "    df = numeric_lang(df)\n",
    "    print(\"\\tCreate time columns...\")\n",
    "    df = create_timecolumns(df)\n",
    "    # create dictionary for aggregation function\n",
    "    d = {'lang': ['nunique'] , 'controversiality': ['mean'], 'gilded': ['mean'], \n",
    "         'body': (' '. join), 'doc_body': (lambda x : list(x)),\n",
    "         'utc': (lambda x : list(x)), 'subreddit': (' '. join), 'num_subreddit': ['nunique'],\n",
    "         'weekday': (' '. join), 'month': (' '. join), 'year': (' '. join)}\n",
    "    # '§'. join(x)\n",
    " \n",
    "    # new ungrouped columns\n",
    "    print(\"\\tCreate new ungrouped columns...\")\n",
    "    df['body'] = df['body'].apply(lambda x: str(x))\n",
    "    df['doc_body'] = df['body']\n",
    "    df['num_subreddit'] = df['subreddit']\n",
    "    df['lang'] = df['language'].apply(lambda x: str(x))\n",
    "    df['utc'] = df['created_utc'].apply(lambda x: str(x))\n",
    "#     df['subreddit'] = df['subreddit'].apply(lambda x: [x.lower()])\n",
    "    df['subreddit'] = df['subreddit'].apply(lambda x: ''.join(x.lower()))\n",
    "    \n",
    "    # create df groupd by author + transform\n",
    "    print(\"\\tGroup df by author...\")\n",
    "    groupdf = df.groupby(['author']).agg(d)\n",
    "    groupdf = groupdf.reset_index()\n",
    "    groupdf.columns = groupdf.columns.droplevel(1)\n",
    "    return groupdf\n",
    "    \n",
    "def create_new_columns(df):    \n",
    "    # body\n",
    "#     print(\"\\tCreate doc_body...\")\n",
    "# #     df['doc_body'] =  df['doc_body'].apply(lambda x: [x.split(\"§\") for x in x])\n",
    "#     # created_utc\n",
    "#     print(\"\\tCreate utc list...\")\n",
    "#     df['all_utc'] = df['utc_lst'].apply(lambda x: x.split())\n",
    "    # controversiality\n",
    "    print(\"\\tCreate controversiality column...\")\n",
    "    df['controversiality'] = df['controversiality'].fillna(0)\n",
    "    # gilded\n",
    "    print(\"\\tCreate mean_gilded...\")\n",
    "    df['gilded'] = df['gilded'].fillna(0)\n",
    "    # number of comments per subreddit\n",
    "    print(\"\\tCreate subreddit_dist...\")\n",
    "    subreddit_predist = subredditcounter(df['subreddit'], subredditlist)\n",
    "    subreddit_predist = subreddit_predist.tolist()\n",
    "    df['subreddit_dist'] = subreddit_predist\n",
    "    # time\n",
    "    print(\"\\tCreate weekday_dist...\")\n",
    "    weekday = timecounter(df['weekday'], 'weekday')\n",
    "    weekday = weekday.tolist()\n",
    "    df['weekday_dist'] = weekday\n",
    "    print(\"\\tCreate month_dist...\")\n",
    "    month = timecounter(df['month'], 'month')\n",
    "    month = month.tolist()\n",
    "    df['month_dist'] = month\n",
    "    print(\"\\tCreate year_dist...\")\n",
    "    year = timecounter(df['year'], 'year')\n",
    "    year = year.tolist()\n",
    "    df['year_dist'] = year\n",
    "    \n",
    "    print(\"\\tCreate new aggregated df...\")\n",
    "    newdf = df[['author', 'body', 'doc_body', 'utc', 'controversiality', \n",
    "                'gilded', 'num_subreddit', 'subreddit_dist', 'weekday_dist', \n",
    "                'month_dist', 'year_dist', 'lang']]\n",
    "    print(\"\\tSort new aggregated df...\")\n",
    "    newdf = newdf.sort_values(by='author')\n",
    "    print(\"\\tDrop duplicates in new aggregated df...\")\n",
    "    newdf = newdf.drop_duplicates(subset=['author'])\n",
    "    return newdf\n",
    "\n",
    "# get one column for each feature in the distributions of time and subreddit\n",
    "weekday = ['monday', 'tuesday', 'wednesday', 'thursday', 'friday', 'saturday', 'sunday']\n",
    "month = ['january', 'february', 'march', 'april', 'may', 'june', 'juli', 'august', 'september', 'october', 'november', 'december']\n",
    "year = ['2015', '2016', '2017', '2018', '2019']\n",
    "\n",
    "def onecolumnperdatapoint(df, column, namelist):\n",
    "    for i in tqdm(range(len(namelist))):\n",
    "        df[namelist[i]] = df[column].apply(lambda x:[x[i]])\n",
    "        df[namelist[i]] = [item[0] for item in df[namelist[i]]]\n",
    "    return df"
   ]
  },
  {
   "cell_type": "code",
   "execution_count": 4,
   "metadata": {},
   "outputs": [
    {
     "name": "stdout",
     "output_type": "stream",
     "text": [
      "Create comment df (name: pandora)...\n",
      "Create new df grouped by author...\n",
      "\tCreate numeric language representation...\n",
      "\tCreate time columns...\n"
     ]
    },
    {
     "data": {
      "application/vnd.jupyter.widget-view+json": {
       "model_id": "9a66436f31a440fd97d8fd1ddaf12345",
       "version_major": 2,
       "version_minor": 0
      },
      "text/plain": [
       "  0%|          | 0/3103208 [00:00<?, ?it/s]"
      ]
     },
     "metadata": {},
     "output_type": "display_data"
    },
    {
     "name": "stdout",
     "output_type": "stream",
     "text": [
      "\tCreate new ungrouped columns...\n",
      "\tGroup df by author...\n",
      "Create new columns with features...\n",
      "\tCreate controversiality column...\n",
      "\tCreate mean_gilded...\n",
      "\tCreate subreddit_dist...\n",
      "\tCreate weekday_dist...\n",
      "\tCreate month_dist...\n",
      "\tCreate year_dist...\n",
      "\tCreate new aggregated df...\n",
      "\tSort new aggregated df...\n",
      "\tDrop duplicates in new aggregated df...\n",
      "Distribute the weekday_dist to several columns...\n"
     ]
    },
    {
     "data": {
      "application/vnd.jupyter.widget-view+json": {
       "model_id": "3d763c0936764005b57cbb1a7a9ca102",
       "version_major": 2,
       "version_minor": 0
      },
      "text/plain": [
       "  0%|          | 0/7 [00:00<?, ?it/s]"
      ]
     },
     "metadata": {},
     "output_type": "display_data"
    },
    {
     "name": "stdout",
     "output_type": "stream",
     "text": [
      "Distribute the month_dist to several columns\n"
     ]
    },
    {
     "data": {
      "application/vnd.jupyter.widget-view+json": {
       "model_id": "67de57c78721458f916b3e201c8d11d8",
       "version_major": 2,
       "version_minor": 0
      },
      "text/plain": [
       "  0%|          | 0/12 [00:00<?, ?it/s]"
      ]
     },
     "metadata": {},
     "output_type": "display_data"
    },
    {
     "name": "stdout",
     "output_type": "stream",
     "text": [
      "Distribute the year_dist to several columns...\n"
     ]
    },
    {
     "data": {
      "application/vnd.jupyter.widget-view+json": {
       "model_id": "9dfa8eaabae345a3833515415f67bf74",
       "version_major": 2,
       "version_minor": 0
      },
      "text/plain": [
       "  0%|          | 0/5 [00:00<?, ?it/s]"
      ]
     },
     "metadata": {},
     "output_type": "display_data"
    },
    {
     "name": "stdout",
     "output_type": "stream",
     "text": [
      "Distribute the subreddit_dist to several columns...\n"
     ]
    },
    {
     "data": {
      "application/vnd.jupyter.widget-view+json": {
       "model_id": "3e6f371e23cc476eb47b7b61daa6d848",
       "version_major": 2,
       "version_minor": 0
      },
      "text/plain": [
       "  0%|          | 0/16063 [00:00<?, ?it/s]"
      ]
     },
     "metadata": {},
     "output_type": "display_data"
    },
    {
     "name": "stdout",
     "output_type": "stream",
     "text": [
      "Drop dist columns...\n",
      "Done...\n"
     ]
    }
   ],
   "source": [
    "# Wrapper for commentdf\n",
    "def create_commentdf(df):\n",
    "    print(\"Create new df grouped by author...\")\n",
    "    groupdf = create_groupdf(df)\n",
    "    print(\"Create new columns with features...\")\n",
    "    pandora = create_new_columns(groupdf)\n",
    "    print(\"Distribute the weekday_dist to several columns...\")\n",
    "    pandora = onecolumnperdatapoint(pandora, 'weekday_dist', weekday)\n",
    "    print(\"Distribute the month_dist to several columns\")\n",
    "    pandora = onecolumnperdatapoint(pandora, 'month_dist', month)\n",
    "    print(\"Distribute the year_dist to several columns...\")\n",
    "    pandora = onecolumnperdatapoint(pandora, 'year_dist', year)\n",
    "    print(\"Distribute the subreddit_dist to several columns...\")\n",
    "    pandora = onecolumnperdatapoint(pandora, 'subreddit_dist', subredditlist)\n",
    "    print(\"Drop dist columns...\")\n",
    "    pandora.drop(['weekday_dist', 'month_dist', 'year_dist', 'subreddit_dist'], axis=1, inplace=True)\n",
    "    return pandora\n",
    "\n",
    "# create commentdf\n",
    "print(\"Create comment df (name: pandora)...\")\n",
    "pandora = create_commentdf(df)\n",
    "print(\"Done...\")"
   ]
  },
  {
   "cell_type": "code",
   "execution_count": 5,
   "metadata": {},
   "outputs": [
    {
     "name": "stdout",
     "output_type": "stream",
     "text": [
      "Sort pandora df...\n",
      "Sort big five df...\n",
      "Set pandora index...\n",
      "Set bigfive index...\n",
      "Join commentdf and authordf\n",
      "Create binary representations for each personality trait\n"
     ]
    },
    {
     "data": {
      "text/html": [
       "<div>\n",
       "<style scoped>\n",
       "    .dataframe tbody tr th:only-of-type {\n",
       "        vertical-align: middle;\n",
       "    }\n",
       "\n",
       "    .dataframe tbody tr th {\n",
       "        vertical-align: top;\n",
       "    }\n",
       "\n",
       "    .dataframe thead th {\n",
       "        text-align: right;\n",
       "    }\n",
       "</style>\n",
       "<table border=\"1\" class=\"dataframe\">\n",
       "  <thead>\n",
       "    <tr style=\"text-align: right;\">\n",
       "      <th></th>\n",
       "      <th>body</th>\n",
       "      <th>doc_body</th>\n",
       "      <th>utc</th>\n",
       "      <th>controversiality</th>\n",
       "      <th>gilded</th>\n",
       "      <th>num_subreddit</th>\n",
       "      <th>lang</th>\n",
       "      <th>monday</th>\n",
       "      <th>tuesday</th>\n",
       "      <th>wednesday</th>\n",
       "      <th>...</th>\n",
       "      <th>dancedancerevolution</th>\n",
       "      <th>agreeableness</th>\n",
       "      <th>openness</th>\n",
       "      <th>conscientiousness</th>\n",
       "      <th>extraversion</th>\n",
       "      <th>neuroticism</th>\n",
       "      <th>agree</th>\n",
       "      <th>openn</th>\n",
       "      <th>consc</th>\n",
       "      <th>extra</th>\n",
       "    </tr>\n",
       "    <tr>\n",
       "      <th>author</th>\n",
       "      <th></th>\n",
       "      <th></th>\n",
       "      <th></th>\n",
       "      <th></th>\n",
       "      <th></th>\n",
       "      <th></th>\n",
       "      <th></th>\n",
       "      <th></th>\n",
       "      <th></th>\n",
       "      <th></th>\n",
       "      <th></th>\n",
       "      <th></th>\n",
       "      <th></th>\n",
       "      <th></th>\n",
       "      <th></th>\n",
       "      <th></th>\n",
       "      <th></th>\n",
       "      <th></th>\n",
       "      <th></th>\n",
       "      <th></th>\n",
       "      <th></th>\n",
       "    </tr>\n",
       "  </thead>\n",
       "  <tbody>\n",
       "    <tr>\n",
       "      <th>-Areopagan-</th>\n",
       "      <td>Your first and second question is the same que...</td>\n",
       "      <td>[Your first and second question is the same qu...</td>\n",
       "      <td>[1513882848, 1513744846, 1522253427, 151370438...</td>\n",
       "      <td>0.000000</td>\n",
       "      <td>0.000000</td>\n",
       "      <td>1</td>\n",
       "      <td>1</td>\n",
       "      <td>0</td>\n",
       "      <td>0</td>\n",
       "      <td>2</td>\n",
       "      <td>...</td>\n",
       "      <td>0</td>\n",
       "      <td>0.0</td>\n",
       "      <td>99.0</td>\n",
       "      <td>96.0</td>\n",
       "      <td>60.0</td>\n",
       "      <td>1.0</td>\n",
       "      <td>0</td>\n",
       "      <td>1</td>\n",
       "      <td>1</td>\n",
       "      <td>1</td>\n",
       "    </tr>\n",
       "    <tr>\n",
       "      <th>-BigSexy-</th>\n",
       "      <td>I've been asked to cum everywhere with my ex j...</td>\n",
       "      <td>[I've been asked to cum everywhere with my ex ...</td>\n",
       "      <td>[1507650565, 1516397088, 1502590403, 151682490...</td>\n",
       "      <td>0.020737</td>\n",
       "      <td>0.000000</td>\n",
       "      <td>147</td>\n",
       "      <td>4</td>\n",
       "      <td>359</td>\n",
       "      <td>0</td>\n",
       "      <td>444</td>\n",
       "      <td>...</td>\n",
       "      <td>0</td>\n",
       "      <td>39.0</td>\n",
       "      <td>92.0</td>\n",
       "      <td>1.0</td>\n",
       "      <td>18.0</td>\n",
       "      <td>4.0</td>\n",
       "      <td>0</td>\n",
       "      <td>1</td>\n",
       "      <td>0</td>\n",
       "      <td>0</td>\n",
       "    </tr>\n",
       "    <tr>\n",
       "      <th>-BlitzN9ne</th>\n",
       "      <td>I'm currently in the middle of making a Payday...</td>\n",
       "      <td>[I'm currently in the middle of making a Payda...</td>\n",
       "      <td>[1422166355, 1423504286, 1449881503, 145521567...</td>\n",
       "      <td>0.014159</td>\n",
       "      <td>0.000000</td>\n",
       "      <td>116</td>\n",
       "      <td>4</td>\n",
       "      <td>393</td>\n",
       "      <td>0</td>\n",
       "      <td>343</td>\n",
       "      <td>...</td>\n",
       "      <td>0</td>\n",
       "      <td>50.0</td>\n",
       "      <td>85.0</td>\n",
       "      <td>15.0</td>\n",
       "      <td>50.0</td>\n",
       "      <td>30.0</td>\n",
       "      <td>1</td>\n",
       "      <td>1</td>\n",
       "      <td>0</td>\n",
       "      <td>1</td>\n",
       "    </tr>\n",
       "    <tr>\n",
       "      <th>-CrestiaBell</th>\n",
       "      <td>First and foremost I extend my condolences to ...</td>\n",
       "      <td>[First and foremost I extend my condolences to...</td>\n",
       "      <td>[1462304635, 1528773104, 1513663029, 148131600...</td>\n",
       "      <td>0.017687</td>\n",
       "      <td>0.000866</td>\n",
       "      <td>149</td>\n",
       "      <td>4</td>\n",
       "      <td>1258</td>\n",
       "      <td>0</td>\n",
       "      <td>1210</td>\n",
       "      <td>...</td>\n",
       "      <td>0</td>\n",
       "      <td>50.0</td>\n",
       "      <td>85.0</td>\n",
       "      <td>50.0</td>\n",
       "      <td>85.0</td>\n",
       "      <td>50.0</td>\n",
       "      <td>1</td>\n",
       "      <td>1</td>\n",
       "      <td>1</td>\n",
       "      <td>1</td>\n",
       "    </tr>\n",
       "    <tr>\n",
       "      <th>-dyad-</th>\n",
       "      <td>I failed both...I'm great at reading people ir...</td>\n",
       "      <td>[I failed both...I'm great at reading people i...</td>\n",
       "      <td>[1475875524, 1473096864, 1505168466, 150318014...</td>\n",
       "      <td>0.000000</td>\n",
       "      <td>0.000000</td>\n",
       "      <td>5</td>\n",
       "      <td>2</td>\n",
       "      <td>25</td>\n",
       "      <td>0</td>\n",
       "      <td>40</td>\n",
       "      <td>...</td>\n",
       "      <td>0</td>\n",
       "      <td>60.0</td>\n",
       "      <td>67.0</td>\n",
       "      <td>45.0</td>\n",
       "      <td>10.0</td>\n",
       "      <td>47.0</td>\n",
       "      <td>1</td>\n",
       "      <td>1</td>\n",
       "      <td>0</td>\n",
       "      <td>0</td>\n",
       "    </tr>\n",
       "    <tr>\n",
       "      <th>...</th>\n",
       "      <td>...</td>\n",
       "      <td>...</td>\n",
       "      <td>...</td>\n",
       "      <td>...</td>\n",
       "      <td>...</td>\n",
       "      <td>...</td>\n",
       "      <td>...</td>\n",
       "      <td>...</td>\n",
       "      <td>...</td>\n",
       "      <td>...</td>\n",
       "      <td>...</td>\n",
       "      <td>...</td>\n",
       "      <td>...</td>\n",
       "      <td>...</td>\n",
       "      <td>...</td>\n",
       "      <td>...</td>\n",
       "      <td>...</td>\n",
       "      <td>...</td>\n",
       "      <td>...</td>\n",
       "      <td>...</td>\n",
       "      <td>...</td>\n",
       "    </tr>\n",
       "    <tr>\n",
       "      <th>zugzwang_03</th>\n",
       "      <td>You know that giggly group of women going to t...</td>\n",
       "      <td>[You know that giggly group of women going to ...</td>\n",
       "      <td>[1466099531, 1469625145, 1455352713, 150837533...</td>\n",
       "      <td>0.011709</td>\n",
       "      <td>0.000291</td>\n",
       "      <td>146</td>\n",
       "      <td>3</td>\n",
       "      <td>2409</td>\n",
       "      <td>0</td>\n",
       "      <td>2317</td>\n",
       "      <td>...</td>\n",
       "      <td>0</td>\n",
       "      <td>10.0</td>\n",
       "      <td>41.0</td>\n",
       "      <td>86.0</td>\n",
       "      <td>83.0</td>\n",
       "      <td>18.0</td>\n",
       "      <td>0</td>\n",
       "      <td>0</td>\n",
       "      <td>1</td>\n",
       "      <td>1</td>\n",
       "    </tr>\n",
       "    <tr>\n",
       "      <th>zuluthrone</th>\n",
       "      <td>I saw some speculate that the \"download\" would...</td>\n",
       "      <td>[I saw some speculate that the \"download\" woul...</td>\n",
       "      <td>[1438979642, 1451195516, 1468833505, 151331960...</td>\n",
       "      <td>0.018458</td>\n",
       "      <td>0.000000</td>\n",
       "      <td>46</td>\n",
       "      <td>3</td>\n",
       "      <td>119</td>\n",
       "      <td>0</td>\n",
       "      <td>142</td>\n",
       "      <td>...</td>\n",
       "      <td>0</td>\n",
       "      <td>17.0</td>\n",
       "      <td>96.0</td>\n",
       "      <td>28.0</td>\n",
       "      <td>95.0</td>\n",
       "      <td>34.0</td>\n",
       "      <td>0</td>\n",
       "      <td>1</td>\n",
       "      <td>0</td>\n",
       "      <td>1</td>\n",
       "    </tr>\n",
       "    <tr>\n",
       "      <th>zwelg</th>\n",
       "      <td>I am actually pretty pleased about my score:Ag...</td>\n",
       "      <td>[I am actually pretty pleased about my score:A...</td>\n",
       "      <td>[1508185843]</td>\n",
       "      <td>0.000000</td>\n",
       "      <td>0.000000</td>\n",
       "      <td>1</td>\n",
       "      <td>1</td>\n",
       "      <td>1</td>\n",
       "      <td>0</td>\n",
       "      <td>0</td>\n",
       "      <td>...</td>\n",
       "      <td>0</td>\n",
       "      <td>39.0</td>\n",
       "      <td>89.0</td>\n",
       "      <td>91.0</td>\n",
       "      <td>80.0</td>\n",
       "      <td>3.0</td>\n",
       "      <td>0</td>\n",
       "      <td>1</td>\n",
       "      <td>1</td>\n",
       "      <td>1</td>\n",
       "    </tr>\n",
       "    <tr>\n",
       "      <th>zymmaster</th>\n",
       "      <td>Respectfully disagree. Offense had plenty of i...</td>\n",
       "      <td>[Respectfully disagree. Offense had plenty of ...</td>\n",
       "      <td>[1455228093, 1476665332, 1468599441, 146004506...</td>\n",
       "      <td>0.010444</td>\n",
       "      <td>0.000000</td>\n",
       "      <td>99</td>\n",
       "      <td>3</td>\n",
       "      <td>300</td>\n",
       "      <td>0</td>\n",
       "      <td>394</td>\n",
       "      <td>...</td>\n",
       "      <td>0</td>\n",
       "      <td>28.0</td>\n",
       "      <td>47.0</td>\n",
       "      <td>62.0</td>\n",
       "      <td>21.0</td>\n",
       "      <td>49.0</td>\n",
       "      <td>0</td>\n",
       "      <td>0</td>\n",
       "      <td>1</td>\n",
       "      <td>0</td>\n",
       "    </tr>\n",
       "    <tr>\n",
       "      <th>zyzee</th>\n",
       "      <td>Tarzaned can't be compared in this situation. ...</td>\n",
       "      <td>[Tarzaned can't be compared in this situation....</td>\n",
       "      <td>[1494445453, 1487154474, 1521448885, 142322120...</td>\n",
       "      <td>0.010989</td>\n",
       "      <td>0.000000</td>\n",
       "      <td>13</td>\n",
       "      <td>3</td>\n",
       "      <td>11</td>\n",
       "      <td>0</td>\n",
       "      <td>19</td>\n",
       "      <td>...</td>\n",
       "      <td>0</td>\n",
       "      <td>88.0</td>\n",
       "      <td>78.0</td>\n",
       "      <td>31.0</td>\n",
       "      <td>75.0</td>\n",
       "      <td>10.0</td>\n",
       "      <td>1</td>\n",
       "      <td>1</td>\n",
       "      <td>0</td>\n",
       "      <td>1</td>\n",
       "    </tr>\n",
       "  </tbody>\n",
       "</table>\n",
       "<p>1606 rows × 16099 columns</p>\n",
       "</div>"
      ],
      "text/plain": [
       "                                                           body  \\\n",
       "author                                                            \n",
       "-Areopagan-   Your first and second question is the same que...   \n",
       "-BigSexy-     I've been asked to cum everywhere with my ex j...   \n",
       "-BlitzN9ne    I'm currently in the middle of making a Payday...   \n",
       "-CrestiaBell  First and foremost I extend my condolences to ...   \n",
       "-dyad-        I failed both...I'm great at reading people ir...   \n",
       "...                                                         ...   \n",
       "zugzwang_03   You know that giggly group of women going to t...   \n",
       "zuluthrone    I saw some speculate that the \"download\" would...   \n",
       "zwelg         I am actually pretty pleased about my score:Ag...   \n",
       "zymmaster     Respectfully disagree. Offense had plenty of i...   \n",
       "zyzee         Tarzaned can't be compared in this situation. ...   \n",
       "\n",
       "                                                       doc_body  \\\n",
       "author                                                            \n",
       "-Areopagan-   [Your first and second question is the same qu...   \n",
       "-BigSexy-     [I've been asked to cum everywhere with my ex ...   \n",
       "-BlitzN9ne    [I'm currently in the middle of making a Payda...   \n",
       "-CrestiaBell  [First and foremost I extend my condolences to...   \n",
       "-dyad-        [I failed both...I'm great at reading people i...   \n",
       "...                                                         ...   \n",
       "zugzwang_03   [You know that giggly group of women going to ...   \n",
       "zuluthrone    [I saw some speculate that the \"download\" woul...   \n",
       "zwelg         [I am actually pretty pleased about my score:A...   \n",
       "zymmaster     [Respectfully disagree. Offense had plenty of ...   \n",
       "zyzee         [Tarzaned can't be compared in this situation....   \n",
       "\n",
       "                                                            utc  \\\n",
       "author                                                            \n",
       "-Areopagan-   [1513882848, 1513744846, 1522253427, 151370438...   \n",
       "-BigSexy-     [1507650565, 1516397088, 1502590403, 151682490...   \n",
       "-BlitzN9ne    [1422166355, 1423504286, 1449881503, 145521567...   \n",
       "-CrestiaBell  [1462304635, 1528773104, 1513663029, 148131600...   \n",
       "-dyad-        [1475875524, 1473096864, 1505168466, 150318014...   \n",
       "...                                                         ...   \n",
       "zugzwang_03   [1466099531, 1469625145, 1455352713, 150837533...   \n",
       "zuluthrone    [1438979642, 1451195516, 1468833505, 151331960...   \n",
       "zwelg                                              [1508185843]   \n",
       "zymmaster     [1455228093, 1476665332, 1468599441, 146004506...   \n",
       "zyzee         [1494445453, 1487154474, 1521448885, 142322120...   \n",
       "\n",
       "              controversiality    gilded  num_subreddit  lang  monday  \\\n",
       "author                                                                  \n",
       "-Areopagan-           0.000000  0.000000              1     1       0   \n",
       "-BigSexy-             0.020737  0.000000            147     4     359   \n",
       "-BlitzN9ne            0.014159  0.000000            116     4     393   \n",
       "-CrestiaBell          0.017687  0.000866            149     4    1258   \n",
       "-dyad-                0.000000  0.000000              5     2      25   \n",
       "...                        ...       ...            ...   ...     ...   \n",
       "zugzwang_03           0.011709  0.000291            146     3    2409   \n",
       "zuluthrone            0.018458  0.000000             46     3     119   \n",
       "zwelg                 0.000000  0.000000              1     1       1   \n",
       "zymmaster             0.010444  0.000000             99     3     300   \n",
       "zyzee                 0.010989  0.000000             13     3      11   \n",
       "\n",
       "              tuesday  wednesday  ...  dancedancerevolution  agreeableness  \\\n",
       "author                            ...                                        \n",
       "-Areopagan-         0          2  ...                     0            0.0   \n",
       "-BigSexy-           0        444  ...                     0           39.0   \n",
       "-BlitzN9ne          0        343  ...                     0           50.0   \n",
       "-CrestiaBell        0       1210  ...                     0           50.0   \n",
       "-dyad-              0         40  ...                     0           60.0   \n",
       "...               ...        ...  ...                   ...            ...   \n",
       "zugzwang_03         0       2317  ...                     0           10.0   \n",
       "zuluthrone          0        142  ...                     0           17.0   \n",
       "zwelg               0          0  ...                     0           39.0   \n",
       "zymmaster           0        394  ...                     0           28.0   \n",
       "zyzee               0         19  ...                     0           88.0   \n",
       "\n",
       "              openness  conscientiousness  extraversion  neuroticism  agree  \\\n",
       "author                                                                        \n",
       "-Areopagan-       99.0               96.0          60.0          1.0      0   \n",
       "-BigSexy-         92.0                1.0          18.0          4.0      0   \n",
       "-BlitzN9ne        85.0               15.0          50.0         30.0      1   \n",
       "-CrestiaBell      85.0               50.0          85.0         50.0      1   \n",
       "-dyad-            67.0               45.0          10.0         47.0      1   \n",
       "...                ...                ...           ...          ...    ...   \n",
       "zugzwang_03       41.0               86.0          83.0         18.0      0   \n",
       "zuluthrone        96.0               28.0          95.0         34.0      0   \n",
       "zwelg             89.0               91.0          80.0          3.0      0   \n",
       "zymmaster         47.0               62.0          21.0         49.0      0   \n",
       "zyzee             78.0               31.0          75.0         10.0      1   \n",
       "\n",
       "              openn  consc  extra  \n",
       "author                             \n",
       "-Areopagan-       1      1      1  \n",
       "-BigSexy-         1      0      0  \n",
       "-BlitzN9ne        1      0      1  \n",
       "-CrestiaBell      1      1      1  \n",
       "-dyad-            1      0      0  \n",
       "...             ...    ...    ...  \n",
       "zugzwang_03       0      1      1  \n",
       "zuluthrone        1      0      1  \n",
       "zwelg             1      1      1  \n",
       "zymmaster         0      1      0  \n",
       "zyzee             1      0      1  \n",
       "\n",
       "[1606 rows x 16099 columns]"
      ]
     },
     "execution_count": 5,
     "metadata": {},
     "output_type": "execute_result"
    }
   ],
   "source": [
    "# merge commentdf and authordf\n",
    "print(\"Sort pandora df...\")\n",
    "pandora= pandora.sort_values(by='author')\n",
    "print(\"Sort big five df...\")\n",
    "bigfive= bigfive.sort_values(by='author')\n",
    "if pandora.index.name != 'author':\n",
    "    print(\"Set pandora index...\")\n",
    "    pandora = pandora.set_index('author')\n",
    "if bigfive.index.name != 'author':\n",
    "    print(\"Set bigfive index...\")\n",
    "    bigfive = bigfive.set_index('author')\n",
    "print(\"Join commentdf and authordf\")\n",
    "pandoradf = pandora.join(bigfive)\n",
    "# pandoradf = pandoradf.reset_index()\n",
    "\n",
    "# create binary representation of personality traits\n",
    "def bigfive_cat(df):\n",
    "    # change big five to binary representation\n",
    "    df['agree'] = df['agreeableness'].apply(lambda x: 0 if x<50 else 1)\n",
    "    df['openn'] = df['openness'].apply(lambda x: 0 if x<50 else 1)\n",
    "    df['consc'] = df['conscientiousness'].apply(lambda x: 0 if x<50 else 1)\n",
    "    df['extra'] = df['extraversion'].apply(lambda x: 0 if x<50 else 1)\n",
    "    df['neuro'] = df['neuroticism'].apply(lambda x: 0 if x<50 else 1)\n",
    "    return df\n",
    "\n",
    "print(\"Create binary representations for each personality trait\")\n",
    "pandoradf = bigfive_cat(pandoradf)\n",
    "pandoradf"
   ]
  },
  {
   "cell_type": "markdown",
   "metadata": {},
   "source": [
    "## Preprocessing"
   ]
  },
  {
   "cell_type": "code",
   "execution_count": 6,
   "metadata": {},
   "outputs": [],
   "source": [
    "# Functions\n",
    "\n",
    "# define stopwordlist to use\n",
    "def choose_stopwordlist(df, mode):\n",
    "    if mode == 'NLTK':\n",
    "        stopwordList = stopwords.words('english')\n",
    "    if mode == 'NLTK-neg':\n",
    "        stopwordList = stopwords.words('english')\n",
    "        stopwordList.remove('no')\n",
    "        stopwordList.remove('nor')\n",
    "        stopwordList.remove('not')\n",
    "    return stopwordList\n",
    "\n",
    "# remove decontractions\n",
    "def decontracted(phrase):\n",
    "    # specific\n",
    "    phrase = re.sub(r\"won\\'t\", \"will not\", phrase)\n",
    "    phrase = re.sub(r\"can\\'t\", \"can not\", phrase)\n",
    "    # general\n",
    "    phrase = re.sub(r\"n\\'t\", \" not\", phrase)\n",
    "    phrase = re.sub(r\"\\'re\", \" are\", phrase)\n",
    "    phrase = re.sub(r\"\\'s\", \" is\", phrase)\n",
    "    phrase = re.sub(r\"\\'d\", \" would\", phrase)\n",
    "    phrase = re.sub(r\"\\'ll\", \" will\", phrase)\n",
    "    phrase = re.sub(r\"\\'t\", \" not\", phrase)\n",
    "    phrase = re.sub(r\"\\'ve\", \" have\", phrase)\n",
    "    phrase = re.sub(r\"\\'m\", \" am\", phrase)\n",
    "    return phrase\n",
    "\n",
    "# create sentence tokens\n",
    "def senttokenize(df):\n",
    "    sentbody = []\n",
    "    for row in tqdm(df['doc_body']):\n",
    "        sentitem = []\n",
    "        for item in row:\n",
    "            sentences = sent_tokenize(item)\n",
    "            sentitem.append(sentences)\n",
    "        sentbody.append(sentitem)\n",
    "    df['senttokens'] = sentbody\n",
    "    return df\n",
    "\n",
    "# lower words and remove special characters\n",
    "def lower_special(df):\n",
    "    newrow = []\n",
    "    for row in tqdm(df['probody']):\n",
    "        newcomment = []\n",
    "        for comment in row:\n",
    "            text_pre = \"\"\n",
    "            for character in comment:\n",
    "                if character.isalnum() or character.isspace():\n",
    "                    character = character.lower()\n",
    "                    text_pre += character\n",
    "                else:\n",
    "                    text_pre += \" \"\n",
    "            newcomment.append(text_pre)\n",
    "        newrow.append(newcomment)   \n",
    "    df['probody'] = newrow\n",
    "    return df\n",
    "\n",
    "# remove stopwords\n",
    "def remove_stopwords(df, stopwordList):\n",
    "    newprobody = []\n",
    "    for row in tqdm(df['probody']):\n",
    "        newrowprobody = []\n",
    "        for comment in row:\n",
    "            words = [word for word in comment.split() if (word not in stopwordList)]\n",
    "            newcomment = ' '.join(words)\n",
    "            newrowprobody.append(newcomment)\n",
    "        newprobody.append(newrowprobody)\n",
    "    df['probody'] = newprobody\n",
    "    return df\n",
    "\n",
    "# change numbers to words and tokenize words\n",
    "\n",
    "import decimal\n",
    "def num_tokenize(df):    \n",
    "    newbody_complete = []\n",
    "    newprobody_complete = []\n",
    "    # num2words\n",
    "    for row in tqdm(df['probody']):\n",
    "        newbody = []\n",
    "        newprobody = []\n",
    "        for sentence in row:\n",
    "            # string to list\n",
    "            inputtext = sentence.split()\n",
    "            numlist = []\n",
    "            for i in range(len(inputtext)):\n",
    "                if inputtext[i].isnumeric():\n",
    "                    numlist.append(i)\n",
    "            for number in numlist:\n",
    "                # deleted: fractions, superscripts, extremely large numbers, 卌卌, 一\n",
    "                try:\n",
    "                    inputtext[number] = num2words(inputtext[number])\n",
    "                except decimal.InvalidOperation:\n",
    "                    inputtext[number] = \" \"\n",
    "                except OverflowError:\n",
    "                    inputtext[number] = \" \"\n",
    "\n",
    "            # list to string\n",
    "            inputtext = [word for word in inputtext if word.isalpha()]\n",
    "            celltext = ' '.join(inputtext)\n",
    "            newprobody.append(celltext)\n",
    "            # tokenize\n",
    "            words = word_tokenize(celltext)\n",
    "            newbody.append(words)\n",
    "        newbody_complete.append(newbody)\n",
    "        newprobody_complete.append(newprobody)\n",
    "    df['probody'] = newprobody_complete\n",
    "    df['tokens'] = newbody_complete\n",
    "    return df\n",
    "\n",
    "# Porter Stemmer\n",
    "def stemming(df):\n",
    "    ps = PorterStemmer()\n",
    "    for row in tqdm(df['tokens']):\n",
    "        for comment in row:\n",
    "            words = [ps.stem(word) for word in comment]\n",
    "            comment = ' '.join(words)\n",
    "    return df\n",
    "\n",
    "# bring columns of dataframe in correct order\n",
    "def ordering(df):\n",
    "    cols_tomove = ['body', 'doc_body', 'probody', 'tokens', 'senttokens', 'agreeableness', 'openness', 'conscientiousness', 'extraversion', 'neuroticism', 'agree', 'openn', 'consc', 'extra', 'neuro']\n",
    "    orderdf  = df[cols_tomove + [col for col in df.columns if col not in cols_tomove]]\n",
    "    return orderdf"
   ]
  },
  {
   "cell_type": "code",
   "execution_count": 7,
   "metadata": {},
   "outputs": [
    {
     "name": "stdout",
     "output_type": "stream",
     "text": [
      "Decontract...\n",
      "Tokenize Sentences...\n"
     ]
    },
    {
     "data": {
      "application/vnd.jupyter.widget-view+json": {
       "model_id": "2a27b68c9fcb47398dca42d2d8cb002d",
       "version_major": 2,
       "version_minor": 0
      },
      "text/plain": [
       "  0%|          | 0/1606 [00:00<?, ?it/s]"
      ]
     },
     "metadata": {},
     "output_type": "display_data"
    },
    {
     "name": "stdout",
     "output_type": "stream",
     "text": [
      "Lower words and remove special characters...\n"
     ]
    },
    {
     "data": {
      "application/vnd.jupyter.widget-view+json": {
       "model_id": "f2b89fdc653543c58846bfede4b2729c",
       "version_major": 2,
       "version_minor": 0
      },
      "text/plain": [
       "  0%|          | 0/1606 [00:00<?, ?it/s]"
      ]
     },
     "metadata": {},
     "output_type": "display_data"
    },
    {
     "name": "stdout",
     "output_type": "stream",
     "text": [
      "Remove stopwords...\n"
     ]
    },
    {
     "data": {
      "application/vnd.jupyter.widget-view+json": {
       "model_id": "a323282bdba4440299640e29217adea8",
       "version_major": 2,
       "version_minor": 0
      },
      "text/plain": [
       "  0%|          | 0/1606 [00:00<?, ?it/s]"
      ]
     },
     "metadata": {},
     "output_type": "display_data"
    },
    {
     "name": "stdout",
     "output_type": "stream",
     "text": [
      "Change numbers to words and tokenize words...\n"
     ]
    },
    {
     "data": {
      "application/vnd.jupyter.widget-view+json": {
       "model_id": "712f71029cff47d19417f6c07d4f2079",
       "version_major": 2,
       "version_minor": 0
      },
      "text/plain": [
       "  0%|          | 0/1606 [00:00<?, ?it/s]"
      ]
     },
     "metadata": {},
     "output_type": "display_data"
    },
    {
     "name": "stdout",
     "output_type": "stream",
     "text": [
      "Porters Stemmer...\n"
     ]
    },
    {
     "data": {
      "application/vnd.jupyter.widget-view+json": {
       "model_id": "ef6c3b53005f45898577645027ba24d6",
       "version_major": 2,
       "version_minor": 0
      },
      "text/plain": [
       "  0%|          | 0/1606 [00:00<?, ?it/s]"
      ]
     },
     "metadata": {},
     "output_type": "display_data"
    },
    {
     "name": "stdout",
     "output_type": "stream",
     "text": [
      "Order df...\n",
      "Done!\n"
     ]
    },
    {
     "data": {
      "text/html": [
       "<div>\n",
       "<style scoped>\n",
       "    .dataframe tbody tr th:only-of-type {\n",
       "        vertical-align: middle;\n",
       "    }\n",
       "\n",
       "    .dataframe tbody tr th {\n",
       "        vertical-align: top;\n",
       "    }\n",
       "\n",
       "    .dataframe thead th {\n",
       "        text-align: right;\n",
       "    }\n",
       "</style>\n",
       "<table border=\"1\" class=\"dataframe\">\n",
       "  <thead>\n",
       "    <tr style=\"text-align: right;\">\n",
       "      <th></th>\n",
       "      <th>body</th>\n",
       "      <th>doc_body</th>\n",
       "      <th>probody</th>\n",
       "      <th>tokens</th>\n",
       "      <th>senttokens</th>\n",
       "      <th>agreeableness</th>\n",
       "      <th>openness</th>\n",
       "      <th>conscientiousness</th>\n",
       "      <th>extraversion</th>\n",
       "      <th>neuroticism</th>\n",
       "      <th>...</th>\n",
       "      <th>transportfever</th>\n",
       "      <th>socialistprogrammers</th>\n",
       "      <th>suicidology</th>\n",
       "      <th>dixiefood</th>\n",
       "      <th>worldproblems</th>\n",
       "      <th>xcxheads</th>\n",
       "      <th>speedrunnersgame</th>\n",
       "      <th>hypnobeach</th>\n",
       "      <th>create_your_circle</th>\n",
       "      <th>dancedancerevolution</th>\n",
       "    </tr>\n",
       "    <tr>\n",
       "      <th>author</th>\n",
       "      <th></th>\n",
       "      <th></th>\n",
       "      <th></th>\n",
       "      <th></th>\n",
       "      <th></th>\n",
       "      <th></th>\n",
       "      <th></th>\n",
       "      <th></th>\n",
       "      <th></th>\n",
       "      <th></th>\n",
       "      <th></th>\n",
       "      <th></th>\n",
       "      <th></th>\n",
       "      <th></th>\n",
       "      <th></th>\n",
       "      <th></th>\n",
       "      <th></th>\n",
       "      <th></th>\n",
       "      <th></th>\n",
       "      <th></th>\n",
       "      <th></th>\n",
       "    </tr>\n",
       "  </thead>\n",
       "  <tbody>\n",
       "    <tr>\n",
       "      <th>-Areopagan-</th>\n",
       "      <td>Your first and second question is the same que...</td>\n",
       "      <td>[Your first and second question is the same qu...</td>\n",
       "      <td>[first second question question try make incis...</td>\n",
       "      <td>[[first, second, question, question, try, make...</td>\n",
       "      <td>[[Your first and second question is the same q...</td>\n",
       "      <td>0.0</td>\n",
       "      <td>99.0</td>\n",
       "      <td>96.0</td>\n",
       "      <td>60.0</td>\n",
       "      <td>1.0</td>\n",
       "      <td>...</td>\n",
       "      <td>0</td>\n",
       "      <td>0</td>\n",
       "      <td>0</td>\n",
       "      <td>0</td>\n",
       "      <td>0</td>\n",
       "      <td>0</td>\n",
       "      <td>0</td>\n",
       "      <td>0</td>\n",
       "      <td>0</td>\n",
       "      <td>0</td>\n",
       "    </tr>\n",
       "    <tr>\n",
       "      <th>-BigSexy-</th>\n",
       "      <td>I've been asked to cum everywhere with my ex j...</td>\n",
       "      <td>[I've been asked to cum everywhere with my ex ...</td>\n",
       "      <td>[asked cum everywhere ex experiment preferred ...</td>\n",
       "      <td>[[asked, cum, everywhere, ex, experiment, pref...</td>\n",
       "      <td>[[I've been asked to cum everywhere with my ex...</td>\n",
       "      <td>39.0</td>\n",
       "      <td>92.0</td>\n",
       "      <td>1.0</td>\n",
       "      <td>18.0</td>\n",
       "      <td>4.0</td>\n",
       "      <td>...</td>\n",
       "      <td>0</td>\n",
       "      <td>0</td>\n",
       "      <td>0</td>\n",
       "      <td>0</td>\n",
       "      <td>0</td>\n",
       "      <td>0</td>\n",
       "      <td>0</td>\n",
       "      <td>0</td>\n",
       "      <td>0</td>\n",
       "      <td>0</td>\n",
       "    </tr>\n",
       "    <tr>\n",
       "      <th>-BlitzN9ne</th>\n",
       "      <td>I'm currently in the middle of making a Payday...</td>\n",
       "      <td>[I'm currently in the middle of making a Payda...</td>\n",
       "      <td>[currently middle making payday two inspired m...</td>\n",
       "      <td>[[currently, middle, making, payday, two, insp...</td>\n",
       "      <td>[[I'm currently in the middle of making a Payd...</td>\n",
       "      <td>50.0</td>\n",
       "      <td>85.0</td>\n",
       "      <td>15.0</td>\n",
       "      <td>50.0</td>\n",
       "      <td>30.0</td>\n",
       "      <td>...</td>\n",
       "      <td>0</td>\n",
       "      <td>0</td>\n",
       "      <td>0</td>\n",
       "      <td>0</td>\n",
       "      <td>0</td>\n",
       "      <td>0</td>\n",
       "      <td>0</td>\n",
       "      <td>0</td>\n",
       "      <td>0</td>\n",
       "      <td>0</td>\n",
       "    </tr>\n",
       "    <tr>\n",
       "      <th>-CrestiaBell</th>\n",
       "      <td>First and foremost I extend my condolences to ...</td>\n",
       "      <td>[First and foremost I extend my condolences to...</td>\n",
       "      <td>[first foremost extend condolences family espe...</td>\n",
       "      <td>[[first, foremost, extend, condolences, family...</td>\n",
       "      <td>[[First and foremost I extend my condolences t...</td>\n",
       "      <td>50.0</td>\n",
       "      <td>85.0</td>\n",
       "      <td>50.0</td>\n",
       "      <td>85.0</td>\n",
       "      <td>50.0</td>\n",
       "      <td>...</td>\n",
       "      <td>0</td>\n",
       "      <td>0</td>\n",
       "      <td>0</td>\n",
       "      <td>0</td>\n",
       "      <td>0</td>\n",
       "      <td>0</td>\n",
       "      <td>0</td>\n",
       "      <td>0</td>\n",
       "      <td>0</td>\n",
       "      <td>0</td>\n",
       "    </tr>\n",
       "    <tr>\n",
       "      <th>-dyad-</th>\n",
       "      <td>I failed both...I'm great at reading people ir...</td>\n",
       "      <td>[I failed both...I'm great at reading people i...</td>\n",
       "      <td>[failed great reading people irl swear haha, i...</td>\n",
       "      <td>[[failed, great, reading, people, irl, swear, ...</td>\n",
       "      <td>[[I failed both...I'm great at reading people ...</td>\n",
       "      <td>60.0</td>\n",
       "      <td>67.0</td>\n",
       "      <td>45.0</td>\n",
       "      <td>10.0</td>\n",
       "      <td>47.0</td>\n",
       "      <td>...</td>\n",
       "      <td>0</td>\n",
       "      <td>0</td>\n",
       "      <td>0</td>\n",
       "      <td>0</td>\n",
       "      <td>0</td>\n",
       "      <td>0</td>\n",
       "      <td>0</td>\n",
       "      <td>0</td>\n",
       "      <td>0</td>\n",
       "      <td>0</td>\n",
       "    </tr>\n",
       "    <tr>\n",
       "      <th>...</th>\n",
       "      <td>...</td>\n",
       "      <td>...</td>\n",
       "      <td>...</td>\n",
       "      <td>...</td>\n",
       "      <td>...</td>\n",
       "      <td>...</td>\n",
       "      <td>...</td>\n",
       "      <td>...</td>\n",
       "      <td>...</td>\n",
       "      <td>...</td>\n",
       "      <td>...</td>\n",
       "      <td>...</td>\n",
       "      <td>...</td>\n",
       "      <td>...</td>\n",
       "      <td>...</td>\n",
       "      <td>...</td>\n",
       "      <td>...</td>\n",
       "      <td>...</td>\n",
       "      <td>...</td>\n",
       "      <td>...</td>\n",
       "      <td>...</td>\n",
       "    </tr>\n",
       "    <tr>\n",
       "      <th>zugzwang_03</th>\n",
       "      <td>You know that giggly group of women going to t...</td>\n",
       "      <td>[You know that giggly group of women going to ...</td>\n",
       "      <td>[know giggly group women going bar go dance sa...</td>\n",
       "      <td>[[know, giggly, group, women, going, bar, go, ...</td>\n",
       "      <td>[[You know that giggly group of women going to...</td>\n",
       "      <td>10.0</td>\n",
       "      <td>41.0</td>\n",
       "      <td>86.0</td>\n",
       "      <td>83.0</td>\n",
       "      <td>18.0</td>\n",
       "      <td>...</td>\n",
       "      <td>0</td>\n",
       "      <td>0</td>\n",
       "      <td>0</td>\n",
       "      <td>0</td>\n",
       "      <td>0</td>\n",
       "      <td>0</td>\n",
       "      <td>0</td>\n",
       "      <td>0</td>\n",
       "      <td>0</td>\n",
       "      <td>0</td>\n",
       "    </tr>\n",
       "    <tr>\n",
       "      <th>zuluthrone</th>\n",
       "      <td>I saw some speculate that the \"download\" would...</td>\n",
       "      <td>[I saw some speculate that the \"download\" woul...</td>\n",
       "      <td>[saw speculate download would backup rather st...</td>\n",
       "      <td>[[saw, speculate, download, would, backup, rat...</td>\n",
       "      <td>[[I saw some speculate that the \"download\" wou...</td>\n",
       "      <td>17.0</td>\n",
       "      <td>96.0</td>\n",
       "      <td>28.0</td>\n",
       "      <td>95.0</td>\n",
       "      <td>34.0</td>\n",
       "      <td>...</td>\n",
       "      <td>0</td>\n",
       "      <td>0</td>\n",
       "      <td>0</td>\n",
       "      <td>0</td>\n",
       "      <td>0</td>\n",
       "      <td>0</td>\n",
       "      <td>0</td>\n",
       "      <td>0</td>\n",
       "      <td>0</td>\n",
       "      <td>0</td>\n",
       "    </tr>\n",
       "    <tr>\n",
       "      <th>zwelg</th>\n",
       "      <td>I am actually pretty pleased about my score:Ag...</td>\n",
       "      <td>[I am actually pretty pleased about my score:A...</td>\n",
       "      <td>[actually pretty pleased score agreeableness m...</td>\n",
       "      <td>[[actually, pretty, pleased, score, agreeablen...</td>\n",
       "      <td>[[I am actually pretty pleased about my score:...</td>\n",
       "      <td>39.0</td>\n",
       "      <td>89.0</td>\n",
       "      <td>91.0</td>\n",
       "      <td>80.0</td>\n",
       "      <td>3.0</td>\n",
       "      <td>...</td>\n",
       "      <td>0</td>\n",
       "      <td>0</td>\n",
       "      <td>0</td>\n",
       "      <td>0</td>\n",
       "      <td>0</td>\n",
       "      <td>0</td>\n",
       "      <td>0</td>\n",
       "      <td>0</td>\n",
       "      <td>0</td>\n",
       "      <td>0</td>\n",
       "    </tr>\n",
       "    <tr>\n",
       "      <th>zymmaster</th>\n",
       "      <td>Respectfully disagree. Offense had plenty of i...</td>\n",
       "      <td>[Respectfully disagree. Offense had plenty of ...</td>\n",
       "      <td>[respectfully disagree offense plenty issues s...</td>\n",
       "      <td>[[respectfully, disagree, offense, plenty, iss...</td>\n",
       "      <td>[[Respectfully disagree., Offense had plenty o...</td>\n",
       "      <td>28.0</td>\n",
       "      <td>47.0</td>\n",
       "      <td>62.0</td>\n",
       "      <td>21.0</td>\n",
       "      <td>49.0</td>\n",
       "      <td>...</td>\n",
       "      <td>0</td>\n",
       "      <td>0</td>\n",
       "      <td>0</td>\n",
       "      <td>0</td>\n",
       "      <td>0</td>\n",
       "      <td>0</td>\n",
       "      <td>0</td>\n",
       "      <td>0</td>\n",
       "      <td>0</td>\n",
       "      <td>0</td>\n",
       "    </tr>\n",
       "    <tr>\n",
       "      <th>zyzee</th>\n",
       "      <td>Tarzaned can't be compared in this situation. ...</td>\n",
       "      <td>[Tarzaned can't be compared in this situation....</td>\n",
       "      <td>[tarzaned not compared situation not pro playe...</td>\n",
       "      <td>[[tarzaned, not, compared, situation, not, pro...</td>\n",
       "      <td>[[Tarzaned can't be compared in this situation...</td>\n",
       "      <td>88.0</td>\n",
       "      <td>78.0</td>\n",
       "      <td>31.0</td>\n",
       "      <td>75.0</td>\n",
       "      <td>10.0</td>\n",
       "      <td>...</td>\n",
       "      <td>0</td>\n",
       "      <td>0</td>\n",
       "      <td>0</td>\n",
       "      <td>0</td>\n",
       "      <td>0</td>\n",
       "      <td>0</td>\n",
       "      <td>0</td>\n",
       "      <td>0</td>\n",
       "      <td>0</td>\n",
       "      <td>0</td>\n",
       "    </tr>\n",
       "  </tbody>\n",
       "</table>\n",
       "<p>1606 rows × 16102 columns</p>\n",
       "</div>"
      ],
      "text/plain": [
       "                                                           body  \\\n",
       "author                                                            \n",
       "-Areopagan-   Your first and second question is the same que...   \n",
       "-BigSexy-     I've been asked to cum everywhere with my ex j...   \n",
       "-BlitzN9ne    I'm currently in the middle of making a Payday...   \n",
       "-CrestiaBell  First and foremost I extend my condolences to ...   \n",
       "-dyad-        I failed both...I'm great at reading people ir...   \n",
       "...                                                         ...   \n",
       "zugzwang_03   You know that giggly group of women going to t...   \n",
       "zuluthrone    I saw some speculate that the \"download\" would...   \n",
       "zwelg         I am actually pretty pleased about my score:Ag...   \n",
       "zymmaster     Respectfully disagree. Offense had plenty of i...   \n",
       "zyzee         Tarzaned can't be compared in this situation. ...   \n",
       "\n",
       "                                                       doc_body  \\\n",
       "author                                                            \n",
       "-Areopagan-   [Your first and second question is the same qu...   \n",
       "-BigSexy-     [I've been asked to cum everywhere with my ex ...   \n",
       "-BlitzN9ne    [I'm currently in the middle of making a Payda...   \n",
       "-CrestiaBell  [First and foremost I extend my condolences to...   \n",
       "-dyad-        [I failed both...I'm great at reading people i...   \n",
       "...                                                         ...   \n",
       "zugzwang_03   [You know that giggly group of women going to ...   \n",
       "zuluthrone    [I saw some speculate that the \"download\" woul...   \n",
       "zwelg         [I am actually pretty pleased about my score:A...   \n",
       "zymmaster     [Respectfully disagree. Offense had plenty of ...   \n",
       "zyzee         [Tarzaned can't be compared in this situation....   \n",
       "\n",
       "                                                        probody  \\\n",
       "author                                                            \n",
       "-Areopagan-   [first second question question try make incis...   \n",
       "-BigSexy-     [asked cum everywhere ex experiment preferred ...   \n",
       "-BlitzN9ne    [currently middle making payday two inspired m...   \n",
       "-CrestiaBell  [first foremost extend condolences family espe...   \n",
       "-dyad-        [failed great reading people irl swear haha, i...   \n",
       "...                                                         ...   \n",
       "zugzwang_03   [know giggly group women going bar go dance sa...   \n",
       "zuluthrone    [saw speculate download would backup rather st...   \n",
       "zwelg         [actually pretty pleased score agreeableness m...   \n",
       "zymmaster     [respectfully disagree offense plenty issues s...   \n",
       "zyzee         [tarzaned not compared situation not pro playe...   \n",
       "\n",
       "                                                         tokens  \\\n",
       "author                                                            \n",
       "-Areopagan-   [[first, second, question, question, try, make...   \n",
       "-BigSexy-     [[asked, cum, everywhere, ex, experiment, pref...   \n",
       "-BlitzN9ne    [[currently, middle, making, payday, two, insp...   \n",
       "-CrestiaBell  [[first, foremost, extend, condolences, family...   \n",
       "-dyad-        [[failed, great, reading, people, irl, swear, ...   \n",
       "...                                                         ...   \n",
       "zugzwang_03   [[know, giggly, group, women, going, bar, go, ...   \n",
       "zuluthrone    [[saw, speculate, download, would, backup, rat...   \n",
       "zwelg         [[actually, pretty, pleased, score, agreeablen...   \n",
       "zymmaster     [[respectfully, disagree, offense, plenty, iss...   \n",
       "zyzee         [[tarzaned, not, compared, situation, not, pro...   \n",
       "\n",
       "                                                     senttokens  \\\n",
       "author                                                            \n",
       "-Areopagan-   [[Your first and second question is the same q...   \n",
       "-BigSexy-     [[I've been asked to cum everywhere with my ex...   \n",
       "-BlitzN9ne    [[I'm currently in the middle of making a Payd...   \n",
       "-CrestiaBell  [[First and foremost I extend my condolences t...   \n",
       "-dyad-        [[I failed both...I'm great at reading people ...   \n",
       "...                                                         ...   \n",
       "zugzwang_03   [[You know that giggly group of women going to...   \n",
       "zuluthrone    [[I saw some speculate that the \"download\" wou...   \n",
       "zwelg         [[I am actually pretty pleased about my score:...   \n",
       "zymmaster     [[Respectfully disagree., Offense had plenty o...   \n",
       "zyzee         [[Tarzaned can't be compared in this situation...   \n",
       "\n",
       "              agreeableness  openness  conscientiousness  extraversion  \\\n",
       "author                                                                   \n",
       "-Areopagan-             0.0      99.0               96.0          60.0   \n",
       "-BigSexy-              39.0      92.0                1.0          18.0   \n",
       "-BlitzN9ne             50.0      85.0               15.0          50.0   \n",
       "-CrestiaBell           50.0      85.0               50.0          85.0   \n",
       "-dyad-                 60.0      67.0               45.0          10.0   \n",
       "...                     ...       ...                ...           ...   \n",
       "zugzwang_03            10.0      41.0               86.0          83.0   \n",
       "zuluthrone             17.0      96.0               28.0          95.0   \n",
       "zwelg                  39.0      89.0               91.0          80.0   \n",
       "zymmaster              28.0      47.0               62.0          21.0   \n",
       "zyzee                  88.0      78.0               31.0          75.0   \n",
       "\n",
       "              neuroticism  ...  transportfever  socialistprogrammers  \\\n",
       "author                     ...                                         \n",
       "-Areopagan-           1.0  ...               0                     0   \n",
       "-BigSexy-             4.0  ...               0                     0   \n",
       "-BlitzN9ne           30.0  ...               0                     0   \n",
       "-CrestiaBell         50.0  ...               0                     0   \n",
       "-dyad-               47.0  ...               0                     0   \n",
       "...                   ...  ...             ...                   ...   \n",
       "zugzwang_03          18.0  ...               0                     0   \n",
       "zuluthrone           34.0  ...               0                     0   \n",
       "zwelg                 3.0  ...               0                     0   \n",
       "zymmaster            49.0  ...               0                     0   \n",
       "zyzee                10.0  ...               0                     0   \n",
       "\n",
       "              suicidology  dixiefood  worldproblems xcxheads  \\\n",
       "author                                                         \n",
       "-Areopagan-             0          0              0        0   \n",
       "-BigSexy-               0          0              0        0   \n",
       "-BlitzN9ne              0          0              0        0   \n",
       "-CrestiaBell            0          0              0        0   \n",
       "-dyad-                  0          0              0        0   \n",
       "...                   ...        ...            ...      ...   \n",
       "zugzwang_03             0          0              0        0   \n",
       "zuluthrone              0          0              0        0   \n",
       "zwelg                   0          0              0        0   \n",
       "zymmaster               0          0              0        0   \n",
       "zyzee                   0          0              0        0   \n",
       "\n",
       "              speedrunnersgame  hypnobeach  create_your_circle  \\\n",
       "author                                                           \n",
       "-Areopagan-                  0           0                   0   \n",
       "-BigSexy-                    0           0                   0   \n",
       "-BlitzN9ne                   0           0                   0   \n",
       "-CrestiaBell                 0           0                   0   \n",
       "-dyad-                       0           0                   0   \n",
       "...                        ...         ...                 ...   \n",
       "zugzwang_03                  0           0                   0   \n",
       "zuluthrone                   0           0                   0   \n",
       "zwelg                        0           0                   0   \n",
       "zymmaster                    0           0                   0   \n",
       "zyzee                        0           0                   0   \n",
       "\n",
       "              dancedancerevolution  \n",
       "author                              \n",
       "-Areopagan-                      0  \n",
       "-BigSexy-                        0  \n",
       "-BlitzN9ne                       0  \n",
       "-CrestiaBell                     0  \n",
       "-dyad-                           0  \n",
       "...                            ...  \n",
       "zugzwang_03                      0  \n",
       "zuluthrone                       0  \n",
       "zwelg                            0  \n",
       "zymmaster                        0  \n",
       "zyzee                            0  \n",
       "\n",
       "[1606 rows x 16102 columns]"
      ]
     },
     "execution_count": 7,
     "metadata": {},
     "output_type": "execute_result"
    }
   ],
   "source": [
    "# Wrapper\n",
    "\n",
    "def preprocess(df):\n",
    "    # adjust some column representations\n",
    "    df = bigfive_cat(df)\n",
    "    # choose stopwordlist with or without negation\n",
    "    stopwordList = choose_stopwordlist(df, mode='NLTK-neg')\n",
    "    # decontract abbreviations (e.g., n't to not)\n",
    "    print(\"Decontract...\")\n",
    "    df['probody'] = df['doc_body'].apply(lambda x:([decontracted(x) for x in x]))\n",
    "    # create sentence tokens\n",
    "    print(\"Tokenize Sentences...\")\n",
    "    df = senttokenize(df)\n",
    "    # lower, remove stopwords, num2words, tokenize\n",
    "    print(\"Lower words and remove special characters...\")\n",
    "    df = lower_special(df)\n",
    "    print(\"Remove stopwords...\")\n",
    "    df = remove_stopwords(df, stopwordList)\n",
    "    print(\"Change numbers to words and tokenize words...\")\n",
    "    df = num_tokenize(df)\n",
    "    # porters stemmer\n",
    "    print(\"Porters Stemmer...\")\n",
    "    df = stemming(df)\n",
    "    print(\"Order df...\")\n",
    "    df = ordering(df)\n",
    "    print(\"Done!\")\n",
    "    return df\n",
    "\n",
    "# apply preprocessing\n",
    "predf = preprocess(pandoradf)\n",
    "predf.to_pickle(\"preprocessed_df_allcomments.pkl\")\n",
    "predf"
   ]
  },
  {
   "cell_type": "markdown",
   "metadata": {},
   "source": [
    "## Extract features"
   ]
  },
  {
   "cell_type": "code",
   "execution_count": 8,
   "metadata": {},
   "outputs": [],
   "source": [
    "# User features\n",
    "\n",
    "# Preprocessing for LDA\n",
    "def preprocess_lda(df):\n",
    "    neglst = [\"no\", \"not\", \"none\", \"nobody\", \"nothing\", \"neither\", \"nowhere\", \"never\", \"nay\"]\n",
    "    inputlst = []\n",
    "    for row in tqdm(df['tokens']):\n",
    "        rowlst = []\n",
    "        for comment in row:\n",
    "            rowlst.append([word for word in comment if (word not in neglst)])\n",
    "        inputlst.append(rowlst)\n",
    "    return inputlst\n",
    "# LDA for topics\n",
    "def apply_lda(df, inputlst, number, name):\n",
    "    print(\"Start LDA...\")\n",
    "    lst = []\n",
    "    for row in tqdm(inputlst):\n",
    "        if len(row) < 2:\n",
    "            lst.append(-1)\n",
    "        else:\n",
    "            dictionary = corpora.Dictionary(row)\n",
    "            corpus = [dictionary.doc2bow(text) for text in row]\n",
    "            ldamodel = gensim.models.LdaMulticore(corpus, num_topics=number, id2word = dictionary, passes=20, workers=15)\n",
    "            result = ldamodel.print_topics(num_topics=1, num_words=1)\n",
    "            res = list(result)\n",
    "            topic = [item[0] for item in res]\n",
    "            lst.append(topic[0])\n",
    "    df[name] = lst\n",
    "    return df\n",
    "\n",
    "# Wrapper\n",
    "def extract_userfeatures(df):\n",
    "    print(\"Preprocessing for LDA...\")\n",
    "    inputlst = preprocess_lda(df)\n",
    "    print(\"LDA with fifty topics: \")\n",
    "    df = apply_lda(df, inputlst, 50, \"ldafifty\")\n",
    "    print(\"LDA with onehundred topics: \")\n",
    "    df = apply_lda(df, inputlst, 100, \"ldahundred\")\n",
    "    return df\n",
    "\n",
    "# create df with user features\n",
    "# user_feat_df = extract_userfeatures(predf)\n",
    "# user_feat_df.to_pickle(\"user_feat_df_allcomments.pkl\")"
   ]
  },
  {
   "cell_type": "code",
   "execution_count": 19,
   "metadata": {},
   "outputs": [],
   "source": [
    "# Linguistic features (functions)\n",
    "\n",
    "# other features that are not mentioned in the paper\n",
    "def create_features(df):\n",
    "#     df['char_count'] = df['body']\n",
    "#     df['stopwords'] = df['body']\n",
    "#     df['total_punc'] = df['body']\n",
    "#     df['total_num'] = df['body']\n",
    "#     df['total_uppercase'] = df['body']\n",
    "#     d = {'char_count': (lambda x : str.len()) , \n",
    "#          'stopwords': (lambda x: len([x for x in x.split() if x in stopwordList])), \n",
    "#          'total_punc': (lambda x: len([x for x in x.split() for j in x if j in string.punctuation])), \n",
    "#          'total_num': (lambda x: len([x for x in x.split() if x.isdigit()])), \n",
    "#          'total_uppercase': (lambda x: len([x for x in x.split() if x.isupper()]))}\n",
    "\n",
    "#     groupdf = df.groupby(['author']).agg(d)\n",
    "#     groupdf = groupdf.reset_index()\n",
    "#     groupdf.columns = groupdf.columns.droplevel(1)\n",
    "    \n",
    "    # Total number of characters (including space)\n",
    "    print(\"\\tCharacter count per author...\")\n",
    "    df['char_count'] = df['body'].str.len()\n",
    "    # Total number of stopwords\n",
    "    print(\"\\tNumber of stopwords per author...\")\n",
    "    stopwordList = stopwords.words('english')\n",
    "    df['stopwords'] = df['body'].apply(lambda x: len([x for x in x.split() if x in stopwordList]))\n",
    "    # Total number of punctuation or special characters\n",
    "    print(\"\\tTotal number of punctuation per author...\")\n",
    "    df['total_punc'] = df['body'].apply(lambda x: len([x for x in x.split() for j in x if j in string.punctuation]))\n",
    "    # Total number of numerics\n",
    "    print(\"\\tTotal number of numerics per author...\")\n",
    "    df['total_num'] = df['body'].apply(lambda x: len([x for x in x.split() if x.isdigit()]))\n",
    "    # Total number of uppercase words\n",
    "    print(\"\\tTotal number of upper case words per author...\")\n",
    "    df['total_uppercase'] = df['body'].apply(lambda x: len([x for x in x.split() if x.isupper()]))    \n",
    "    return df\n",
    "\n",
    "# type token ratio\n",
    "def typetokenratio(df):\n",
    "    ratiolst = []\n",
    "    for comment in tqdm(df['body']):\n",
    "            lex = LexicalRichness(comment)\n",
    "            if lex.words == 0:\n",
    "                ratiolst.append(0)\n",
    "            else:\n",
    "                ratio = lex.ttr\n",
    "                ratiolst.append(ratio)\n",
    "    df['ttr'] = ratiolst\n",
    "    return df\n",
    "\n",
    "# words per sentence\n",
    "def wordcounter(df):\n",
    "    lengthscore = []\n",
    "    for row in tqdm(df['senttokens']):\n",
    "        rowscore = []\n",
    "        for comment in row:\n",
    "            sentencescore = 0\n",
    "            for senttoken in comment:\n",
    "                length = len(senttoken.split())\n",
    "                sentencescore += length\n",
    "            if len(comment) > 1:\n",
    "                sentencescore = sentencescore/len(comment)\n",
    "        lengthscore.append(sentencescore)\n",
    "        arr = np.array(lengthscore)\n",
    "    df['words_per_sent'] = lengthscore\n",
    "    return df\n",
    "\n",
    "# words longer than six characters\n",
    "def charcounter(df):\n",
    "    charscore = []\n",
    "    for row in tqdm(df['tokens']):\n",
    "        for comment in row:\n",
    "            rowcharscore = 0\n",
    "            lencomment = len(comment)\n",
    "            if lencomment == 0:\n",
    "                score = 0\n",
    "            else:\n",
    "                number = 0\n",
    "                for token in comment:\n",
    "                    length = len(token)\n",
    "                    if length > 5:\n",
    "                        number+=1\n",
    "                score = number/lencomment\n",
    "            rowcharscore += score\n",
    "        rowcharscore = rowcharscore/len(row)\n",
    "        charscore.append(rowcharscore)\n",
    "    df['wordslongersix'] = charscore\n",
    "    return df\n",
    "\n",
    "# POS tagger\n",
    "def tagging(df):\n",
    "    past = [] #VPA\n",
    "    presence = [] #VPR\n",
    "    adverbs = [] #RB\n",
    "    prepositions = [] #PREP\n",
    "    pronouns = [] #PR\n",
    "    for comment in tqdm(df['body']):\n",
    "            text = comment.split()\n",
    "            tags = nltk.pos_tag(text)\n",
    "            counts = Counter(tag for word,tag in tags)\n",
    "            total = sum(counts.values())\n",
    "            pron = counts['PRP'] + counts['PRP$']\n",
    "            verbspr = counts['VB'] + counts['VBG'] + counts['VBP'] + counts['VBZ'] + counts['MD']\n",
    "            verbspa = counts['VBD'] + counts['VBN']\n",
    "            preps = counts['IN'] + counts['TO']\n",
    "            counts['PR'] = pron\n",
    "            counts['PREP'] = preps\n",
    "            counts['VPR'] = verbspr #present tense\n",
    "            counts['VPA'] = verbspa #past tense\n",
    "            if total == 0:\n",
    "                allcounts = dict((word, float(count)/1) for word,count in counts.items())\n",
    "            else:\n",
    "                allcounts = dict((word, float(count)/total) for word,count in counts.items())\n",
    "            try:\n",
    "                past.append(allcounts['VPA'])\n",
    "            except KeyError:\n",
    "                past.append(0)\n",
    "            try:\n",
    "                presence.append(allcounts['VPR'])\n",
    "            except KeyError:\n",
    "                presence.append(0)\n",
    "            try:\n",
    "                adverbs.append(allcounts['RB'])\n",
    "            except KeyError:\n",
    "                adverbs.append(0)\n",
    "            try:\n",
    "                prepositions.append(allcounts['PREP'])\n",
    "            except KeyError:\n",
    "                prepositions.append(0)\n",
    "            try:\n",
    "                pronouns.append(allcounts['PR'])\n",
    "            except KeyError:\n",
    "                pronouns.append(0)\n",
    "    df['pasttense'] = past\n",
    "    df['presencetense'] = presence\n",
    "    df['adverbs'] = adverbs\n",
    "    df['prepositions'] = prepositions\n",
    "    df['pronouns'] = pronouns\n",
    "    return df\n",
    "\n",
    "def ngrams(df, n_min, n_max, ngramtype):\n",
    "    # convert input from list to string\n",
    "    ngrams = []\n",
    "    inputtext = []\n",
    "    for row in tqdm(df['tokens']):\n",
    "        for comment in row:\n",
    "            text = ' '.join(comment)\n",
    "        inputtext.append(text)\n",
    "    print(\"Length of inputtext: \", len(inputtext))\n",
    "    vectorizer = TfidfVectorizer(ngram_range=(n_min,n_max), analyzer=ngramtype)\n",
    "    print(\"Vectorize...\")\n",
    "    vectors = vectorizer.fit_transform(tqdm(inputtext))\n",
    "    dense = vectors.todense()\n",
    "    denselist = dense.tolist()\n",
    "    print(\"Get feature names...\")\n",
    "    names = vectorizer.get_feature_names()\n",
    "    print(\"Length of feature names: \", len(names))\n",
    "    print(\"Create df...\")\n",
    "    ngramdf = pd.DataFrame(denselist, columns=names)\n",
    "#     ngramdf['author'] = df['author']\n",
    "    return ngramdf\n",
    "\n",
    "def merge_dfs(df1, df2, df3):\n",
    "#     cwngramsdf = pd.merge(df1, df2, on='author', how='inner', suffixes= (None, \"_charngram\"))\n",
    "#     gramsdf = pd.merge(df3, cwngramsdf, on='author', how='inner', suffixes= (None, \"_ngram\"))\n",
    "    ngramsdf = df1.join(df2, rsuffix=\"_char\")\n",
    "    newdf = df3.join(ngramsdf, rsuffix=\"_ngram\")\n",
    "    return newdf"
   ]
  },
  {
   "cell_type": "code",
   "execution_count": 20,
   "metadata": {},
   "outputs": [
    {
     "name": "stdout",
     "output_type": "stream",
     "text": [
      "Create additional features...\n",
      "\tCharacter count per author...\n",
      "\tNumber of stopwords per author...\n",
      "\tTotal number of punctuation per author...\n",
      "\tTotal number of numerics per author...\n",
      "\tTotal number of upper case words per author...\n",
      "Create ttr...\n"
     ]
    },
    {
     "data": {
      "application/vnd.jupyter.widget-view+json": {
       "model_id": "5a726b2b3db248349246cd7d41a5a357",
       "version_major": 2,
       "version_minor": 0
      },
      "text/plain": [
       "  0%|          | 0/1606 [00:00<?, ?it/s]"
      ]
     },
     "metadata": {},
     "output_type": "display_data"
    },
    {
     "name": "stdout",
     "output_type": "stream",
     "text": [
      "Count words per sentence...\n"
     ]
    },
    {
     "data": {
      "application/vnd.jupyter.widget-view+json": {
       "model_id": "93d959469ae848f7b09d4b67a3699556",
       "version_major": 2,
       "version_minor": 0
      },
      "text/plain": [
       "  0%|          | 0/1606 [00:00<?, ?it/s]"
      ]
     },
     "metadata": {},
     "output_type": "display_data"
    },
    {
     "name": "stdout",
     "output_type": "stream",
     "text": [
      "Count words with more than six letters...\n"
     ]
    },
    {
     "data": {
      "application/vnd.jupyter.widget-view+json": {
       "model_id": "dce5e498a58e43c4bfeb6747091af03f",
       "version_major": 2,
       "version_minor": 0
      },
      "text/plain": [
       "  0%|          | 0/1606 [00:00<?, ?it/s]"
      ]
     },
     "metadata": {},
     "output_type": "display_data"
    },
    {
     "name": "stdout",
     "output_type": "stream",
     "text": [
      "POS-Tagger...\n"
     ]
    },
    {
     "data": {
      "application/vnd.jupyter.widget-view+json": {
       "model_id": "f9c96f28290443d5a52d359501426ad4",
       "version_major": 2,
       "version_minor": 0
      },
      "text/plain": [
       "  0%|          | 0/1606 [00:00<?, ?it/s]"
      ]
     },
     "metadata": {},
     "output_type": "display_data"
    },
    {
     "name": "stdout",
     "output_type": "stream",
     "text": [
      "number of rows df 1606\n",
      "Ngrams...\n",
      "Create word ngrams...\n"
     ]
    },
    {
     "data": {
      "application/vnd.jupyter.widget-view+json": {
       "model_id": "5175205d6af5410684fd7af061a4d7ec",
       "version_major": 2,
       "version_minor": 0
      },
      "text/plain": [
       "  0%|          | 0/1606 [00:00<?, ?it/s]"
      ]
     },
     "metadata": {},
     "output_type": "display_data"
    },
    {
     "name": "stdout",
     "output_type": "stream",
     "text": [
      "Length of inputtext:  1606\n",
      "Vectorize...\n"
     ]
    },
    {
     "data": {
      "application/vnd.jupyter.widget-view+json": {
       "model_id": "71c4d5200dcd45cebdc759ea4780907c",
       "version_major": 2,
       "version_minor": 0
      },
      "text/plain": [
       "  0%|          | 0/1606 [00:00<?, ?it/s]"
      ]
     },
     "metadata": {},
     "output_type": "display_data"
    },
    {
     "name": "stdout",
     "output_type": "stream",
     "text": [
      "Get feature names...\n",
      "Length of feature names:  80192\n",
      "Create df...\n",
      "Create char ngrams...\n"
     ]
    },
    {
     "data": {
      "application/vnd.jupyter.widget-view+json": {
       "model_id": "2096fbaa099c4b9f8a5effba136a651a",
       "version_major": 2,
       "version_minor": 0
      },
      "text/plain": [
       "  0%|          | 0/1606 [00:00<?, ?it/s]"
      ]
     },
     "metadata": {},
     "output_type": "display_data"
    },
    {
     "name": "stdout",
     "output_type": "stream",
     "text": [
      "Length of inputtext:  1606\n",
      "Vectorize...\n"
     ]
    },
    {
     "data": {
      "application/vnd.jupyter.widget-view+json": {
       "model_id": "d64819ef44184f0eab29cf30997681e3",
       "version_major": 2,
       "version_minor": 0
      },
      "text/plain": [
       "  0%|          | 0/1606 [00:00<?, ?it/s]"
      ]
     },
     "metadata": {},
     "output_type": "display_data"
    },
    {
     "name": "stdout",
     "output_type": "stream",
     "text": [
      "Get feature names...\n",
      "Length of feature names:  7521\n",
      "Create df...\n",
      "Merge df...\n"
     ]
    }
   ],
   "source": [
    "# Wrapper for linguistic features\n",
    "# def new_lin_columns(df):\n",
    "#     print(\"Create additional features...\")\n",
    "#     df = create_features(df)\n",
    "#     return df\n",
    "\n",
    "# lin_extra_df = new_lin_columns(predf)\n",
    "# lin_extra_df.to_pickle(\"lin_extra_df_withoutuserfeat_allcomments.pkl\")\n",
    "\n",
    "\n",
    "def extract_lin_features(df, create_ngrams):\n",
    "    print(\"Create additional features...\")\n",
    "    df = create_features(df)\n",
    "    print(\"Create ttr...\")\n",
    "    df = typetokenratio(df)\n",
    "    print(\"Count words per sentence...\")\n",
    "    df = wordcounter(df)\n",
    "    print(\"Count words with more than six letters...\")\n",
    "    df = charcounter(df)\n",
    "    print(\"POS-Tagger...\")\n",
    "    df = tagging(df)\n",
    "    print(\"number of rows df\", len(df))\n",
    "    \n",
    "    if create_ngrams == \"none\":\n",
    "        return df\n",
    "    \n",
    "    elif create_ngrams == \"all\":\n",
    "        print(\"Ngrams...\")\n",
    "        print(\"Create word ngrams...\")\n",
    "        wordngramsdf = ngrams(df, 1, 3, \"word\")\n",
    "        print(\"Create char ngrams...\")\n",
    "        charngramsdf = ngrams(df, 2, 3, \"char\")\n",
    "        print(\"Merge df...\")\n",
    "        gramsdf = merge_dfs(wordngramsdf, charngramsdf, df)\n",
    "        return gramsdf\n",
    "    \n",
    "    elif create_ngrams == \"word\":\n",
    "        wordngrams = ngrams(df, 1, 3, 'word')\n",
    "        wordngramsdf = pd.DataFrame(wordngrams)\n",
    "#         gramsdf = pd.merge(df, wordngramsdf, on='author', how='inner', suffixes=(None, \"_ngram\"))\n",
    "        gramsdf = df.join(wordngramsdf)\n",
    "        return gramsdf\n",
    "    \n",
    "# create dataframe with linguistic features\n",
    "\n",
    "# without ngrams\n",
    "# lin_feat_df = extract_lin_features(user_feat_df, \"none\")\n",
    "\n",
    "# with all ngrams\n",
    "# lin_ngrams_df = extract_lin_features(user_feat_df, \"all\")ii\n",
    "\n",
    "lin_ngrams_df = extract_lin_features(predf, \"all\")\n",
    "lin_ngrams_df.to_pickle(\"lin_feat_df_withoutuserfeat_allcomments.pkl\")\n",
    "\n",
    "# wordngrams only\n",
    "# lin_wordngrams_df = extract_lin_features(user_feat_df, \"word\")"
   ]
  },
  {
   "cell_type": "code",
   "execution_count": 25,
   "metadata": {},
   "outputs": [],
   "source": [
    "# Wordlists (functions)\n",
    "\n",
    "# Empath\n",
    "# create new categories with empath\n",
    "def new_cat():\n",
    "    empath = Empath()\n",
    "    social = empath.create_category(\"social\",[\"mate\",\"talk\",\"they\"])\n",
    "    humans = empath.create_category(\"humans\",[\"adult\",\"baby\",\"boy\"])\n",
    "    cognitive = empath.create_category(\"cognitive\",[\"cause\",\"know\",\"ought\"])\n",
    "    insight = empath.create_category(\"insight\",[\"think\",\"know\",\"consider\"])\n",
    "    causation = empath.create_category(\"causation\",[\"because\",\"effect\",\"hence\"])\n",
    "    discrepancy = empath.create_category(\"discrepancy\",[\"should\",\"would\",\"could\"])\n",
    "    tentative = empath.create_category(\"tentative\",[\"maybe\",\"perhaps\",\"guess\"])\n",
    "    certainty = empath.create_category(\"certainty\",[\"always\",\"never\", \"proof\"])\n",
    "    inhibition = empath.create_category(\"inhibition\",[\"block\",\"constrain\",\"stop\"])\n",
    "    inclusive = empath.create_category(\"inclusive\",[\"and\",\"with\",\"include\"])\n",
    "    exclusive = empath.create_category(\"exclusive\",[\"but\",\"without\",\"exclude\"])\n",
    "    perceptual = empath.create_category(\"perceptual\",[\"observing\",\"hear\",\"feeling\"])\n",
    "    see = empath.create_category(\"see\",[\"view\",\"saw\",\"seen\"])\n",
    "    feel = empath.create_category(\"feel\",[\"feels\",\"touch\",\"feeling\"])\n",
    "    biological = empath.create_category(\"biological\",[\"eat\",\"blood\",\"pain\"])\n",
    "    relativity = empath.create_category(\"relativity\",[\"area\",\"bend\",\"go\"])\n",
    "    space = empath.create_category(\"space\",[\"down\",\"in\",\"thin\"])\n",
    "    time = empath.create_category(\"time\",[\"end\",\"until\",\"season\"])\n",
    "    agreement = empath.create_category(\"agreement\", [\"agree\", \"ok\", \"yes\"])\n",
    "    fillers = empath.create_category(\"fillers\", [\"like\", \"Imean\", \"yaknow\"])\n",
    "    nonfluencies = empath.create_category(\"nonfluencies\", [\"umm\", \"hm\", \"er\"])\n",
    "    conjunctions = empath.create_category(\"conjunctions\", [\"and\", \"but\", \"whereas\"])\n",
    "    quantifiers = empath.create_category(\"quantifiers\", [\"few\", \"many\", \"much\"])\n",
    "    numbers = empath.create_category(\"numbers\", [\"two\", \"fourteen\", \"thousand\"])\n",
    "\n",
    "def apply_empath(df):\n",
    "    empath = Empath()\n",
    "    print(\"Create new empath categories...\")\n",
    "    new_cat()\n",
    "    print(\"Apply empath...\")\n",
    "    empathvalues = []\n",
    "    empathcategories = [\"swearing_terms\", \"social\", \"family\", \"friends\", \"humans\", \"emotional\", \"positive_emotion\", \"negative_emotion\", \"fear\", \"anger\", \"sadness\", \"cognitive\", \"insight\", \"causation\", \"discrepancy\", \"tentative\", \"certainty\", \"inhibition\", \"inclusive\", \"exclusive\", \"perceptual\", \"see\", \"hear\", \"feel\", \"biological\", \"body\", \"health\", \"sexual\", \"eat\", \"relativity\", \"space\", \"time\", \"work\", \"achievement\", \"leisure\", \"home\", \"money\", \"religion\", \"death\" ,\"agreement\", \"fillers\", \"nonfluencies\"]\n",
    "    for sentence in tqdm(df['body']):\n",
    "        empathvalues.append(empath.analyze(sentence, categories=empathcategories, normalize=True))\n",
    "    empathdf = pd.DataFrame(empathvalues)\n",
    "#     empathdf['author'] = df['author']\n",
    "\n",
    "#     newdf = pd.merge(df, empathdf, on='author', how='inner', suffixes=(None, \"_wordlist\"))\n",
    "    newdf = df.join(empathdf, rsuffix=\"_empath\")\n",
    "    return newdf"
   ]
  },
  {
   "cell_type": "code",
   "execution_count": 26,
   "metadata": {},
   "outputs": [],
   "source": [
    "# Import data for other wordlists\n",
    "concretenessdf = pd.read_csv('/home/sophia/ma_py/psych_lists/concreteness.csv')\n",
    "cdf = concretenessdf[['Conc.M']]\n",
    "cmatrix = cdf.to_numpy()\n",
    "concrete = concretenessdf['Word'].values.tolist()\n",
    "\n",
    "happinessdf = pd.read_csv('/home/sophia/ma_py/psych_lists/happiness_ratings.csv')\n",
    "hdf = happinessdf[['happiness_average']]\n",
    "hmatrix = hdf.to_numpy()\n",
    "happiness = happinessdf['word'].values.tolist()\n",
    "\n",
    "cursedf = pd.read_csv('/home/sophia/ma_py/psych_lists/mean_good_curse.csv')\n",
    "cudf = cursedf[['mean_good_curse']]\n",
    "cumatrix = cudf.to_numpy()\n",
    "curse = cursedf['word'].values.tolist()\n",
    "\n",
    "sensorydf = pd.read_csv('/home/sophia/ma_py/psych_lists/sensory_experience_ratings.csv')\n",
    "serdf = sensorydf[['Average SER']]\n",
    "sermatrix = serdf.to_numpy()\n",
    "ser = sensorydf['Word'].values.tolist()\n",
    "\n",
    "alldf = pd.read_csv('/home/sophia/ma_py/psych_lists/sensory_ratings_all.csv')\n",
    "newalldf = alldf[['Emotion', 'Polarity', 'Social', 'Moral', 'MotionSelf', 'Thought', 'Color', 'TasteSmell', 'Tactile', 'VisualForm', 'Auditory', 'Space', 'Quantity', 'Time', 'CNC', 'IMG', 'FAM']]\n",
    "allmatrix = newalldf.to_numpy()\n",
    "allsens = alldf['Word'].values.tolist()\n",
    "\n",
    "valarodomdf = pd.read_csv('/home/sophia/ma_py/psych_lists/valence_arousal_dominence.csv')\n",
    "vaddf = valarodomdf[['V.Mean.Sum', 'A.Mean.Sum', 'D.Mean.Sum']]\n",
    "vadmatrix = vaddf.to_numpy()\n",
    "vad = valarodomdf['Word'].values.tolist()\n",
    "\n",
    "mrcdf = pd.read_csv('/home/sophia/ma_py/psych_lists/mrclists_c_p.csv', sep='\\t', names=['word', 'cmean', 'pmean'])\n",
    "cpdf = mrcdf[['cmean', 'pmean']]\n",
    "cpmatrix = cpdf.to_numpy()\n",
    "mrc = mrcdf['word'].values.tolist()\n",
    "\n",
    "# function for other wordlists\n",
    "\n",
    "def counter(df, vocab):\n",
    "    inputtext = []\n",
    "    for row in tqdm(df['body']):\n",
    "        text = ' '.join(row)\n",
    "        inputtext.append(text)\n",
    "    vectorizer = CountVectorizer(analyzer=\"word\", ngram_range=(1,1), vocabulary = vocab)\n",
    "    print(\"Vectorize...\")\n",
    "    vectors = vectorizer.fit_transform(tqdm(inputtext))\n",
    "    v = vectors.toarray()\n",
    "    return v\n",
    "\n",
    "def multiply(matrix, ratings):\n",
    "    # matrix multiplication \n",
    "    result = np.matmul(matrix, ratings)\n",
    "    # divide each score with the number of words in the list to normalize\n",
    "    if len(ratings) > 0:\n",
    "        result = result/(len(ratings))\n",
    "    return result\n",
    "\n",
    "def aggregator(df, vocab, ratings, name):\n",
    "    print(\"\\tCount...\")\n",
    "    count = counter(df, vocab)\n",
    "    print(\"\\tMultiply...\")\n",
    "    result = multiply(count, ratings)\n",
    "    num_rows, num_cols = result.shape\n",
    "    \n",
    "    if num_cols ==1:\n",
    "        df[name] = result\n",
    "    else:\n",
    "        resultdf = pd.DataFrame(result)\n",
    "        for i in range(len(name)):\n",
    "            # first i is zero\n",
    "            column = name[i]\n",
    "            df[column] = resultdf[i]\n",
    "    return df"
   ]
  },
  {
   "cell_type": "code",
   "execution_count": 29,
   "metadata": {},
   "outputs": [],
   "source": [
    "# wordlists created manually\n",
    "\n",
    "negations = [\"no\", \"not\", \"none\", \"nobody\", \"nothing\", \"neither\", \"nowhere\", \"never\", \"nay\"]\n",
    "articles = [\"a\", \"an\", \"the\"]\n",
    "future = [\"will\", \"gonna\"]\n",
    "\n",
    "def list_counter(df, vocab, name):\n",
    "    inputtext = []\n",
    "    total = []\n",
    "    for row in tqdm(df['body']):\n",
    "        total.append(len(row))\n",
    "        text = ' '.join(row)\n",
    "        inputtext.append(text)\n",
    "    vectorizer = CountVectorizer(analyzer=\"word\", ngram_range=(1,1), vocabulary = vocab)\n",
    "    print(\"\\tVectorize...\")\n",
    "    vectors = vectorizer.fit_transform(tqdm(inputtext))\n",
    "    v = vectors.toarray()\n",
    "    averagev = v.sum(axis=1)\n",
    "    totalvector =  np.array(total)\n",
    "    score = np.divide(averagev, totalvector)\n",
    "    df[name] = score\n",
    "    return df"
   ]
  },
  {
   "cell_type": "code",
   "execution_count": 30,
   "metadata": {},
   "outputs": [
    {
     "name": "stdout",
     "output_type": "stream",
     "text": [
      "Empath...\n",
      "Create new empath categories...\n",
      "[\"talk\", \"mates\", \"mate\", \"Because\", \"friends\", \"anyone\", \"anything\", \"mean\", \"though\", \"anyway\", \"guess\", \"anymore\", \"should\", \"why\", \"knew\", \"someone\", \"trust\", \"wanted\", \"actually\", \"family\", \"anybody\", \"Well\", \"care\", \"parents\", \"knowing\", \"understand\", \"Now\", \"Maybe\", \"else\", \"probably\", \"happen\", \"yet\", \"honestly\", \"maybe\", \"either\", \"If\", \"always\", \"thought\", \"leave\", \"suppose\", \"talk\", \"own_friends\", \"telling\", \"nt\", \"right\", \"either\", \"cause\", \"talking\", \"cause\", \"anyways\"]\n",
      "[\"child\", \"kid\", \"girl\", \"baby\", \"adult\", \"teenager\", \"boy\", \"little_girl\", \"little_boy\", \"young\", \"age\", \"baby_girl\", \"teen\", \"woman\", \"princess\", \"toddler\", \"grown_man\", \"baby_sister\", \"daughter\", \"six_year_old\", \"sister\", \"teenage_girl\", \"newborn\", \"guy\", \"baby_boy\", \"brother\", \"three_year_old\", \"sixteen_year_old\", \"four_year_old\", \"6_year_old\", \"ten_year_old\", \"new_man\", \"one\", \"seven_year_old\", \"person\", \"babies\", \"12_year_old\", \"twelve_year_old\", \"4_year_old\", \"10_year_old\", \"nine_year_old\", \"teenage_boy\", \"little_baby\", \"mother\", \"thing\", \"eighteen_year_old\", \"fourteen_year_old\", \"daddy\", \"lady\", \"Because\", \"grandchild\", \"big_brother\", \"man\", \"14_year_old\", \"someone\", \"female\", \"Now\", \"stranger\", \"old_man\", \"father\", \"old\", \"kids\", \"husband\", \"eight_year_old\", \"little_sister\", \"orphan\", \"wife\", \"sibling\", \"5_year_old\", \"dad\", \"young_adult\", \"old_lady\", \"young_lad\", \"2_year_old\", \"young_lady\", \"eleven_year_old\", \"doll\", \"angel\", \"always\"]\n",
      "[\"cause\", \"suppose\", \"should\", \"Because\", \"might\", \"mean\", \"anyway\", \"cause\", \"If\", \"Maybe\", \"probably\", \"maybe\", \"guess\", \"Or\", \"though\", \"honestly\", \"expect\", \"Now\", \"understand\", \"bet\", \"either\", \"meant\", \"like\", \"wish\", \"anything\", \"unless\", \"actually\", \"anyways\", \"trust\", \"Besides\", \"Honestly\", \"Plus\", \"cause\", \"why\", \"Well\", \"care\", \"anyone\", \"need\", \"seriously\", \"anybody\", \"anymore\", \"thought\", \"either\", \"wanted\", \"anyhow\", \"whatever\", \"afraid\", \"Obviously\", \"Sometimes\", \"nt\", \"better\", \"besides\", \"personally\", \"Now\", \"reason\", \"wo\", \"does\", \"anyways\", \"surely\", \"happen\", \"doubt\", \"otherwise\", \"always\", \"reckon\", \"sometimes\", \"knowing\", \"Otherwise\"]\n",
      "[\"mean\", \"consider\", \"understand\", \"Because\", \"believe\", \"honestly\", \"like\", \"doubt\", \"guess\", \"trust\", \"care\", \"anyway\", \"thought\", \"suppose\", \"actually\", \"though\", \"Honestly\", \"Maybe\", \"maybe\", \"If\", \"probably\", \"blame\", \"agree\", \"Well\", \"expect\", \"bet\", \"seriously\", \"should\", \"Actually\", \"Besides\", \"besides\", \"hate\", \"wonder\", \"Plus\", \"Or\", \"anyways\", \"admit\", \"either\", \"anything\", \"explain\", \"thinks\", \"wish\", \"thing\", \"remember\", \"ask\", \"Obviously\", \"appreciate\", \"Besides\", \"matter\", \"why\", \"judge\", \"imagine\", \"suspect\", \"think\", \"accept\", \"See\", \"remind\", \"might\", \"anyone\", \"Secondly\", \"assume\", \"happen\", \"knowing\", \"forget\", \"anyhow\", \"knows\", \"Not\", \"thinking\", \"seem\", \"talk\", \"question\", \"Trust\", \"warn\"]\n",
      "[\"effect\", \"though\", \"Although\", \"although\", \"though\", \"Though\", \"Because\", \"fact\", \"actually\", \"affect\", \"probably\", \"Obviously\", \"reason\", \"However\", \"especially\", \"only\", \"Yet\", \"Though\", \"considering\", \"obviously\", \"Plus\", \"yet\", \"cause\", \"purpose\", \"either\", \"part\", \"meant\", \"also\", \"knowing\", \"honestly\", \"appeal\", \"yet\", \"cause\", \"either\", \"however\", \"Besides\", \"which\", \"apparently\", \"extent\", \"always\", \"definitely\", \"Apparently\", \"kind\", \"good_thing\", \"otherwise\", \"idea\", \"sometimes\", \"knew\", \"Even\", \"therefore\", \"Maybe\", \"surely\", \"Unfortunately\", \"mean\", \"certainly\", \"If\", \"Honestly\", \"Besides\", \"Which\", \"thing\", \"normally\", \"Clearly\", \"might\", \"seriously\", \"somehow\", \"Knowing\", \"point\"]\n",
      "[\"should\", \"'d\", \"might\", \"wanted\", \"knew\", \"able\", \"possibly\", \"needed\", \"must\", \"though\", \"thought\", \"probably\", \"meant\", \"If\", \"maybe\", \"Maybe\", \"Or\", \"figured\", \"wish\", \"wouldn\\u2019t\", \"suppose\", \"wo\", \"actually\", \"knowing\", \"wanting\", \"enough\", \"wished\", \"anything\", \"otherwise\", \"either\", \"only\", \"Should\", \"hoped\", \"anyway\", \"hoping\", \"willing\", \"surely\", \"though\", \"Now\", \"honestly\", \"anyone\", \"Because\", \"either\", \"chance\", \"ought\", \"couldn\\u2019t\", \"supposed\", \"best\", \"does\", \"better\", \"didn\\u2019t\", \"yet\", \"decided\", \"personally\", \"anymore\", \"any\", \"Would\", \"else\", \"Did\", \"Sometimes\"]\n",
      "[\"guess\", \"well\", \"Well\", \"anyways\", \"suppose\", \"maybe\", \"anyway\", \"anyway\", \"Yeah\", \"Guess\", \"Maybe\", \"actually\", \"anyways\", \"mean\", \"cause\", \"Actually\", \"Yea\", \"probably\", \"though\", \"glad\", \"kinda\", \"kinda\", \"figured\", \"Yea\", \"cause\", \"guess\", \"so\", \"honestly\", \"bet\", \"Because\", \"yeah\", \"should\", \"hope\", \"Plus\", \"because\", \"thought\", \"Nah\", \"why\", \"Okay\", \"anyways\", \"Yup\", \"Sure\", \"sure\", \"good_thing\", \"Anyway\", \"Ok\", \"y'know\", \"anyways\", \"Well\", \"though\", \"cause\", \"sure\", \"sorta\", \"like\", \"whatever\", \"Anyways\", \"Honestly\", \"Now\", \"Hopefully\", \"Obviously\", \"good\", \"Ya\", \".but\", \"dunno\", \"sure\", \"See\", \"anyhow\", \"okay\", \"Yea\", \"So\", \"yea\", \"great\", \"Anyway\", \"guessing\", \"whatever\"]\n",
      "[\"proof\", \"evidence\", \"motive\", \"witnesses\", \"guarantee\", \"claims\", \"witness\", \"sources\", \"fraud\", \"justification\", \"leads\", \"prove\", \"claim\", \"justice\", \"killing\", \"last_resort\", \"doubt\", \"theory\", \"cure\", \"If\", \"proves\", \"evidences\", \"false\", \"significance\", \"enough_evidence\", \"real_danger\", \"hypothesis\", \"redemption\", \"relation\", \"suspect\", \"clues\", \"verify\", \"free_will\", \"suspect\", \"confirm\", \"suspects\", \"slight_chance\", \"otherwise\", \"blackmail\", \"human_life\", \"testimony\", \"Surely\", \"hoax\", \"faults\", \"conspiracy\", \"slim_chance\", \"death_sentence\", \"telling\", \"compromised\", \"Psy\", \"relevance\", \"value\", \"believed\", \"crimes\", \"scheme\", \"enough_proof\", \"potential\", \"Alchemists\", \"error\", \"good_chance\", \"shinigami\", \"benefit\", \"more_evidence\", \"identity\", \"WICKED\", \"consequence\", \"justify\", \"consolation\", \"threat\", \"identification\", \"investigations\", \"other_means\", \"connections\", \"true\", \"restrictions\", \"&acirc;&euro;&brvbar\", \"deception\", \"kidnapping\", \"assure\", \"allegations\", \"warrant\", \"such_thing\", \"eliminate\", \"potential\", \"liability\", \"fatal\", \"Council\", \"PsyNet\", \"theft\", \"the_Holy_Grail\", \"use\", \"saving\", \"conclude\", \"deeds\", \"much_power\", \"single_clue\", \"imply\", \"unless\", \"reason\"]\n",
      "[\"block\", \"stop\", \"keep\", \"ignore\", \"blocked\", \"distract\", \"avoid\", \"prevent\", \"focus\", \"blocking\", \"escape\", \"push\", \"control\", \"try\", \"concentrate\", \"kept\", \"hold\", \"cover\", \"continue\", \"shield\", \"start\", \"back\", \"hear\", \"stand\", \"restrain\", \"help\", \"force\", \"move\", \"catch\", \"hard\", \"dodge\", \"hide\", \"scream\", \"stopping\"]\n",
      "[\"include\", \"included\", \"also\", \"includes\", \"consist\", \"add\", \"hence\", \"Basically\", \"one\", \"Also\", \"involves\", \"either\", \"involve\", \"mainly\", \"part\", \"involving\", \"including\", \"mention\", \"apparently\", \"besides\", \"one\", \"mostly\", \"namely\", \"Along\", \"same_kind\", \"Hence\", \"assume\", \"consists\", \"Except\", \"addition\", \"which\", \"associated\", \"typically\", \"Mostly\", \"having\", \"minus\", \"basically\", \"create\", \"two\", \"obviously\", \"represent\", \"Including\", \"courtesy\", \"contributed\", \"Besides\", \"excluding\", \"most\", \"use\", \"especially\", \"instead\", \"share\", \"course\", \"example\", \"involved\", \"specifically\", \"Probably\", \"different_type\", \"kind\", \"opposed\", \"Plus\", \"both\", \"used\", \"supplied\", \"exception\", \"combined\", \"only\", \"sorts\", \"limited\", \"lastly\", \"listed\", \"plus\", \"Apparently\", \"however\", \"theirs\", \"consisting\"]\n",
      "[\"without\", \"but\", \"simply\", \"else\", \"nothing\", \"either\", \"Yet\", \"only\", \"either\", \"instead\", \"anything\", \"though\", \"any\", \"nor\", \"whatsoever\", \"though\", \"yet\", \"hardly\", \"anymore\", \"Because\", \"Not\", \"anyone\", \"Without\", \"unless\", \"Yet\", \"possibly\", \"knowing\", \"yet\", \"besides\", \"help\", \"one\", \"own\", \"Still\", \"meant\", \"Nor\", \"neither\", \"Though\", \"cause\", \"However\", \"somehow\", \"If\", \"imagine\", \"otherwise\", \"however\", \"obviously\", \"although\", \"more\", \"honestly\", \"Obviously\", \"anybody\", \"risk\", \"alone\", \"seeing\", \"clearly\", \"being\", \"someone\", \"bother\", \"anyway\", \"cause\"]\n",
      "[\"feeling\", \"hearing\", \"seeing\", \"hear\", \"feel\", \"noticing\", \"knowing\", \"sense\", \"notice\", \"heard\", \"making\", \"thinking\", \"observing\", \"watching\", \"noticed\", \"aware\", \"quietly\", \"realizing\", \"sensing\", \"listening\", \"imagining\", \"stand\", \"realize\", \"clearly\", \"suddenly\", \"sensed\", \"though\", \"feeling\", \"seemed\", \"realise\", \"seeming\", \"faint\", \"noting\", \"listened\", \"moment\", \"ignore\", \"doing\", \"quiet\", \"realized\", \"judging\", \"ignoring\", \"keeping\", \"observed\", \"knew\", \"observe\", \"hiding\"]\n"
     ]
    },
    {
     "name": "stdout",
     "output_type": "stream",
     "text": [
      "[\"noticed\", \"seen\", \"view\", \"seeing\", \"spotted\", \"sight\", \"saw\", \"found\", \"realized\", \"spied\", \"veiw\", \"appeared\", \"realised\", \"showed\", \"recognized\", \"glimpsed\", \"glimpse\", \"faced\", \"notice\", \"noticing\", \"spot\", \"disappeared\", \"stopped\", \"standing\", \"shown\", \"remembered\", \"front\", \"caught\", \"watched\", \"recognised\", \"figure\", \"spotting\", \"observed\", \"silhouette\", \"clear_view\", \"guessed\", \"near\", \"met\", \"corner\", \"Seeing\", \"witnessed\", \"pictured\", \"passed\", \"approached\", \"entered\", \"first_glimpse\", \"emerged\", \"familiar_face\", \"imagined\", \"stood\", \"notice\", \"dissapeared\", \"before\"]\n",
      "[\"feel\", \"feels\", \"feeling\", \"feeling\", \"touch\", \"felt\", \"touching\", \"numb\", \"touch\", \"touched\", \"Feeling\", \"hurt\", \"feel\", \"sensation\", \"hurting\", \"hurts\", \"felling\", \"touches\", \"burn\", \"own_skin\", \"aching\", \"tingly\", \"weak\", \"body\", \"makes\", \"kiss\", \"pain\", \"tingling\", \"whole_body\", \"warm\", \"knowing\", \"cold\", \"breathe\", \"tingle\", \"heat\", \"own_body\", \"lie\", \"someone\", \"yet\", \"tingling\", \"burning\", \"though\", \"coldness\", \"though\"]\n",
      "[\"blood\", \"pain\", \"burn\", \"more_blood\", \"agony\", \"burns\", \"poison\", \"wound\", \"wounds\", \"hunger\", \"flesh\", \"fresh_blood\", \"own_blood\", \"sting\", \"burning\", \"excruciating_pain\", \"fluids\", \"acid\", \"fluid\", \"black_blood\", \"liquid\", \"body\", \"bleed\", \"water\", \"open_wound\", \"organs\", \"bleeding\", \"numb\", \"monster\", \"little_blood\", \"substance\", \"vomit\", \"innards\", \"stomach\", \"cuts\", \"fear\", \"bled\", \"enough_blood\", \"pains\", \"pain\", \"burning_sensation\", \"bloody_mess\", \"ache\", \"so_much_blood\", \"bones\", \"warm_blood\", \"burning_feeling\", \"energy\", \"more_pain\", \"scratches\", \"burning_pain\", \"aching\", \"thirst\", \"red_liquid\", \"infected\", \"gash\", \"kidneys\", \"infected\", \"bruises\", \"guilt\", \"numbness\", \"hurt\", \"body_parts\", \"marks\", \"horrible_pain\", \"stinging\", \"heat\", \"open_wounds\", \"blisters\", \"veins\", \"medicine\", \"bleeding\", \"unbearable_pain\", \"meat\", \"swelling\", \"internal_organs\", \"pits\", \"anger\", \"slime\", \"intestines\", \"feel\", \"weak\", \"agonizing_pain\", \"immense_pain\", \"burning\", \"hurting\", \"insides\"]\n",
      "[\"move\", \"bend\", \"area\", \"place\", \"reach\", \"stand\", \"so\", \"back\", \"walk\", \"spot\", \"step\", \"pass\", \"drop\", \"start\", \"bring\", \"settle\", \"near\", \"moving\", \"find\", \"places\", \"drag\", \"begin\", \"place\", \"pull\", \"travel\", \"until\", \"rush\", \"areas\", \"set\", \"push\", \"sit\", \"carry\", \"try\", \"head\", \"base\", \"mats\", \"climb\", \"down\", \"turn\", \"bending\", \"rest\", \"bases\", \"fly\", \"order\", \"once\", \"land\", \"slide\", \"right\", \"back\", \"spots\", \"out\", \"perimeter\", \"enter\", \"somewhere\", \"space\", \"continue\", \"leave\"]\n",
      "[\"down\", \"up\", \"across\", \"down\", \"along\", \"small\", \"thin\", \"thick\", \"past\", \"bottom\", \"under\", \"up\", \"straight\", \"underneath\", \"sides\", \"half\", \"above\", \"back\", \"side\", \"below\", \"onto\", \"out\", \"almost\", \"near\", \"off\", \"top\", \"which\", \"tiny\", \"beneath\", \"barely\", \"length\", \"inside\", \"middle\", \"while\", \"covered\", \"covering\", \"circular\", \"slowly\", \"practically\", \"lining\", \"large\", \"sown\", \"against\", \"left_side\", \"skeleton\", \"edge\", \"light\", \"flowing\", \"halfway\", \"full\", \"figure\", \"left\", \"reach\", \"literally\", \"running\", \"one\", \"mass\", \"patches\", \"towards\", \"As\", \"center\"]\n",
      "[\"end\", \"until\", \"till\", \"season\", \"beginning\", \"after\", \"march\", \"day\", \"start\", \"once\", \"only\", \"eventually\", \"part\", \"first\", \"finale\", \"during\", \"finally\", \"Finally\", \"rest\", \"which\", \"Then\", \"seasons\", \"third\", \"Eventually\", \"once\", \"whole\", \"last\", \"one\", \"the_spring\", \"festival\", \"the_third_day\", \"ending\", \"the_end_of_the\", \"spring\", \"summer\", \"last_one\", \"When\", \"cycle\", \"However\", \"the_day\", \"middle\", \"completion\", \"second_half\", \"one\", \"since\", \"very_end\", \"Until\", \"every\", \"scores\", \"place\", \"instead\", \"another\", \"As\", \"point\", \"year\", \"After\", \"so\", \"October\", \"best_part\", \"quarter\", \"Since\", \"countdown\", \"During\", \"first_half\", \"so\", \"already\"]\n",
      "[\"okay\", \"ok\", \"ok\", \"alright\", \"yes\", \"alright\", \"OK\", \"fine\", \"yes\", \"alright\", \"Yes\", \"ok\", \"agree\", \"okay\", \"okay\", \"ok\", \"Yea\", \"ask\", \"fine\", \"alright\", \"Ok\", \"alright\", \"ok\", \"Yea\", \"okay\", \"No\", \"Ofcourse\", \"asked.\\\"No\", \"Yeh\", \"sure\", \"ok\", \"Umm\", \"yeah\", \"OK.\", \"umm\", \"Ok\", \"Okay\", \"Yeah\", \"Sure\", \"Okay\", \"Yup\", \"like\", \"okey\", \"yes\", \"gonna_help\", \"fine\", \"ok\", \"asked.\\\"I\", \"Ok\", \"fine-\", \"Um\", \"ofcourse\", \"wrong\", \"sure\", \"yea\", \"no\", \"no\", \"don't\", \"OK\", \"Fine\", \"well\", \"Fine\", \"Well\", \"problem\", \"mean\", \"Fine\", \"asked.\\\"I\", \"ok\", \"Alright\", \"trust\", \"why\", \"need\", \"err\", \"Ok\", \"Yep\", \"Yup\", \"yep\", \"fine_mom\", \"Okay\", \"Well\", \"Ummm\", \"Nevermind\", \"worry\", \"serious_question\", \"yea\", \"umm\", \"good_thanks\", \"Erm\", \"wan't\", \"Ya\", \"should\", \"true\"]\n",
      "[\"Like\", \"like\", \"though\", \"Because\", \"actually\", \"weird\", \"Like\", \"probably\", \"mean\", \"crazy\", \"always\", \"strange\", \"like\", \"though\", \"normal\", \"literally\", \"normally\", \"horrible\", \"awful\", \"kid\", \"Plus\", \"only\", \"kind\", \"honestly\", \"seriously\", \"bad\", \"Honestly\", \"sometimes\", \"thought\", \"stupid\", \"swear\", \"same\", \"Sometimes\", \"good\", \"bet\", \"Even\", \"terrible\", \"type\", \"Or\", \"different\", \"weird_thing\", \"basically\", \"more\", \"girl\", \"Basically\", \"someone\", \"Besides\", \"odd\", \"maybe\", \"Probably\", \"cause\", \"better\", \"teenager\", \"right\", \"imagine\", \"acting\", \"act\", \"Maybe\", \"nothing\", \"either\"]\n",
      "[\"umm\", \"uhm\", \"um\", \"uhh\", \"ummm\", \"erm\", \"ummm\", \"uh\", \"umm\", \"hm\", \"ummm\", \"erm\", \"err\", \"umm\", \"umm\", \"uhm\", \"uhhh\", \"hm\", \"Ummm\", \"uhh\", \"uhh\", \"uhmm\", \"Umm\", \"U\", \"hmm\", \"hmmm\", \"hmm\", \"uhh\", \"umm\", \"yea\", \"umm\", \"umm\", \"Uhh\", \"umm\", \"uhm\", \"Erm\", \"uhhh\", \"uhm\", \"mm\", \"Ohh\", \"uhmm\", \"hmmmm\", \"Uhhh\", \"erm\", \"yea\", \"Ehm\", \"yea\", \"Ummm\", \"Uhhh\", \"Urm\", \"Umm\", \"uhhh\", \"ummm\", \"errr\", \"ok\", \"uhhhh\", \"uhhh\", \"Um\", \"Uhh\", \"Ummmm\", \"Uhm\", \"Err\", \"yea\", \"Ermm\", \"yeah\", \"uhh\", \"Erm\", \"ummmm\", \"Uhmm\", \"ohh\", \"uhmm\", \"urm\", \"Yea\", \"Erm\", \"serena\", \"yea\", \"okay\", \"Uh\", \"uhh\", \"ermm\", \"hmm\", \"..you\", \"mhm\", \".so\", \"ehm\", \"er\", \"urm\", \".yeah\", \"ye\", \"mhmm\", \"nevermind\", \"waht\", \"ok\", \"yea\", \"Uhhh\", \"Er\", \".what\", \"ummmm\", \"Yeh\", \"Uh-\"]\n",
      "[\"but\", \"whereas\", \"yet\", \"although\", \"however\", \"except\", \"Though\", \"Although\", \"unlike\", \"Yet\", \"However\", \"Except\", \"though\", \"besides\", \"Despite\", \"Unlike\", \"also\", \"only\", \"despite\", \"which\", \"Unfortunately\", \"Whereas\", \"Naturally\", \"especially\", \"nor\", \"always\", \"obviously\", \"Seeing\", \"Surprisingly\", \"simply\", \"undoubtedly\", \"though\", \"apparently\", \"Besides\", \"mostly\", \"either\", \"Even\", \"compared\", \"Yet\", \"Mostly\", \"fact\", \"typically\", \"Apparently\", \"nothing\", \"unfortunately\", \"instead\", \"being\", \"same_kind\", \"somehow\", \"either\", \"seemed\", \"Sadly\", \"normally\", \"seeing\", \"own\", \"hardly\", \"usually\", \"Obviously\", \"generally\", \"one\", \"else\", \"most\", \"Sometimes\", \"Nonetheless\", \"mainly\", \"considering\", \"Usually\", \"Compared\", \"comparison\", \"There\", \"Normally\", \"therefore\", \"Clearly\"]\n",
      "[\"many\", \"few\", \"couple\", \"much\", \"Many\", \"countless\", \"numerous\", \"several\", \"hundred\", \"lot\", \"those\", \"most\", \"all\", \"plenty\", \"a_hundred\", \"often\", \"these\", \"only\", \"at_least_three\", \"at_least_five\", \"Most\", \"much\", \"hundreds\", \"at_least_four\", \"thousand\", \"thousands\", \"at_least_two\", \"far\", \"fair_amount\", \"more\", \"Some\", \"at_least_ten\", \"a_thousand\", \"one\", \"majority\", \"thousand\", \"two\", \"three\", \"Several\", \"only_two\", \"multiple\", \"though\", \"many_people\", \"amount\", \"Often\", \"although\", \"actually\", \"ten\", \"well\", \"before\", \"two\", \"fifty\", \"whole_lot\", \"three\", \"twice\", \"just_a_couple\", \"twenty\", \"about_three\", \"lots\", \"'d\", \"only_a_couple\", \"ones\", \"people\", \"All\", \"dozen\", \"Plenty\", \"Although\", \"five\", \"Though\", \"though\", \"more_than_three\", \"mostly\", \"sometimes\", \"any\", \"tons\", \"million\", \"dozen\", \"only_a_handful\", \"more_than_two\", \"fair_share\", \"Those\", \"billion\"]\n",
      "[\"thousand\", \"gazillion\", \"fourteen\", \"Twenty-one\", \"1,000\", \"more_than_100\", \"Twenty-three\", \"4,000\", \"700\", \"more_than_10\", \"twenty-eight\", \"about_300\", \"five_million\", \"2.5\", \"big_number\", \"1,000,000\", \"thirty-one\", \"20\", \"1-2\", \"twenty_two\", \"30,000\", \"zillion\", \"400\", \"Twenty-two\", \".3\", \"One_hundred\", \"thirty-four\", \"600\", \"500,000\", \"at_least_2\", \"twenty_three\", \"twenty-nine\", \"one_hundred_and_fifty\", \"2k\", \"44\", \"49\", \"8\", \"32\", \"one_million\", \"only_17\", \"3.5\", \"seventy-five\", \"42\"]\n",
      "Apply empath...\n"
     ]
    },
    {
     "data": {
      "application/vnd.jupyter.widget-view+json": {
       "model_id": "e0be2d653ba14d64b2b957b03a17381a",
       "version_major": 2,
       "version_minor": 0
      },
      "text/plain": [
       "  0%|          | 0/1606 [00:00<?, ?it/s]"
      ]
     },
     "metadata": {},
     "output_type": "display_data"
    },
    {
     "name": "stdout",
     "output_type": "stream",
     "text": [
      "Count Wordlist Concreteness: \n",
      "\n",
      "\tCount...\n"
     ]
    },
    {
     "data": {
      "application/vnd.jupyter.widget-view+json": {
       "model_id": "c86ae8fb0ad840d7afee3823ca30f0c6",
       "version_major": 2,
       "version_minor": 0
      },
      "text/plain": [
       "  0%|          | 0/1606 [00:00<?, ?it/s]"
      ]
     },
     "metadata": {},
     "output_type": "display_data"
    },
    {
     "name": "stdout",
     "output_type": "stream",
     "text": [
      "Vectorize...\n"
     ]
    },
    {
     "data": {
      "application/vnd.jupyter.widget-view+json": {
       "model_id": "a7b7fc8658934ff6a3bf0ba2dde32459",
       "version_major": 2,
       "version_minor": 0
      },
      "text/plain": [
       "  0%|          | 0/1606 [00:00<?, ?it/s]"
      ]
     },
     "metadata": {},
     "output_type": "display_data"
    },
    {
     "name": "stdout",
     "output_type": "stream",
     "text": [
      "\tMultiply...\n",
      "Count Wordlist Happiness: \n",
      "\n",
      "\tCount...\n"
     ]
    },
    {
     "data": {
      "application/vnd.jupyter.widget-view+json": {
       "model_id": "46707950d6da474d9cd53a664a540627",
       "version_major": 2,
       "version_minor": 0
      },
      "text/plain": [
       "  0%|          | 0/1606 [00:00<?, ?it/s]"
      ]
     },
     "metadata": {},
     "output_type": "display_data"
    },
    {
     "name": "stdout",
     "output_type": "stream",
     "text": [
      "Vectorize...\n"
     ]
    },
    {
     "data": {
      "application/vnd.jupyter.widget-view+json": {
       "model_id": "1890b74d972d484d8dc36fa0ca62880c",
       "version_major": 2,
       "version_minor": 0
      },
      "text/plain": [
       "  0%|          | 0/1606 [00:00<?, ?it/s]"
      ]
     },
     "metadata": {},
     "output_type": "display_data"
    },
    {
     "name": "stdout",
     "output_type": "stream",
     "text": [
      "\tMultiply...\n",
      "Count Wordlist Good_Curse: \n",
      "\n",
      "\tCount...\n"
     ]
    },
    {
     "data": {
      "application/vnd.jupyter.widget-view+json": {
       "model_id": "c5d3275c575d4980879a3aeae897810e",
       "version_major": 2,
       "version_minor": 0
      },
      "text/plain": [
       "  0%|          | 0/1606 [00:00<?, ?it/s]"
      ]
     },
     "metadata": {},
     "output_type": "display_data"
    },
    {
     "name": "stdout",
     "output_type": "stream",
     "text": [
      "Vectorize...\n"
     ]
    },
    {
     "data": {
      "application/vnd.jupyter.widget-view+json": {
       "model_id": "5ff4b55fb72f4598bad4dec32654c27b",
       "version_major": 2,
       "version_minor": 0
      },
      "text/plain": [
       "  0%|          | 0/1606 [00:00<?, ?it/s]"
      ]
     },
     "metadata": {},
     "output_type": "display_data"
    },
    {
     "name": "stdout",
     "output_type": "stream",
     "text": [
      "\tMultiply...\n",
      "Count 17 further wordlists: \n",
      "\n",
      "\tCount...\n"
     ]
    },
    {
     "data": {
      "application/vnd.jupyter.widget-view+json": {
       "model_id": "d441ff6f470f409981a7ba3ba3f65e12",
       "version_major": 2,
       "version_minor": 0
      },
      "text/plain": [
       "  0%|          | 0/1606 [00:00<?, ?it/s]"
      ]
     },
     "metadata": {},
     "output_type": "display_data"
    },
    {
     "name": "stdout",
     "output_type": "stream",
     "text": [
      "Vectorize...\n"
     ]
    },
    {
     "data": {
      "application/vnd.jupyter.widget-view+json": {
       "model_id": "5100c0cc2f2e46a3ae61953d107fa769",
       "version_major": 2,
       "version_minor": 0
      },
      "text/plain": [
       "  0%|          | 0/1606 [00:00<?, ?it/s]"
      ]
     },
     "metadata": {},
     "output_type": "display_data"
    },
    {
     "name": "stdout",
     "output_type": "stream",
     "text": [
      "\tMultiply...\n",
      "Count Wordlist SER: \n",
      "\n",
      "\tCount...\n"
     ]
    },
    {
     "data": {
      "application/vnd.jupyter.widget-view+json": {
       "model_id": "a815420fdfbc4bebbf8f7007edde9202",
       "version_major": 2,
       "version_minor": 0
      },
      "text/plain": [
       "  0%|          | 0/1606 [00:00<?, ?it/s]"
      ]
     },
     "metadata": {},
     "output_type": "display_data"
    },
    {
     "name": "stdout",
     "output_type": "stream",
     "text": [
      "Vectorize...\n"
     ]
    },
    {
     "data": {
      "application/vnd.jupyter.widget-view+json": {
       "model_id": "4ffa656da7f44243a76c44250983e256",
       "version_major": 2,
       "version_minor": 0
      },
      "text/plain": [
       "  0%|          | 0/1606 [00:00<?, ?it/s]"
      ]
     },
     "metadata": {},
     "output_type": "display_data"
    },
    {
     "name": "stdout",
     "output_type": "stream",
     "text": [
      "\tMultiply...\n",
      "Count Wordlists Valence, Arousal, Dominance: \n",
      "\n",
      "\tCount...\n"
     ]
    },
    {
     "data": {
      "application/vnd.jupyter.widget-view+json": {
       "model_id": "aaa2cb03c875467ea7daf66ce85da51a",
       "version_major": 2,
       "version_minor": 0
      },
      "text/plain": [
       "  0%|          | 0/1606 [00:00<?, ?it/s]"
      ]
     },
     "metadata": {},
     "output_type": "display_data"
    },
    {
     "name": "stdout",
     "output_type": "stream",
     "text": [
      "Vectorize...\n"
     ]
    },
    {
     "data": {
      "application/vnd.jupyter.widget-view+json": {
       "model_id": "f512d55a95024470b312dc4a9f61c20d",
       "version_major": 2,
       "version_minor": 0
      },
      "text/plain": [
       "  0%|          | 0/1606 [00:00<?, ?it/s]"
      ]
     },
     "metadata": {},
     "output_type": "display_data"
    },
    {
     "name": "stdout",
     "output_type": "stream",
     "text": [
      "\tMultiply...\n",
      "Count Wordlist Negation: \n",
      "\n"
     ]
    },
    {
     "data": {
      "application/vnd.jupyter.widget-view+json": {
       "model_id": "4df9013d20b648d68a022f5f05844fe7",
       "version_major": 2,
       "version_minor": 0
      },
      "text/plain": [
       "  0%|          | 0/1606 [00:00<?, ?it/s]"
      ]
     },
     "metadata": {},
     "output_type": "display_data"
    },
    {
     "name": "stdout",
     "output_type": "stream",
     "text": [
      "\tVectorize...\n"
     ]
    },
    {
     "data": {
      "application/vnd.jupyter.widget-view+json": {
       "model_id": "20774e10558d4ea0a23e30250a61aa71",
       "version_major": 2,
       "version_minor": 0
      },
      "text/plain": [
       "  0%|          | 0/1606 [00:00<?, ?it/s]"
      ]
     },
     "metadata": {},
     "output_type": "display_data"
    },
    {
     "name": "stdout",
     "output_type": "stream",
     "text": [
      "Count Wordlist Articles: \n",
      "\n"
     ]
    },
    {
     "data": {
      "application/vnd.jupyter.widget-view+json": {
       "model_id": "92e19a8ee7b8440daaafa92e31d4b844",
       "version_major": 2,
       "version_minor": 0
      },
      "text/plain": [
       "  0%|          | 0/1606 [00:00<?, ?it/s]"
      ]
     },
     "metadata": {},
     "output_type": "display_data"
    },
    {
     "name": "stdout",
     "output_type": "stream",
     "text": [
      "\tVectorize...\n"
     ]
    },
    {
     "data": {
      "application/vnd.jupyter.widget-view+json": {
       "model_id": "9b4a76c7f3ba44d3bd0477183ff52c21",
       "version_major": 2,
       "version_minor": 0
      },
      "text/plain": [
       "  0%|          | 0/1606 [00:00<?, ?it/s]"
      ]
     },
     "metadata": {},
     "output_type": "display_data"
    },
    {
     "name": "stdout",
     "output_type": "stream",
     "text": [
      "Count Wordlist Future: \n",
      "\n"
     ]
    },
    {
     "data": {
      "application/vnd.jupyter.widget-view+json": {
       "model_id": "db740979382c4ec29e65d1785b5ea1d3",
       "version_major": 2,
       "version_minor": 0
      },
      "text/plain": [
       "  0%|          | 0/1606 [00:00<?, ?it/s]"
      ]
     },
     "metadata": {},
     "output_type": "display_data"
    },
    {
     "name": "stdout",
     "output_type": "stream",
     "text": [
      "\tVectorize...\n"
     ]
    },
    {
     "data": {
      "application/vnd.jupyter.widget-view+json": {
       "model_id": "3c37f91a38cb4741add929c0cc50f56c",
       "version_major": 2,
       "version_minor": 0
      },
      "text/plain": [
       "  0%|          | 0/1606 [00:00<?, ?it/s]"
      ]
     },
     "metadata": {},
     "output_type": "display_data"
    },
    {
     "name": "stdout",
     "output_type": "stream",
     "text": [
      "Count Wordlists from MRC (2): \n",
      "\n",
      "\tCount...\n"
     ]
    },
    {
     "data": {
      "application/vnd.jupyter.widget-view+json": {
       "model_id": "a709bf3d2d8b4c49af2f518d07d7c65a",
       "version_major": 2,
       "version_minor": 0
      },
      "text/plain": [
       "  0%|          | 0/1606 [00:00<?, ?it/s]"
      ]
     },
     "metadata": {},
     "output_type": "display_data"
    },
    {
     "name": "stdout",
     "output_type": "stream",
     "text": [
      "Vectorize...\n"
     ]
    },
    {
     "data": {
      "application/vnd.jupyter.widget-view+json": {
       "model_id": "b151506ba6ed4ed69cf6db43824cb379",
       "version_major": 2,
       "version_minor": 0
      },
      "text/plain": [
       "  0%|          | 0/1606 [00:00<?, ?it/s]"
      ]
     },
     "metadata": {},
     "output_type": "display_data"
    },
    {
     "name": "stdout",
     "output_type": "stream",
     "text": [
      "\tMultiply...\n"
     ]
    }
   ],
   "source": [
    "# Wrapper for wordlists\n",
    "\n",
    "def extract_wordlist_features(df):\n",
    "    print(\"Empath...\")\n",
    "    empdf = apply_empath(df)\n",
    "    # create scores for each word list and add them to df\n",
    "    print(\"Count Wordlist Concreteness: \\n\")\n",
    "    psychdf = aggregator(empdf, concrete, cmatrix, \"concreteness\")\n",
    "    print(\"Count Wordlist Happiness: \\n\")\n",
    "    psychdf = aggregator(empdf, happiness, hmatrix, \"happiness\")\n",
    "    print(\"Count Wordlist Good_Curse: \\n\")\n",
    "    psychdf = aggregator(empdf, curse, cumatrix, \"good_curse\")\n",
    "    print(\"Count 17 further wordlists: \\n\")\n",
    "    psychdf = aggregator(empdf, allsens, allmatrix, ['emotion', 'polarity', 'social', 'moral', 'motionself', 'thought', 'color', 'tastesmell', 'tactile', 'visualform', 'auditory', 'space', 'quantity', 'time', 'CNC', 'IMG', 'FAM'])\n",
    "    print(\"Count Wordlist SER: \\n\")\n",
    "    psychdf = aggregator(empdf, ser, sermatrix, \"SER\")\n",
    "    print(\"Count Wordlists Valence, Arousal, Dominance: \\n\")\n",
    "    psychdf = aggregator(empdf, vad, vadmatrix, ['valence', 'arousal', 'dominance'])\n",
    "    print(\"Count Wordlist Negation: \\n\")\n",
    "    psychdf = list_counter(empdf, negations, \"negations\")\n",
    "    print(\"Count Wordlist Articles: \\n\")\n",
    "    psychdf = list_counter(empdf, articles, \"articles\")\n",
    "    print(\"Count Wordlist Future: \\n\")\n",
    "    psychdf = list_counter(empdf, future, \"future\")\n",
    "    print(\"Count Wordlists from MRC (2): \\n\")\n",
    "    psychdf = aggregator(empdf, mrc, cpmatrix, [\"mrc_cmean\", \"mrc_pmean\"])\n",
    "    \n",
    "    return psychdf\n",
    "\n",
    "psychdf = extract_wordlist_features(lin_ngrams_df)\n",
    "psychdf.to_pickle(\"wordlists_lin_feat_df_withoutuserfeat_allcomments.pkl\")"
   ]
  },
  {
   "cell_type": "markdown",
   "metadata": {},
   "source": [
    "## Classifier"
   ]
  },
  {
   "cell_type": "code",
   "execution_count": 31,
   "metadata": {},
   "outputs": [],
   "source": [
    "# functions\n",
    "\n",
    "# histogram of distribution of traits in dataset\n",
    "def all_hist_true(df):\n",
    "    plt.figure(figsize = (16, 8))\n",
    "#     plt.tight_layout(pad=0.4, w_pad=0.5, h_pad=1.0)\n",
    "    plt.subplot(2, 3, 1)\n",
    "    plt.hist(df['agreeableness'], bins = 20)\n",
    "    plt.title('Agreeableness')\n",
    "    \n",
    "    plt.subplot(2, 3, 2)\n",
    "    plt.hist(df['openness'], bins = 20)\n",
    "    plt.title('Openness')\n",
    "    \n",
    "    plt.subplot(2, 3, 3)\n",
    "    plt.hist(df['conscientiousness'], bins = 20)\n",
    "    plt.title('Conscientiousness')\n",
    "    \n",
    "    plt.subplot(2, 3, 4)\n",
    "    plt.hist(df['extraversion'], bins = 20)\n",
    "    plt.title('Extraversion')\n",
    "    \n",
    "    plt.subplot(2, 3, 5)\n",
    "    plt.hist(df['neuroticism'], bins = 20)\n",
    "    plt.title('Neuroticism')\n",
    "    \n",
    "    plt.suptitle(\"Histograms of the true trait values\")\n",
    "    plt.subplots_adjust(left=0.1, \n",
    "                    bottom=0.1,  \n",
    "                    right=0.9,  \n",
    "                    top=0.9,  \n",
    "                    wspace=0.4,  \n",
    "                    hspace=0.4) \n",
    "    plt.show()\n",
    "\n",
    "#split dataset in features and target variable depending on which trait to focus on\n",
    "def trait(df, trait_name, startnumber):\n",
    "    featurelist = df.columns.tolist()\n",
    "    feature_cols = featurelist[startnumber:]\n",
    "    x = df[feature_cols] \n",
    "    \n",
    "    if trait_name == 'agree':\n",
    "        y = df.agree\n",
    "    elif trait_name == 'openn':\n",
    "        y = df.openn\n",
    "    elif trait_name == 'consc':\n",
    "        y = df.consc\n",
    "    elif trait_name == 'extra':\n",
    "        y = df.extra\n",
    "    elif trait_name == 'neuro':\n",
    "        y = df.neuro       \n",
    "    return x,y \n",
    "\n",
    "# create pipeline\n",
    "def create_pipeline(x_train, y_train ,classifier):\n",
    "    if classifier == \"log\":\n",
    "        pipeline = Pipeline([\n",
    "          ('variance_threshold', VarianceThreshold()),\n",
    "          ('feature_selection',  SelectKBest(f_classif, k=30)),\n",
    "          ('scaler', StandardScaler()),\n",
    "          ('classification',LogisticRegression(n_jobs=-1))\n",
    "        ])\n",
    "        \n",
    "    pipeline.fit(x_train, y_train)\n",
    "    return pipeline\n",
    "\n",
    "def get_names(x, pipeline):\n",
    "    features = pipeline.named_steps['feature_selection']\n",
    "    names = x.columns[features.get_support(indices=True)]\n",
    "    return names\n",
    "\n",
    "def get_pvalues(pipeline, x):\n",
    "    features = pipeline.named_steps['feature_selection']\n",
    "    pvalues = features.pvalues_\n",
    "    dfpvalues = pd.DataFrame(features.pvalues_)\n",
    "    dfscores = pd.DataFrame(features.scores_)\n",
    "    dfcolumns = pd.DataFrame(x.columns)\n",
    "    # concat two dataframes for better visualization \n",
    "    featureScores = pd.concat([dfcolumns,dfscores, dfpvalues],axis=1)\n",
    "    featureScores.columns = ['Specs','Score', 'P-Value']\n",
    "    # plot\n",
    "    fig, ax = plt.subplots()\n",
    "    plt.hist(pvalues)\n",
    "    plt.show()\n",
    "    return featureScores\n",
    "\n",
    "def scores(y_test, y_pred, presentationtype):\n",
    "    if presentationtype == \"scores\":\n",
    "        accuracy=metrics.accuracy_score(y_test, y_pred)\n",
    "        precision=metrics.precision_score(y_test, y_pred)\n",
    "        recall=metrics.recall_score(y_test, y_pred)\n",
    "        f_one=metrics.f1_score(y_test, y_pred)\n",
    "        return accuracy, precision, recall, f_one\n",
    "    if presentationtype == \"report\":\n",
    "        report = classification_report(y_test, y_pred)\n",
    "        return report\n",
    "    \n",
    "def score_plot(logreg, y_test, x_test):\n",
    "    lr_probs = logreg.predict_proba(x_test)\n",
    "    # keep probabilities for the positive outcome only\n",
    "    lr_probs = lr_probs[:, 1]\n",
    "    # predict class values\n",
    "    lr_precision, lr_recall, _ = precision_recall_curve(y_test, lr_probs)\n",
    "    # plot the precision-recall curves\n",
    "    no_skill = len(y_test[y_test==1]) / len(y_test)\n",
    "    fig, ax = plt.subplots()\n",
    "    plt.plot([0, 1], [no_skill, no_skill], linestyle='--', label='No Skill')\n",
    "    plt.plot(lr_recall, lr_precision, marker='.', label='Logistic')\n",
    "    # axis labels\n",
    "    plt.xlabel('Recall')\n",
    "    plt.ylabel('Precision')\n",
    "    # show the legend\n",
    "    plt.legend()\n",
    "    plt.show()\n",
    "    return lr_precision, lr_recall\n",
    "\n",
    "def create_cnfmatrix(y_test, y_pred, plotting=True):\n",
    "    cnfpipe_matrix = metrics.confusion_matrix(y_test, y_pred)\n",
    "    tn, fp, fn, tp = metrics.confusion_matrix(y_test, y_pred).ravel()\n",
    "    sumpositive = tp + fn\n",
    "    sumnegative = fp + tn\n",
    "    sumcorrect = tp + tn\n",
    "    sumwrong = fp + fn\n",
    "    sumall = tn+fp+fn+tp\n",
    "    print(\"TN, FP, FN, TP: \", tn, fp, fn, tp, \"\\nSum: \", sumall, \"\\nSum correct predictions: \", \n",
    "          sumcorrect, \"Percent: \", sumcorrect/sumall, \"\\nSum wrong predictions: \", sumwrong, \"\\tPercent: \",\n",
    "          sumwrong/sumall, \"\\nSum actual positives: \", sumpositive, \"\\tPercent: \", sumpositive/sumall,\n",
    "          \"\\nSum actual negatives: \", sumnegative, \"\\tPercent: \", sumnegative/sumall)\n",
    "    \n",
    "    if plotting:\n",
    "        %matplotlib inline\n",
    "        class_names=[0,1] # name  of classes\n",
    "        fig, ax = plt.subplots()\n",
    "        tick_marks = np.arange(len(class_names))\n",
    "        plt.xticks(tick_marks, class_names)\n",
    "        plt.yticks(tick_marks, class_names)\n",
    "        # create heatmap\n",
    "        sns.heatmap(pd.DataFrame(cnfpipe_matrix), annot=True, cmap=\"YlGnBu\" ,fmt='g')\n",
    "        ax.xaxis.set_label_position(\"bottom\")\n",
    "        plt.tight_layout()\n",
    "        plt.title('Confusion matrix', y=1.1)\n",
    "        plt.ylabel('Actual label')\n",
    "        plt.xlabel('Predicted label')\n",
    "        plt.show()\n"
   ]
  },
  {
   "cell_type": "code",
   "execution_count": 32,
   "metadata": {},
   "outputs": [],
   "source": [
    "# wrapper for classifier\n",
    "\n",
    "def classify(df, trait_name, startnumber, plotting=True):\n",
    "    print(\"Trait to predict: \", trait_name)\n",
    "    x,y = trait(df, trait_name, startnumber)\n",
    "    x_train, x_test, y_train, y_test = train_test_split(x, y, test_size=0.25, random_state=0)\n",
    "    print(\"Number of authors in y_train: \", len(y_train))\n",
    "    print(\"Number of authors in y_test: \", len(y_test))\n",
    "    logpipe = create_pipeline(x_train, y_train, 'log')\n",
    "    y_pred=logpipe.predict(x_test)\n",
    "    print(\"Number of authors in y_pred: \", len(y_pred))\n",
    "    names = get_names(x, logpipe)\n",
    "    print(\"Names of the top\", len(names), \"features: \\n\", names, \"\\n\")\n",
    "    pvalues = get_pvalues(logpipe, x)\n",
    "    print(\"\\nP-Values: \")\n",
    "    print(pvalues.nsmallest(30,'P-Value'))\n",
    "    print(\"\\n\")\n",
    "    cnfmatrix = create_cnfmatrix(y_test, y_pred, plotting=True) \n",
    "#     accuracy, precision, recall, f_one = scores(y_test, y_pred, \"scores\")\n",
    "#     print(\"Scores:\\nAccuracy:\",accuracy, \"\\nPrecision:\",precision, \"\\nRecall:\",recall, \"\\nF1 score:\",f_one)\n",
    "    report = scores(y_test, y_pred, \"report\")\n",
    "    print(\"Classification report: \\n\", report)\n",
    "    lr_precision, lr_recall = score_plot(logpipe, y_test, x_test)\n",
    "    print(\"\\n \\n \\n\")"
   ]
  },
  {
   "cell_type": "code",
   "execution_count": 33,
   "metadata": {},
   "outputs": [
    {
     "name": "stderr",
     "output_type": "stream",
     "text": [
      "IOPub data rate exceeded.\n",
      "The notebook server will temporarily stop sending output\n",
      "to the client in order to avoid crashing it.\n",
      "To change this limit, set the config variable\n",
      "`--NotebookApp.iopub_data_rate_limit`.\n",
      "\n",
      "Current values:\n",
      "NotebookApp.iopub_data_rate_limit=1000000.0 (bytes/sec)\n",
      "NotebookApp.rate_limit_window=3.0 (secs)\n",
      "\n"
     ]
    }
   ],
   "source": [
    "psychdf.info(verbose=True)"
   ]
  },
  {
   "cell_type": "code",
   "execution_count": 34,
   "metadata": {},
   "outputs": [
    {
     "name": "stdout",
     "output_type": "stream",
     "text": [
      "Number of authors:  1606\n"
     ]
    },
    {
     "data": {
      "image/png": "[encoded data removed]",
      "text/plain": [
       "<Figure size 1152x576 with 5 Axes>"
      ]
     },
     "metadata": {
      "needs_background": "light"
     },
     "output_type": "display_data"
    },
    {
     "name": "stdout",
     "output_type": "stream",
     "text": [
      "Trait to predict:  agree\n",
      "Number of authors in y_train:  1204\n",
      "Number of authors in y_test:  402\n"
     ]
    },
    {
     "name": "stderr",
     "output_type": "stream",
     "text": [
      "/home/sophia/ma_py/.venv/lib/python3.8/site-packages/sklearn/feature_selection/_variance_threshold.py:78: RuntimeWarning: Degrees of freedom <= 0 for slice.\n",
      "  self.variances_ = np.nanvar(X, axis=0)\n",
      "/home/sophia/ma_py/.venv/lib/python3.8/site-packages/sklearn/feature_selection/_variance_threshold.py:86: RuntimeWarning: All-NaN slice encountered\n",
      "  self.variances_ = np.nanmin(compare_arr, axis=0)\n"
     ]
    },
    {
     "name": "stdout",
     "output_type": "stream",
     "text": [
      "Number of authors in y_pred:  402\n",
      "Names of the top 30 features: \n",
      " Index(['aram', 'xntxpolitics', 'cursedcomments', 'healthanxiety', 'brainmemes',\n",
      "       'legendsoftomorrow', 'hmusfederalists', 'mhoclabourpress', 'jhu',\n",
      "       'donaldglover', 'designerreps', 'berlindnd', 'meup', 'notthebeaverton',\n",
      "       'ironfistnetflix', 'cern', 'celebsbr', 'beer', 'toukiden',\n",
      "       'youtubemusic', 'wgtow', 'printsf', 'dopplebangher', 'boobbounce',\n",
      "       'bedroombands', 'penismeasured', 'delaware4sanders', 'wacom', 'dmb',\n",
      "       'latestagecapitalism'],\n",
      "      dtype='object') \n",
      "\n"
     ]
    },
    {
     "data": {
      "image/png": "[encoded data removed]",
      "text/plain": [
       "<Figure size 432x288 with 1 Axes>"
      ]
     },
     "metadata": {
      "needs_background": "light"
     },
     "output_type": "display_data"
    },
    {
     "name": "stdout",
     "output_type": "stream",
     "text": [
      "\n",
      "P-Values: \n",
      "                     Specs     Score   P-Value\n",
      "13970  latestagecapitalism  9.982550  0.001620\n",
      "12571         bedroombands  7.169407  0.007517\n",
      "7869          donaldglover  6.555185  0.010579\n",
      "12091           boobbounce  6.533546  0.010708\n",
      "12952                wacom  6.046396  0.014075\n",
      "1049                  aram  5.872649  0.015525\n",
      "10931                wgtow  5.838468  0.015828\n",
      "6512       mhoclabourpress  5.763579  0.016513\n",
      "11685        dopplebangher  5.545219  0.018691\n",
      "8302             berlindnd  5.533585  0.018815\n",
      "4111       hmusfederalists  5.489000  0.019299\n",
      "2927            brainmemes  5.448194  0.019753\n",
      "12693        penismeasured  5.441751  0.019825\n",
      "3138     legendsoftomorrow  5.441411  0.019829\n",
      "6534                   jhu  5.352320  0.020863\n",
      "8733                  meup  5.304787  0.021437\n",
      "10498         youtubemusic  5.302221  0.021468\n",
      "9925                  beer  5.283944  0.021694\n",
      "10397             toukiden  5.222080  0.022475\n",
      "9228                  cern  5.216711  0.022545\n",
      "8756       notthebeaverton  5.211196  0.022616\n",
      "9672              celebsbr  5.208939  0.022645\n",
      "8999       ironfistnetflix  5.137381  0.023593\n",
      "2669         healthanxiety  5.130309  0.023689\n",
      "11317              printsf  5.053826  0.024752\n",
      "13703                  dmb  5.051531  0.024785\n",
      "1352          xntxpolitics  4.976894  0.025872\n",
      "12789     delaware4sanders  4.947411  0.026315\n",
      "1719        cursedcomments  4.742255  0.029624\n",
      "8065          designerreps  4.727407  0.029880\n",
      "\n",
      "\n",
      "TN, FP, FN, TP:  195 30 153 24 \n",
      "Sum:  402 \n",
      "Sum correct predictions:  219 Percent:  0.5447761194029851 \n",
      "Sum wrong predictions:  183 \tPercent:  0.4552238805970149 \n",
      "Sum actual positives:  177 \tPercent:  0.44029850746268656 \n",
      "Sum actual negatives:  225 \tPercent:  0.5597014925373134\n"
     ]
    },
    {
     "data": {
      "image/png": "[encoded data removed]",
      "text/plain": [
       "<Figure size 432x288 with 2 Axes>"
      ]
     },
     "metadata": {
      "needs_background": "light"
     },
     "output_type": "display_data"
    },
    {
     "name": "stdout",
     "output_type": "stream",
     "text": [
      "Classification report: \n",
      "               precision    recall  f1-score   support\n",
      "\n",
      "           0       0.56      0.87      0.68       225\n",
      "           1       0.44      0.14      0.21       177\n",
      "\n",
      "    accuracy                           0.54       402\n",
      "   macro avg       0.50      0.50      0.44       402\n",
      "weighted avg       0.51      0.54      0.47       402\n",
      "\n"
     ]
    },
    {
     "data": {
      "image/png": "[encoded data removed]",
      "text/plain": [
       "<Figure size 432x288 with 1 Axes>"
      ]
     },
     "metadata": {
      "needs_background": "light"
     },
     "output_type": "display_data"
    },
    {
     "name": "stdout",
     "output_type": "stream",
     "text": [
      "\n",
      " \n",
      " \n",
      "\n",
      "Trait to predict:  openn\n",
      "Number of authors in y_train:  1204\n",
      "Number of authors in y_test:  402\n"
     ]
    },
    {
     "name": "stderr",
     "output_type": "stream",
     "text": [
      "/home/sophia/ma_py/.venv/lib/python3.8/site-packages/sklearn/feature_selection/_variance_threshold.py:78: RuntimeWarning: Degrees of freedom <= 0 for slice.\n",
      "  self.variances_ = np.nanvar(X, axis=0)\n",
      "/home/sophia/ma_py/.venv/lib/python3.8/site-packages/sklearn/feature_selection/_variance_threshold.py:86: RuntimeWarning: All-NaN slice encountered\n",
      "  self.variances_ = np.nanmin(compare_arr, axis=0)\n"
     ]
    },
    {
     "name": "stdout",
     "output_type": "stream",
     "text": [
      "Number of authors in y_pred:  402\n",
      "Names of the top 30 features: \n",
      " Index(['taylorswiftbum', 'colonizemars', 'takeonestepforward',\n",
      "       'incelsgonewild', 'xsomalian', 'choose_your_own', 'calmdown',\n",
      "       'pharahmains', 'polyglot', 'scratch', 'techno', 'manyatruenerd',\n",
      "       'youshouldknow', 'pussymound', 'pipetobacco', 'perfect_response', 'npc',\n",
      "       'winnipeg', 'nightwish', 'minecraftcirclejerk', 'lcdsoundsystem', 'msu',\n",
      "       'upvoteexeggutor', 'wrangler', 'progressivegrowth', 'oldbritishtelly',\n",
      "       'shinee', 'northeastlowercourt', 'williamshatner', 'tolkienbooks'],\n",
      "      dtype='object') \n",
      "\n"
     ]
    },
    {
     "data": {
      "image/png": "[encoded data removed]",
      "text/plain": [
       "<Figure size 432x288 with 1 Axes>"
      ]
     },
     "metadata": {
      "needs_background": "light"
     },
     "output_type": "display_data"
    },
    {
     "name": "stdout",
     "output_type": "stream",
     "text": [
      "\n",
      "P-Values: \n",
      "                     Specs     Score   P-Value\n",
      "4935                techno  9.659142  0.001928\n",
      "8319      perfect_response  9.639169  0.001949\n",
      "12537  northeastlowercourt  9.427850  0.002185\n",
      "3022              calmdown  9.158709  0.002528\n",
      "9337             nightwish  8.575046  0.003472\n",
      "10687             wrangler  7.871853  0.005102\n",
      "11938      oldbritishtelly  7.801908  0.005302\n",
      "4992         manyatruenerd  7.646012  0.005777\n",
      "10642      upvoteexeggutor  7.629649  0.005829\n",
      "11857    progressivegrowth  7.522377  0.006184\n",
      "2892       choose_your_own  7.481371  0.006326\n",
      "393         taylorswiftbum  7.293282  0.007019\n",
      "9987   minecraftcirclejerk  7.223776  0.007294\n",
      "10152       lcdsoundsystem  7.223776  0.007294\n",
      "12256               shinee  7.223776  0.007294\n",
      "7691           pipetobacco  7.108693  0.007774\n",
      "1877             xsomalian  6.936285  0.008555\n",
      "5861            pussymound  6.803706  0.009210\n",
      "5195         youshouldknow  6.757012  0.009452\n",
      "4863               scratch  6.747558  0.009502\n",
      "1741        incelsgonewild  6.702574  0.009744\n",
      "10425                  msu  6.684461  0.009843\n",
      "3135           pharahmains  6.625437  0.010172\n",
      "3749              polyglot  6.562036  0.010539\n",
      "9043              winnipeg  6.492229  0.010958\n",
      "13933         tolkienbooks  6.469394  0.011099\n",
      "1259          colonizemars  6.463256  0.011137\n",
      "957                    bbq  6.415059  0.011442\n",
      "1442    takeonestepforward  6.415059  0.011442\n",
      "8482                   npc  6.415059  0.011442\n",
      "\n",
      "\n",
      "TN, FP, FN, TP:  10 95 14 283 \n",
      "Sum:  402 \n",
      "Sum correct predictions:  293 Percent:  0.7288557213930348 \n",
      "Sum wrong predictions:  109 \tPercent:  0.27114427860696516 \n",
      "Sum actual positives:  297 \tPercent:  0.7388059701492538 \n",
      "Sum actual negatives:  105 \tPercent:  0.26119402985074625\n"
     ]
    },
    {
     "data": {
      "image/png": "[encoded data removed]",
      "text/plain": [
       "<Figure size 432x288 with 2 Axes>"
      ]
     },
     "metadata": {
      "needs_background": "light"
     },
     "output_type": "display_data"
    },
    {
     "name": "stdout",
     "output_type": "stream",
     "text": [
      "Classification report: \n",
      "               precision    recall  f1-score   support\n",
      "\n",
      "           0       0.42      0.10      0.16       105\n",
      "           1       0.75      0.95      0.84       297\n",
      "\n",
      "    accuracy                           0.73       402\n",
      "   macro avg       0.58      0.52      0.50       402\n",
      "weighted avg       0.66      0.73      0.66       402\n",
      "\n"
     ]
    },
    {
     "data": {
      "image/png": "[encoded data removed]",
      "text/plain": [
       "<Figure size 432x288 with 1 Axes>"
      ]
     },
     "metadata": {
      "needs_background": "light"
     },
     "output_type": "display_data"
    },
    {
     "name": "stdout",
     "output_type": "stream",
     "text": [
      "\n",
      " \n",
      " \n",
      "\n",
      "Trait to predict:  consc\n",
      "Number of authors in y_train:  1204\n",
      "Number of authors in y_test:  402\n"
     ]
    },
    {
     "name": "stderr",
     "output_type": "stream",
     "text": [
      "/home/sophia/ma_py/.venv/lib/python3.8/site-packages/sklearn/feature_selection/_variance_threshold.py:78: RuntimeWarning: Degrees of freedom <= 0 for slice.\n",
      "  self.variances_ = np.nanvar(X, axis=0)\n",
      "/home/sophia/ma_py/.venv/lib/python3.8/site-packages/sklearn/feature_selection/_variance_threshold.py:86: RuntimeWarning: All-NaN slice encountered\n",
      "  self.variances_ = np.nanmin(compare_arr, axis=0)\n"
     ]
    },
    {
     "name": "stdout",
     "output_type": "stream",
     "text": [
      "Number of authors in y_pred:  402\n",
      "Names of the top 30 features: \n",
      " Index(['friday', 'march', 'june', 'november', '2017', 'cyberdom',\n",
      "       'tuckedinkitties', 'anno', 'astro_kpop', 'tfc', 'bimbofetish', 'ecchi',\n",
      "       'roadporn', 'roastmeta', 'kansascity', 'warframerunway', 'nova',\n",
      "       'allthingsmlg', 'floridaman', 'oliverfrancis', 'motog', 'funaskreddit',\n",
      "       'notthebeaverton', 'intp_void', 'chords', 'thaumcraft',\n",
      "       'technoproduction', 'penismeasured', 'goldlittlefinger', 'burningman'],\n",
      "      dtype='object') \n",
      "\n"
     ]
    },
    {
     "data": {
      "image/png": "[encoded data removed]",
      "text/plain": [
       "<Figure size 432x288 with 1 Axes>"
      ]
     },
     "metadata": {
      "needs_background": "light"
     },
     "output_type": "display_data"
    },
    {
     "name": "stdout",
     "output_type": "stream",
     "text": [
      "\n",
      "P-Values: \n",
      "                  Specs     Score   P-Value\n",
      "8275              motog  9.064489  0.002661\n",
      "2610              ecchi  7.241114  0.007224\n",
      "2235                tfc  7.053449  0.008016\n",
      "1537               anno  6.898780  0.008735\n",
      "12693     penismeasured  6.623317  0.010184\n",
      "13968        burningman  6.577558  0.010448\n",
      "14                 june  6.520094  0.010789\n",
      "4262     warframerunway  6.192990  0.012960\n",
      "2828           roadporn  6.064801  0.013930\n",
      "3066          roastmeta  6.054158  0.014013\n",
      "7765      oliverfrancis  6.041811  0.014111\n",
      "6386       allthingsmlg  5.869956  0.015548\n",
      "11936  technoproduction  5.635903  0.017753\n",
      "1614         astro_kpop  5.510122  0.019068\n",
      "10161         intp_void  5.374429  0.020601\n",
      "11439        thaumcraft  5.350136  0.020889\n",
      "6                friday  5.342406  0.020981\n",
      "8756    notthebeaverton  5.247861  0.022146\n",
      "8345       funaskreddit  5.195648  0.022818\n",
      "5470               nova  5.176906  0.023064\n",
      "2285        bimbofetish  5.079786  0.024386\n",
      "6600         floridaman  5.049092  0.024820\n",
      "11                march  5.013221  0.025337\n",
      "23                 2017  4.941142  0.026410\n",
      "19             november  4.936117  0.026487\n",
      "475            cyberdom  4.910511  0.026880\n",
      "11046            chords  4.910511  0.026880\n",
      "13069  goldlittlefinger  4.910511  0.026880\n",
      "912     tuckedinkitties  4.861734  0.027648\n",
      "3224         kansascity  4.787543  0.028858\n",
      "\n",
      "\n",
      "TN, FP, FN, TP:  229 22 131 20 \n",
      "Sum:  402 \n",
      "Sum correct predictions:  249 Percent:  0.6194029850746269 \n",
      "Sum wrong predictions:  153 \tPercent:  0.3805970149253731 \n",
      "Sum actual positives:  151 \tPercent:  0.3756218905472637 \n",
      "Sum actual negatives:  251 \tPercent:  0.6243781094527363\n"
     ]
    },
    {
     "data": {
      "image/png": "[encoded data removed]",
      "text/plain": [
       "<Figure size 432x288 with 2 Axes>"
      ]
     },
     "metadata": {
      "needs_background": "light"
     },
     "output_type": "display_data"
    },
    {
     "name": "stdout",
     "output_type": "stream",
     "text": [
      "Classification report: \n",
      "               precision    recall  f1-score   support\n",
      "\n",
      "           0       0.64      0.91      0.75       251\n",
      "           1       0.48      0.13      0.21       151\n",
      "\n",
      "    accuracy                           0.62       402\n",
      "   macro avg       0.56      0.52      0.48       402\n",
      "weighted avg       0.58      0.62      0.55       402\n",
      "\n"
     ]
    },
    {
     "data": {
      "image/png": "[encoded data removed]",
      "text/plain": [
       "<Figure size 432x288 with 1 Axes>"
      ]
     },
     "metadata": {
      "needs_background": "light"
     },
     "output_type": "display_data"
    },
    {
     "name": "stdout",
     "output_type": "stream",
     "text": [
      "\n",
      " \n",
      " \n",
      "\n",
      "Trait to predict:  extra\n",
      "Number of authors in y_train:  1204\n",
      "Number of authors in y_test:  402\n"
     ]
    },
    {
     "name": "stderr",
     "output_type": "stream",
     "text": [
      "/home/sophia/ma_py/.venv/lib/python3.8/site-packages/sklearn/feature_selection/_variance_threshold.py:78: RuntimeWarning: Degrees of freedom <= 0 for slice.\n",
      "  self.variances_ = np.nanvar(X, axis=0)\n",
      "/home/sophia/ma_py/.venv/lib/python3.8/site-packages/sklearn/feature_selection/_variance_threshold.py:86: RuntimeWarning: All-NaN slice encountered\n",
      "  self.variances_ = np.nanmin(compare_arr, axis=0)\n"
     ]
    },
    {
     "name": "stdout",
     "output_type": "stream",
     "text": [
      "Number of authors in y_pred:  402\n",
      "Names of the top 30 features: \n",
      " Index(['aram', 'astro_kpop', 'politicsnow', 'goldenkamuy', 'theexaminedlife',\n",
      "       '300yearsago', 'newgirl', 'stretched', 'learncsharp', 'studioone',\n",
      "       'pokememes', 'birthday', 'bigtiddygothgf', 'mepl', 'christianr4r',\n",
      "       'ridiebridie', 'ableton', 'oopsdidntmeanto', 'motog', 'psych_religion',\n",
      "       'ubc', 'draintheswamp', 'fcdallas', 'germanstorytime',\n",
      "       'thedivision_lfg', 'vikings_tvseries', 'asoue', 'boobbounce', 'twice',\n",
      "       'oilpen'],\n",
      "      dtype='object') \n",
      "\n"
     ]
    },
    {
     "data": {
      "image/png": "[encoded data removed]",
      "text/plain": [
       "<Figure size 432x288 with 1 Axes>"
      ]
     },
     "metadata": {
      "needs_background": "light"
     },
     "output_type": "display_data"
    },
    {
     "name": "stdout",
     "output_type": "stream",
     "text": [
      "\n",
      "P-Values: \n",
      "                  Specs      Score   P-Value\n",
      "9750    thedivision_lfg  17.873165  0.000025\n",
      "4419               mepl  10.825511  0.001030\n",
      "8166    oopsdidntmeanto  10.604242  0.001160\n",
      "12091        boobbounce   8.724362  0.003201\n",
      "8275              motog   8.673804  0.003290\n",
      "8617     psych_religion   8.141577  0.004400\n",
      "2688            newgirl   7.879252  0.005081\n",
      "3229          pokememes   7.389130  0.006656\n",
      "1614         astro_kpop   7.146599  0.007612\n",
      "7414            ableton   6.981127  0.008344\n",
      "4451       christianr4r   6.944239  0.008517\n",
      "1049               aram   6.917551  0.008644\n",
      "2475    theexaminedlife   6.808326  0.009186\n",
      "2945        learncsharp   6.590729  0.010371\n",
      "11272             asoue   6.342668  0.011916\n",
      "9847   vikings_tvseries   6.281404  0.012332\n",
      "2161        goldenkamuy   6.227581  0.012711\n",
      "13129            oilpen   5.916581  0.015144\n",
      "5797        ridiebridie   5.916293  0.015147\n",
      "9697    germanstorytime   5.644183  0.017669\n",
      "9356      draintheswamp   5.627994  0.017833\n",
      "3215          studioone   5.624237  0.017871\n",
      "4356     bigtiddygothgf   5.600006  0.018118\n",
      "2050        politicsnow   5.569199  0.018438\n",
      "9599           fcdallas   5.550551  0.018635\n",
      "2811          stretched   5.528715  0.018868\n",
      "8802                ubc   5.515986  0.019005\n",
      "2605        300yearsago   5.490926  0.019278\n",
      "3546           birthday   5.360024  0.020771\n",
      "12591             twice   5.340470  0.021004\n",
      "\n",
      "\n",
      "TN, FP, FN, TP:  238 20 118 26 \n",
      "Sum:  402 \n",
      "Sum correct predictions:  264 Percent:  0.6567164179104478 \n",
      "Sum wrong predictions:  138 \tPercent:  0.34328358208955223 \n",
      "Sum actual positives:  144 \tPercent:  0.3582089552238806 \n",
      "Sum actual negatives:  258 \tPercent:  0.6417910447761194\n"
     ]
    },
    {
     "data": {
      "image/png": "[encoded data removed]",
      "text/plain": [
       "<Figure size 432x288 with 2 Axes>"
      ]
     },
     "metadata": {
      "needs_background": "light"
     },
     "output_type": "display_data"
    },
    {
     "name": "stdout",
     "output_type": "stream",
     "text": [
      "Classification report: \n",
      "               precision    recall  f1-score   support\n",
      "\n",
      "           0       0.67      0.92      0.78       258\n",
      "           1       0.57      0.18      0.27       144\n",
      "\n",
      "    accuracy                           0.66       402\n",
      "   macro avg       0.62      0.55      0.52       402\n",
      "weighted avg       0.63      0.66      0.60       402\n",
      "\n"
     ]
    },
    {
     "data": {
      "image/png": "[encoded data removed]",
      "text/plain": [
       "<Figure size 432x288 with 1 Axes>"
      ]
     },
     "metadata": {
      "needs_background": "light"
     },
     "output_type": "display_data"
    },
    {
     "name": "stdout",
     "output_type": "stream",
     "text": [
      "\n",
      " \n",
      " \n",
      "\n",
      "Trait to predict:  neuro\n",
      "Number of authors in y_train:  1204\n",
      "Number of authors in y_test:  402\n"
     ]
    },
    {
     "name": "stderr",
     "output_type": "stream",
     "text": [
      "/home/sophia/ma_py/.venv/lib/python3.8/site-packages/sklearn/feature_selection/_variance_threshold.py:78: RuntimeWarning: Degrees of freedom <= 0 for slice.\n",
      "  self.variances_ = np.nanvar(X, axis=0)\n",
      "/home/sophia/ma_py/.venv/lib/python3.8/site-packages/sklearn/feature_selection/_variance_threshold.py:86: RuntimeWarning: All-NaN slice encountered\n",
      "  self.variances_ = np.nanmin(compare_arr, axis=0)\n"
     ]
    },
    {
     "name": "stdout",
     "output_type": "stream",
     "text": [
      "Number of authors in y_pred:  402\n",
      "Names of the top 30 features: \n",
      " Index(['hammer', 'onetruetohsaka', 'rightwinguk', 'smallpenisproblems', '5htp',\n",
      "       'actuary', 'g59', 'dae', 'intpmusic', 'm43', 'thegoodplace', 'gog',\n",
      "       'amumumains', 'mammothmountain', 'dsp', 'riseupp', 'bacon',\n",
      "       'thegreatwarchannel', 'iconsgg', 'writingcirclejerk',\n",
      "       'asianparentstories', 'pokemongonova', 'ehm', 'skyrimjourney',\n",
      "       'starwarsrebels', 'mctv', 'amifat', 'puremathematics', '52in52',\n",
      "       'vexillology'],\n",
      "      dtype='object') \n",
      "\n"
     ]
    },
    {
     "data": {
      "image/png": "[encoded data removed]",
      "text/plain": [
       "<Figure size 432x288 with 1 Axes>"
      ]
     },
     "metadata": {
      "needs_background": "light"
     },
     "output_type": "display_data"
    },
    {
     "name": "stdout",
     "output_type": "stream",
     "text": [
      "\n",
      "P-Values: \n",
      "                    Specs     Score   P-Value\n",
      "1902   smallpenisproblems  7.782986  0.005357\n",
      "7584                  gog  6.298435  0.012215\n",
      "13969         vexillology  6.126410  0.013455\n",
      "3126              actuary  6.100193  0.013655\n",
      "13966              52in52  5.835265  0.015856\n",
      "414           rightwinguk  5.825633  0.015943\n",
      "4163                  dae  5.596743  0.018152\n",
      "11653       pokemongonova  5.592188  0.018199\n",
      "10178  thegreatwarchannel  5.538586  0.018762\n",
      "13289                mctv  5.342305  0.020982\n",
      "10767  asianparentstories  5.312014  0.021349\n",
      "7609           amumumains  5.260754  0.021983\n",
      "8989              riseupp  5.243902  0.022196\n",
      "10473             iconsgg  5.173415  0.023111\n",
      "9175                bacon  5.087755  0.024275\n",
      "12241       skyrimjourney  4.984573  0.025758\n",
      "11948                 ehm  4.869220  0.027528\n",
      "8982                  dsp  4.854575  0.027762\n",
      "6907         thegoodplace  4.825754  0.028228\n",
      "13889     puremathematics  4.754735  0.029411\n",
      "13504              amifat  4.727510  0.029878\n",
      "12957      starwarsrebels  4.637445  0.031480\n",
      "266                hammer  4.623425  0.031737\n",
      "4719                  m43  4.549010  0.033140\n",
      "8246      mammothmountain  4.543263  0.033251\n",
      "10554   writingcirclejerk  4.516758  0.033768\n",
      "4457            intpmusic  4.488419  0.034330\n",
      "320        onetruetohsaka  4.299663  0.038333\n",
      "2357                 5htp  4.257509  0.039292\n",
      "3310                  g59  4.251135  0.039439\n",
      "\n",
      "\n",
      "TN, FP, FN, TP:  122 79 112 89 \n",
      "Sum:  402 \n",
      "Sum correct predictions:  211 Percent:  0.5248756218905473 \n",
      "Sum wrong predictions:  191 \tPercent:  0.47512437810945274 \n",
      "Sum actual positives:  201 \tPercent:  0.5 \n",
      "Sum actual negatives:  201 \tPercent:  0.5\n"
     ]
    },
    {
     "data": {
      "image/png": "[encoded data removed]",
      "text/plain": [
       "<Figure size 432x288 with 2 Axes>"
      ]
     },
     "metadata": {
      "needs_background": "light"
     },
     "output_type": "display_data"
    },
    {
     "name": "stdout",
     "output_type": "stream",
     "text": [
      "Classification report: \n",
      "               precision    recall  f1-score   support\n",
      "\n",
      "           0       0.52      0.61      0.56       201\n",
      "           1       0.53      0.44      0.48       201\n",
      "\n",
      "    accuracy                           0.52       402\n",
      "   macro avg       0.53      0.52      0.52       402\n",
      "weighted avg       0.53      0.52      0.52       402\n",
      "\n"
     ]
    },
    {
     "data": {
      "image/png": "[encoded data removed]",
      "text/plain": [
       "<Figure size 432x288 with 1 Axes>"
      ]
     },
     "metadata": {
      "needs_background": "light"
     },
     "output_type": "display_data"
    },
    {
     "name": "stdout",
     "output_type": "stream",
     "text": [
      "\n",
      " \n",
      " \n",
      "\n"
     ]
    }
   ],
   "source": [
    "start = 18\n",
    "print (\"Number of authors: \", len(psychdf))\n",
    "\n",
    "# personality prediction on test set\n",
    "all_hist_true(psychdf)\n",
    "classify(psychdf, \"agree\", start, plotting=True)\n",
    "classify(psychdf, \"openn\", start, plotting=True)\n",
    "classify(psychdf, \"consc\", start, plotting=True)\n",
    "classify(psychdf, \"extra\", start, plotting=True)\n",
    "classify(psychdf, \"neuro\", start, plotting=True)"
   ]
  },
  {
   "cell_type": "code",
   "execution_count": 35,
   "metadata": {},
   "outputs": [],
   "source": [
    "# Results for the train set\n",
    "\n",
    "def classify_trainset(df, trait_name, startnumber, plotting=True):\n",
    "    print(\"Trait to predict: \", trait_name)\n",
    "    x,y = trait(df, trait_name, startnumber)\n",
    "    x_train, x_test, y_train, y_test = train_test_split(x, y, test_size=0.25, random_state=0)\n",
    "    logpipe = create_pipeline(x_train, y_train, 'log')\n",
    "    y_pred=logpipe.predict(x_train)\n",
    "    print(\"Number of authors in y_pred: \", len(y_pred))\n",
    "    names = get_names(x, logpipe)\n",
    "    print(\"Names of the top\", len(names), \"features: \\n\", names, \"\\n\")\n",
    "    pvalues = get_pvalues(logpipe, x)\n",
    "#     print(\"p-values of\", len(pvalues), \"features: \\n\", pvalues, \"\\n\")\n",
    "    print(\"\\nP-Values: \")\n",
    "    print(pvalues.nsmallest(30,'P-Value'))\n",
    "    print(\"\\n\")\n",
    "    cnfmatrix = create_cnfmatrix(y_train, y_pred, plotting=True) \n",
    "#     accuracy, precision, recall, f_one = scores(y_test, y_pred, \"scores\")\n",
    "#     print(\"Scores:\\nAccuracy:\",accuracy, \"\\nPrecision:\",precision, \"\\nRecall:\",recall, \"\\nF1 score:\",f_one)\n",
    "    report = scores(y_train, y_pred, \"report\")\n",
    "    print(\"Classification report: \\n\", report)\n",
    "    lr_precision, lr_recall = score_plot(logpipe, y_train, x_train)\n",
    "#     print(\"Scores:\\nLR_Precision:\",lr_precision, \"\\nLR_Recall:\",lr_recall)\n",
    "    plt.show()\n",
    "    print(\"\\n \\n\")"
   ]
  },
  {
   "cell_type": "code",
   "execution_count": 36,
   "metadata": {},
   "outputs": [
    {
     "name": "stdout",
     "output_type": "stream",
     "text": [
      "Trait to predict:  agree\n"
     ]
    },
    {
     "name": "stderr",
     "output_type": "stream",
     "text": [
      "/home/sophia/ma_py/.venv/lib/python3.8/site-packages/sklearn/feature_selection/_variance_threshold.py:78: RuntimeWarning: Degrees of freedom <= 0 for slice.\n",
      "  self.variances_ = np.nanvar(X, axis=0)\n",
      "/home/sophia/ma_py/.venv/lib/python3.8/site-packages/sklearn/feature_selection/_variance_threshold.py:86: RuntimeWarning: All-NaN slice encountered\n",
      "  self.variances_ = np.nanmin(compare_arr, axis=0)\n"
     ]
    },
    {
     "name": "stdout",
     "output_type": "stream",
     "text": [
      "Number of authors in y_pred:  1204\n",
      "Names of the top 30 features: \n",
      " Index(['aram', 'xntxpolitics', 'cursedcomments', 'healthanxiety', 'brainmemes',\n",
      "       'legendsoftomorrow', 'hmusfederalists', 'mhoclabourpress', 'jhu',\n",
      "       'donaldglover', 'designerreps', 'berlindnd', 'meup', 'notthebeaverton',\n",
      "       'ironfistnetflix', 'cern', 'celebsbr', 'beer', 'toukiden',\n",
      "       'youtubemusic', 'wgtow', 'printsf', 'dopplebangher', 'boobbounce',\n",
      "       'bedroombands', 'penismeasured', 'delaware4sanders', 'wacom', 'dmb',\n",
      "       'latestagecapitalism'],\n",
      "      dtype='object') \n",
      "\n"
     ]
    },
    {
     "data": {
      "image/png": "[encoded data removed]",
      "text/plain": [
       "<Figure size 432x288 with 1 Axes>"
      ]
     },
     "metadata": {
      "needs_background": "light"
     },
     "output_type": "display_data"
    },
    {
     "name": "stdout",
     "output_type": "stream",
     "text": [
      "\n",
      "P-Values: \n",
      "                     Specs     Score   P-Value\n",
      "13970  latestagecapitalism  9.982550  0.001620\n",
      "12571         bedroombands  7.169407  0.007517\n",
      "7869          donaldglover  6.555185  0.010579\n",
      "12091           boobbounce  6.533546  0.010708\n",
      "12952                wacom  6.046396  0.014075\n",
      "1049                  aram  5.872649  0.015525\n",
      "10931                wgtow  5.838468  0.015828\n",
      "6512       mhoclabourpress  5.763579  0.016513\n",
      "11685        dopplebangher  5.545219  0.018691\n",
      "8302             berlindnd  5.533585  0.018815\n",
      "4111       hmusfederalists  5.489000  0.019299\n",
      "2927            brainmemes  5.448194  0.019753\n",
      "12693        penismeasured  5.441751  0.019825\n",
      "3138     legendsoftomorrow  5.441411  0.019829\n",
      "6534                   jhu  5.352320  0.020863\n",
      "8733                  meup  5.304787  0.021437\n",
      "10498         youtubemusic  5.302221  0.021468\n",
      "9925                  beer  5.283944  0.021694\n",
      "10397             toukiden  5.222080  0.022475\n",
      "9228                  cern  5.216711  0.022545\n",
      "8756       notthebeaverton  5.211196  0.022616\n",
      "9672              celebsbr  5.208939  0.022645\n",
      "8999       ironfistnetflix  5.137381  0.023593\n",
      "2669         healthanxiety  5.130309  0.023689\n",
      "11317              printsf  5.053826  0.024752\n",
      "13703                  dmb  5.051531  0.024785\n",
      "1352          xntxpolitics  4.976894  0.025872\n",
      "12789     delaware4sanders  4.947411  0.026315\n",
      "1719        cursedcomments  4.742255  0.029624\n",
      "8065          designerreps  4.727407  0.029880\n",
      "\n",
      "\n",
      "TN, FP, FN, TP:  637 43 376 148 \n",
      "Sum:  1204 \n",
      "Sum correct predictions:  785 Percent:  0.6519933554817275 \n",
      "Sum wrong predictions:  419 \tPercent:  0.3480066445182724 \n",
      "Sum actual positives:  524 \tPercent:  0.43521594684385384 \n",
      "Sum actual negatives:  680 \tPercent:  0.5647840531561462\n"
     ]
    },
    {
     "data": {
      "image/png": "[encoded data removed]",
      "text/plain": [
       "<Figure size 432x288 with 2 Axes>"
      ]
     },
     "metadata": {
      "needs_background": "light"
     },
     "output_type": "display_data"
    },
    {
     "name": "stdout",
     "output_type": "stream",
     "text": [
      "Classification report: \n",
      "               precision    recall  f1-score   support\n",
      "\n",
      "           0       0.63      0.94      0.75       680\n",
      "           1       0.77      0.28      0.41       524\n",
      "\n",
      "    accuracy                           0.65      1204\n",
      "   macro avg       0.70      0.61      0.58      1204\n",
      "weighted avg       0.69      0.65      0.61      1204\n",
      "\n"
     ]
    },
    {
     "data": {
      "image/png": "[encoded data removed]",
      "text/plain": [
       "<Figure size 432x288 with 1 Axes>"
      ]
     },
     "metadata": {
      "needs_background": "light"
     },
     "output_type": "display_data"
    },
    {
     "name": "stdout",
     "output_type": "stream",
     "text": [
      "\n",
      " \n",
      "\n",
      "Trait to predict:  openn\n"
     ]
    },
    {
     "name": "stderr",
     "output_type": "stream",
     "text": [
      "/home/sophia/ma_py/.venv/lib/python3.8/site-packages/sklearn/feature_selection/_variance_threshold.py:78: RuntimeWarning: Degrees of freedom <= 0 for slice.\n",
      "  self.variances_ = np.nanvar(X, axis=0)\n",
      "/home/sophia/ma_py/.venv/lib/python3.8/site-packages/sklearn/feature_selection/_variance_threshold.py:86: RuntimeWarning: All-NaN slice encountered\n",
      "  self.variances_ = np.nanmin(compare_arr, axis=0)\n"
     ]
    },
    {
     "name": "stdout",
     "output_type": "stream",
     "text": [
      "Number of authors in y_pred:  1204\n",
      "Names of the top 30 features: \n",
      " Index(['taylorswiftbum', 'colonizemars', 'takeonestepforward',\n",
      "       'incelsgonewild', 'xsomalian', 'choose_your_own', 'calmdown',\n",
      "       'pharahmains', 'polyglot', 'scratch', 'techno', 'manyatruenerd',\n",
      "       'youshouldknow', 'pussymound', 'pipetobacco', 'perfect_response', 'npc',\n",
      "       'winnipeg', 'nightwish', 'minecraftcirclejerk', 'lcdsoundsystem', 'msu',\n",
      "       'upvoteexeggutor', 'wrangler', 'progressivegrowth', 'oldbritishtelly',\n",
      "       'shinee', 'northeastlowercourt', 'williamshatner', 'tolkienbooks'],\n",
      "      dtype='object') \n",
      "\n"
     ]
    },
    {
     "data": {
      "image/png": "[encoded data removed]",
      "text/plain": [
       "<Figure size 432x288 with 1 Axes>"
      ]
     },
     "metadata": {
      "needs_background": "light"
     },
     "output_type": "display_data"
    },
    {
     "name": "stdout",
     "output_type": "stream",
     "text": [
      "\n",
      "P-Values: \n",
      "                     Specs     Score   P-Value\n",
      "4935                techno  9.659142  0.001928\n",
      "8319      perfect_response  9.639169  0.001949\n",
      "12537  northeastlowercourt  9.427850  0.002185\n",
      "3022              calmdown  9.158709  0.002528\n",
      "9337             nightwish  8.575046  0.003472\n",
      "10687             wrangler  7.871853  0.005102\n",
      "11938      oldbritishtelly  7.801908  0.005302\n",
      "4992         manyatruenerd  7.646012  0.005777\n",
      "10642      upvoteexeggutor  7.629649  0.005829\n",
      "11857    progressivegrowth  7.522377  0.006184\n",
      "2892       choose_your_own  7.481371  0.006326\n",
      "393         taylorswiftbum  7.293282  0.007019\n",
      "9987   minecraftcirclejerk  7.223776  0.007294\n",
      "10152       lcdsoundsystem  7.223776  0.007294\n",
      "12256               shinee  7.223776  0.007294\n",
      "7691           pipetobacco  7.108693  0.007774\n",
      "1877             xsomalian  6.936285  0.008555\n",
      "5861            pussymound  6.803706  0.009210\n",
      "5195         youshouldknow  6.757012  0.009452\n",
      "4863               scratch  6.747558  0.009502\n",
      "1741        incelsgonewild  6.702574  0.009744\n",
      "10425                  msu  6.684461  0.009843\n",
      "3135           pharahmains  6.625437  0.010172\n",
      "3749              polyglot  6.562036  0.010539\n",
      "9043              winnipeg  6.492229  0.010958\n",
      "13933         tolkienbooks  6.469394  0.011099\n",
      "1259          colonizemars  6.463256  0.011137\n",
      "957                    bbq  6.415059  0.011442\n",
      "1442    takeonestepforward  6.415059  0.011442\n",
      "8482                   npc  6.415059  0.011442\n",
      "\n",
      "\n",
      "TN, FP, FN, TP:  75 280 10 839 \n",
      "Sum:  1204 \n",
      "Sum correct predictions:  914 Percent:  0.7591362126245847 \n",
      "Sum wrong predictions:  290 \tPercent:  0.24086378737541528 \n",
      "Sum actual positives:  849 \tPercent:  0.7051495016611296 \n",
      "Sum actual negatives:  355 \tPercent:  0.29485049833887045\n"
     ]
    },
    {
     "data": {
      "image/png": "[encoded data removed]",
      "text/plain": [
       "<Figure size 432x288 with 2 Axes>"
      ]
     },
     "metadata": {
      "needs_background": "light"
     },
     "output_type": "display_data"
    },
    {
     "name": "stdout",
     "output_type": "stream",
     "text": [
      "Classification report: \n",
      "               precision    recall  f1-score   support\n",
      "\n",
      "           0       0.88      0.21      0.34       355\n",
      "           1       0.75      0.99      0.85       849\n",
      "\n",
      "    accuracy                           0.76      1204\n",
      "   macro avg       0.82      0.60      0.60      1204\n",
      "weighted avg       0.79      0.76      0.70      1204\n",
      "\n"
     ]
    },
    {
     "data": {
      "image/png": "[encoded data removed]",
      "text/plain": [
       "<Figure size 432x288 with 1 Axes>"
      ]
     },
     "metadata": {
      "needs_background": "light"
     },
     "output_type": "display_data"
    },
    {
     "name": "stdout",
     "output_type": "stream",
     "text": [
      "\n",
      " \n",
      "\n",
      "Trait to predict:  consc\n"
     ]
    },
    {
     "name": "stderr",
     "output_type": "stream",
     "text": [
      "/home/sophia/ma_py/.venv/lib/python3.8/site-packages/sklearn/feature_selection/_variance_threshold.py:78: RuntimeWarning: Degrees of freedom <= 0 for slice.\n",
      "  self.variances_ = np.nanvar(X, axis=0)\n",
      "/home/sophia/ma_py/.venv/lib/python3.8/site-packages/sklearn/feature_selection/_variance_threshold.py:86: RuntimeWarning: All-NaN slice encountered\n",
      "  self.variances_ = np.nanmin(compare_arr, axis=0)\n"
     ]
    },
    {
     "name": "stdout",
     "output_type": "stream",
     "text": [
      "Number of authors in y_pred:  1204\n",
      "Names of the top 30 features: \n",
      " Index(['friday', 'march', 'june', 'november', '2017', 'cyberdom',\n",
      "       'tuckedinkitties', 'anno', 'astro_kpop', 'tfc', 'bimbofetish', 'ecchi',\n",
      "       'roadporn', 'roastmeta', 'kansascity', 'warframerunway', 'nova',\n",
      "       'allthingsmlg', 'floridaman', 'oliverfrancis', 'motog', 'funaskreddit',\n",
      "       'notthebeaverton', 'intp_void', 'chords', 'thaumcraft',\n",
      "       'technoproduction', 'penismeasured', 'goldlittlefinger', 'burningman'],\n",
      "      dtype='object') \n",
      "\n"
     ]
    },
    {
     "data": {
      "image/png": "[encoded data removed]",
      "text/plain": [
       "<Figure size 432x288 with 1 Axes>"
      ]
     },
     "metadata": {
      "needs_background": "light"
     },
     "output_type": "display_data"
    },
    {
     "name": "stdout",
     "output_type": "stream",
     "text": [
      "\n",
      "P-Values: \n",
      "                  Specs     Score   P-Value\n",
      "8275              motog  9.064489  0.002661\n",
      "2610              ecchi  7.241114  0.007224\n",
      "2235                tfc  7.053449  0.008016\n",
      "1537               anno  6.898780  0.008735\n",
      "12693     penismeasured  6.623317  0.010184\n",
      "13968        burningman  6.577558  0.010448\n",
      "14                 june  6.520094  0.010789\n",
      "4262     warframerunway  6.192990  0.012960\n",
      "2828           roadporn  6.064801  0.013930\n",
      "3066          roastmeta  6.054158  0.014013\n",
      "7765      oliverfrancis  6.041811  0.014111\n",
      "6386       allthingsmlg  5.869956  0.015548\n",
      "11936  technoproduction  5.635903  0.017753\n",
      "1614         astro_kpop  5.510122  0.019068\n",
      "10161         intp_void  5.374429  0.020601\n",
      "11439        thaumcraft  5.350136  0.020889\n",
      "6                friday  5.342406  0.020981\n",
      "8756    notthebeaverton  5.247861  0.022146\n",
      "8345       funaskreddit  5.195648  0.022818\n",
      "5470               nova  5.176906  0.023064\n",
      "2285        bimbofetish  5.079786  0.024386\n",
      "6600         floridaman  5.049092  0.024820\n",
      "11                march  5.013221  0.025337\n",
      "23                 2017  4.941142  0.026410\n",
      "19             november  4.936117  0.026487\n",
      "475            cyberdom  4.910511  0.026880\n",
      "11046            chords  4.910511  0.026880\n",
      "13069  goldlittlefinger  4.910511  0.026880\n",
      "912     tuckedinkitties  4.861734  0.027648\n",
      "3224         kansascity  4.787543  0.028858\n",
      "\n",
      "\n",
      "TN, FP, FN, TP:  724 22 366 92 \n",
      "Sum:  1204 \n",
      "Sum correct predictions:  816 Percent:  0.6777408637873754 \n",
      "Sum wrong predictions:  388 \tPercent:  0.3222591362126246 \n",
      "Sum actual positives:  458 \tPercent:  0.3803986710963455 \n",
      "Sum actual negatives:  746 \tPercent:  0.6196013289036545\n"
     ]
    },
    {
     "data": {
      "image/png": "[encoded data removed]",
      "text/plain": [
       "<Figure size 432x288 with 2 Axes>"
      ]
     },
     "metadata": {
      "needs_background": "light"
     },
     "output_type": "display_data"
    },
    {
     "name": "stdout",
     "output_type": "stream",
     "text": [
      "Classification report: \n",
      "               precision    recall  f1-score   support\n",
      "\n",
      "           0       0.66      0.97      0.79       746\n",
      "           1       0.81      0.20      0.32       458\n",
      "\n",
      "    accuracy                           0.68      1204\n",
      "   macro avg       0.74      0.59      0.56      1204\n",
      "weighted avg       0.72      0.68      0.61      1204\n",
      "\n"
     ]
    },
    {
     "data": {
      "image/png": "[encoded data removed]",
      "text/plain": [
       "<Figure size 432x288 with 1 Axes>"
      ]
     },
     "metadata": {
      "needs_background": "light"
     },
     "output_type": "display_data"
    },
    {
     "name": "stdout",
     "output_type": "stream",
     "text": [
      "\n",
      " \n",
      "\n",
      "Trait to predict:  extra\n"
     ]
    },
    {
     "name": "stderr",
     "output_type": "stream",
     "text": [
      "/home/sophia/ma_py/.venv/lib/python3.8/site-packages/sklearn/feature_selection/_variance_threshold.py:78: RuntimeWarning: Degrees of freedom <= 0 for slice.\n",
      "  self.variances_ = np.nanvar(X, axis=0)\n",
      "/home/sophia/ma_py/.venv/lib/python3.8/site-packages/sklearn/feature_selection/_variance_threshold.py:86: RuntimeWarning: All-NaN slice encountered\n",
      "  self.variances_ = np.nanmin(compare_arr, axis=0)\n"
     ]
    },
    {
     "name": "stdout",
     "output_type": "stream",
     "text": [
      "Number of authors in y_pred:  1204\n",
      "Names of the top 30 features: \n",
      " Index(['aram', 'astro_kpop', 'politicsnow', 'goldenkamuy', 'theexaminedlife',\n",
      "       '300yearsago', 'newgirl', 'stretched', 'learncsharp', 'studioone',\n",
      "       'pokememes', 'birthday', 'bigtiddygothgf', 'mepl', 'christianr4r',\n",
      "       'ridiebridie', 'ableton', 'oopsdidntmeanto', 'motog', 'psych_religion',\n",
      "       'ubc', 'draintheswamp', 'fcdallas', 'germanstorytime',\n",
      "       'thedivision_lfg', 'vikings_tvseries', 'asoue', 'boobbounce', 'twice',\n",
      "       'oilpen'],\n",
      "      dtype='object') \n",
      "\n"
     ]
    },
    {
     "data": {
      "image/png": "[encoded data removed]",
      "text/plain": [
       "<Figure size 432x288 with 1 Axes>"
      ]
     },
     "metadata": {
      "needs_background": "light"
     },
     "output_type": "display_data"
    },
    {
     "name": "stdout",
     "output_type": "stream",
     "text": [
      "\n",
      "P-Values: \n",
      "                  Specs      Score   P-Value\n",
      "9750    thedivision_lfg  17.873165  0.000025\n",
      "4419               mepl  10.825511  0.001030\n",
      "8166    oopsdidntmeanto  10.604242  0.001160\n",
      "12091        boobbounce   8.724362  0.003201\n",
      "8275              motog   8.673804  0.003290\n",
      "8617     psych_religion   8.141577  0.004400\n",
      "2688            newgirl   7.879252  0.005081\n",
      "3229          pokememes   7.389130  0.006656\n",
      "1614         astro_kpop   7.146599  0.007612\n",
      "7414            ableton   6.981127  0.008344\n",
      "4451       christianr4r   6.944239  0.008517\n",
      "1049               aram   6.917551  0.008644\n",
      "2475    theexaminedlife   6.808326  0.009186\n",
      "2945        learncsharp   6.590729  0.010371\n",
      "11272             asoue   6.342668  0.011916\n",
      "9847   vikings_tvseries   6.281404  0.012332\n",
      "2161        goldenkamuy   6.227581  0.012711\n",
      "13129            oilpen   5.916581  0.015144\n",
      "5797        ridiebridie   5.916293  0.015147\n",
      "9697    germanstorytime   5.644183  0.017669\n",
      "9356      draintheswamp   5.627994  0.017833\n",
      "3215          studioone   5.624237  0.017871\n",
      "4356     bigtiddygothgf   5.600006  0.018118\n",
      "2050        politicsnow   5.569199  0.018438\n",
      "9599           fcdallas   5.550551  0.018635\n",
      "2811          stretched   5.528715  0.018868\n",
      "8802                ubc   5.515986  0.019005\n",
      "2605        300yearsago   5.490926  0.019278\n",
      "3546           birthday   5.360024  0.020771\n",
      "12591             twice   5.340470  0.021004\n",
      "\n",
      "\n",
      "TN, FP, FN, TP:  754 25 319 106 \n",
      "Sum:  1204 \n",
      "Sum correct predictions:  860 Percent:  0.7142857142857143 \n",
      "Sum wrong predictions:  344 \tPercent:  0.2857142857142857 \n",
      "Sum actual positives:  425 \tPercent:  0.35299003322259137 \n",
      "Sum actual negatives:  779 \tPercent:  0.6470099667774086\n"
     ]
    },
    {
     "data": {
      "image/png": "[encoded data removed]",
      "text/plain": [
       "<Figure size 432x288 with 2 Axes>"
      ]
     },
     "metadata": {
      "needs_background": "light"
     },
     "output_type": "display_data"
    },
    {
     "name": "stdout",
     "output_type": "stream",
     "text": [
      "Classification report: \n",
      "               precision    recall  f1-score   support\n",
      "\n",
      "           0       0.70      0.97      0.81       779\n",
      "           1       0.81      0.25      0.38       425\n",
      "\n",
      "    accuracy                           0.71      1204\n",
      "   macro avg       0.76      0.61      0.60      1204\n",
      "weighted avg       0.74      0.71      0.66      1204\n",
      "\n"
     ]
    },
    {
     "data": {
      "image/png": "[encoded data removed]",
      "text/plain": [
       "<Figure size 432x288 with 1 Axes>"
      ]
     },
     "metadata": {
      "needs_background": "light"
     },
     "output_type": "display_data"
    },
    {
     "name": "stdout",
     "output_type": "stream",
     "text": [
      "\n",
      " \n",
      "\n",
      "Trait to predict:  neuro\n"
     ]
    },
    {
     "name": "stderr",
     "output_type": "stream",
     "text": [
      "/home/sophia/ma_py/.venv/lib/python3.8/site-packages/sklearn/feature_selection/_variance_threshold.py:78: RuntimeWarning: Degrees of freedom <= 0 for slice.\n",
      "  self.variances_ = np.nanvar(X, axis=0)\n",
      "/home/sophia/ma_py/.venv/lib/python3.8/site-packages/sklearn/feature_selection/_variance_threshold.py:86: RuntimeWarning: All-NaN slice encountered\n",
      "  self.variances_ = np.nanmin(compare_arr, axis=0)\n"
     ]
    },
    {
     "name": "stdout",
     "output_type": "stream",
     "text": [
      "Number of authors in y_pred:  1204\n",
      "Names of the top 30 features: \n",
      " Index(['hammer', 'onetruetohsaka', 'rightwinguk', 'smallpenisproblems', '5htp',\n",
      "       'actuary', 'g59', 'dae', 'intpmusic', 'm43', 'thegoodplace', 'gog',\n",
      "       'amumumains', 'mammothmountain', 'dsp', 'riseupp', 'bacon',\n",
      "       'thegreatwarchannel', 'iconsgg', 'writingcirclejerk',\n",
      "       'asianparentstories', 'pokemongonova', 'ehm', 'skyrimjourney',\n",
      "       'starwarsrebels', 'mctv', 'amifat', 'puremathematics', '52in52',\n",
      "       'vexillology'],\n",
      "      dtype='object') \n",
      "\n"
     ]
    },
    {
     "data": {
      "image/png": "[encoded data removed]",
      "text/plain": [
       "<Figure size 432x288 with 1 Axes>"
      ]
     },
     "metadata": {
      "needs_background": "light"
     },
     "output_type": "display_data"
    },
    {
     "name": "stdout",
     "output_type": "stream",
     "text": [
      "\n",
      "P-Values: \n",
      "                    Specs     Score   P-Value\n",
      "1902   smallpenisproblems  7.782986  0.005357\n",
      "7584                  gog  6.298435  0.012215\n",
      "13969         vexillology  6.126410  0.013455\n",
      "3126              actuary  6.100193  0.013655\n",
      "13966              52in52  5.835265  0.015856\n",
      "414           rightwinguk  5.825633  0.015943\n",
      "4163                  dae  5.596743  0.018152\n",
      "11653       pokemongonova  5.592188  0.018199\n",
      "10178  thegreatwarchannel  5.538586  0.018762\n",
      "13289                mctv  5.342305  0.020982\n",
      "10767  asianparentstories  5.312014  0.021349\n",
      "7609           amumumains  5.260754  0.021983\n",
      "8989              riseupp  5.243902  0.022196\n",
      "10473             iconsgg  5.173415  0.023111\n",
      "9175                bacon  5.087755  0.024275\n",
      "12241       skyrimjourney  4.984573  0.025758\n",
      "11948                 ehm  4.869220  0.027528\n",
      "8982                  dsp  4.854575  0.027762\n",
      "6907         thegoodplace  4.825754  0.028228\n",
      "13889     puremathematics  4.754735  0.029411\n",
      "13504              amifat  4.727510  0.029878\n",
      "12957      starwarsrebels  4.637445  0.031480\n",
      "266                hammer  4.623425  0.031737\n",
      "4719                  m43  4.549010  0.033140\n",
      "8246      mammothmountain  4.543263  0.033251\n",
      "10554   writingcirclejerk  4.516758  0.033768\n",
      "4457            intpmusic  4.488419  0.034330\n",
      "320        onetruetohsaka  4.299663  0.038333\n",
      "2357                 5htp  4.257509  0.039292\n",
      "3310                  g59  4.251135  0.039439\n",
      "\n",
      "\n",
      "TN, FP, FN, TP:  410 182 283 329 \n",
      "Sum:  1204 \n",
      "Sum correct predictions:  739 Percent:  0.6137873754152824 \n",
      "Sum wrong predictions:  465 \tPercent:  0.3862126245847176 \n",
      "Sum actual positives:  612 \tPercent:  0.5083056478405316 \n",
      "Sum actual negatives:  592 \tPercent:  0.49169435215946844\n"
     ]
    },
    {
     "data": {
      "image/png": "[encoded data removed]",
      "text/plain": [
       "<Figure size 432x288 with 2 Axes>"
      ]
     },
     "metadata": {
      "needs_background": "light"
     },
     "output_type": "display_data"
    },
    {
     "name": "stdout",
     "output_type": "stream",
     "text": [
      "Classification report: \n",
      "               precision    recall  f1-score   support\n",
      "\n",
      "           0       0.59      0.69      0.64       592\n",
      "           1       0.64      0.54      0.59       612\n",
      "\n",
      "    accuracy                           0.61      1204\n",
      "   macro avg       0.62      0.62      0.61      1204\n",
      "weighted avg       0.62      0.61      0.61      1204\n",
      "\n"
     ]
    },
    {
     "data": {
      "image/png": "[encoded data removed]",
      "text/plain": [
       "<Figure size 432x288 with 1 Axes>"
      ]
     },
     "metadata": {
      "needs_background": "light"
     },
     "output_type": "display_data"
    },
    {
     "name": "stdout",
     "output_type": "stream",
     "text": [
      "\n",
      " \n",
      "\n"
     ]
    }
   ],
   "source": [
    "classify_trainset(psychdf, \"agree\", start, plotting=True)\n",
    "classify_trainset(psychdf, \"openn\", start, plotting=True)\n",
    "classify_trainset(psychdf, \"consc\", start, plotting=True)\n",
    "classify_trainset(psychdf, \"extra\", start, plotting=True)\n",
    "classify_trainset(psychdf, \"neuro\", start, plotting=True)"
   ]
  },
  {
   "cell_type": "code",
   "execution_count": null,
   "metadata": {},
   "outputs": [],
   "source": []
  }
 ],
 "metadata": {
  "kernelspec": {
   "display_name": ".venv",
   "language": "python",
   "name": ".venv"
  },
  "language_info": {
   "codemirror_mode": {
    "name": "ipython",
    "version": 3
   },
   "file_extension": ".py",
   "mimetype": "text/x-python",
   "name": "python",
   "nbconvert_exporter": "python",
   "pygments_lexer": "ipython3",
   "version": "3.8.5"
  }
 },
 "nbformat": 4,
 "nbformat_minor": 4
}
